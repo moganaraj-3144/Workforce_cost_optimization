{
 "cells": [
  {
   "cell_type": "code",
   "execution_count": 1,
   "id": "47d85dbb-b8c6-4e76-a446-24034d37bcbc",
   "metadata": {},
   "outputs": [],
   "source": [
    "import pandas as pd\n",
    "import numpy as np\n",
    "import re"
   ]
  },
  {
   "cell_type": "code",
   "execution_count": 2,
   "id": "4f87c7a4-b1ac-42aa-97e5-930e8b2724b9",
   "metadata": {},
   "outputs": [],
   "source": [
    "import matplotlib.pyplot as plt\n",
    "import seaborn as sns"
   ]
  },
  {
   "cell_type": "code",
   "execution_count": 3,
   "id": "f127b820-3fc6-42a7-9550-4454826489c9",
   "metadata": {},
   "outputs": [],
   "source": [
    "in_office_1 = pd.read_csv(\"usajobs_in_office_data_software.csv\")\n",
    "in_office_2 = pd.read_csv(\"usajobs_in_office_data_Operations Research Analysts.csv\")\n",
    "in_office_3 = pd.read_csv(\"usajobs_in_office_data_Management analysts.csv\")\n",
    "in_office_4 = pd.read_csv(\"usajobs_in_office_data_ITProject.csv\")\n",
    "in_office_5 = pd.read_csv(\"usajobs_in_office_data_dataanalyst.csv\")\n",
    "in_office_6 = pd.read_csv(\"usajobs_in_office_data_cybersecurity.csv\")\n",
    "#remote_wages = pd.read_csv(\"IT_Project_Manager_wages_remote.csv\")"
   ]
  },
  {
   "cell_type": "code",
   "execution_count": 4,
   "id": "7e57d946-a555-49b7-9466-d2f9872a2b4f",
   "metadata": {},
   "outputs": [],
   "source": [
    "# Add Role column for each dataset\n",
    "in_office_1['Role'] = 'Software'\n",
    "in_office_2['Role'] = 'Operations Research Analyst'\n",
    "in_office_3['Role'] = 'Management Analyst'\n",
    "in_office_4['Role'] = 'IT Project'\n",
    "in_office_5['Role'] = 'Data Analyst'\n",
    "in_office_6['Role'] = 'Cybersecurity'"
   ]
  },
  {
   "cell_type": "code",
   "execution_count": 5,
   "id": "12d3f644-33f2-4a44-a2e5-494336a08b0c",
   "metadata": {},
   "outputs": [
    {
     "name": "stdout",
     "output_type": "stream",
     "text": [
      "Index(['Job Title', 'Location', 'Pay', 'Average Salary', 'Role'], dtype='object') Index(['Job Title', 'Location', 'Pay', 'Average Salary', 'Role'], dtype='object') Index(['Job Title', 'Location', 'Pay', 'Average Salary', 'Role'], dtype='object') Index(['Job Title', 'Location', 'Pay', 'Average Salary', 'Role'], dtype='object') Index(['Job Title', 'Location', 'Pay', 'Average Salary', 'Role'], dtype='object') Index(['Job Title', 'Location', 'Pay', 'Average Salary', 'Role'], dtype='object')\n"
     ]
    }
   ],
   "source": [
    "print(in_office_1.columns,in_office_2.columns,in_office_3.columns,in_office_4.columns,in_office_5.columns,in_office_6.columns)"
   ]
  },
  {
   "cell_type": "code",
   "execution_count": 6,
   "id": "a43bcffc-b4f5-4c16-8570-73d2ad28c5aa",
   "metadata": {},
   "outputs": [
    {
     "data": {
      "text/html": [
       "<div>\n",
       "<style scoped>\n",
       "    .dataframe tbody tr th:only-of-type {\n",
       "        vertical-align: middle;\n",
       "    }\n",
       "\n",
       "    .dataframe tbody tr th {\n",
       "        vertical-align: top;\n",
       "    }\n",
       "\n",
       "    .dataframe thead th {\n",
       "        text-align: right;\n",
       "    }\n",
       "</style>\n",
       "<table border=\"1\" class=\"dataframe\">\n",
       "  <thead>\n",
       "    <tr style=\"text-align: right;\">\n",
       "      <th></th>\n",
       "      <th>Job Title</th>\n",
       "      <th>Location</th>\n",
       "      <th>Pay</th>\n",
       "      <th>Average Salary</th>\n",
       "      <th>Role</th>\n",
       "    </tr>\n",
       "  </thead>\n",
       "  <tbody>\n",
       "    <tr>\n",
       "      <th>0</th>\n",
       "      <td>Software Engineer II</td>\n",
       "      <td>Washington DC, District of Columbia</td>\n",
       "      <td>$103500.0 - $128400.0</td>\n",
       "      <td>115950.0</td>\n",
       "      <td>Software</td>\n",
       "    </tr>\n",
       "    <tr>\n",
       "      <th>1</th>\n",
       "      <td>INFORMATION TECHNOLOGY SPECIALIST (APPLICATION...</td>\n",
       "      <td>Wright-Patterson AFB, Ohio</td>\n",
       "      <td>$90178.0 - $117227.0</td>\n",
       "      <td>103702.5</td>\n",
       "      <td>Software</td>\n",
       "    </tr>\n",
       "    <tr>\n",
       "      <th>2</th>\n",
       "      <td>IT Specialist (Systems Analysis/Applications S...</td>\n",
       "      <td>Carson, California</td>\n",
       "      <td>$105383.0 - $159716.0</td>\n",
       "      <td>132549.5</td>\n",
       "      <td>Software</td>\n",
       "    </tr>\n",
       "    <tr>\n",
       "      <th>3</th>\n",
       "      <td>IT SPECIALIST (INFOSEC)</td>\n",
       "      <td>Aberdeen Proving Ground, Maryland</td>\n",
       "      <td>$101401.0 - $156755.0</td>\n",
       "      <td>129078.0</td>\n",
       "      <td>Software</td>\n",
       "    </tr>\n",
       "    <tr>\n",
       "      <th>4</th>\n",
       "      <td>Programmer Analyst</td>\n",
       "      <td>Savannah, Georgia</td>\n",
       "      <td>$69551.0 - $86962.0</td>\n",
       "      <td>78256.5</td>\n",
       "      <td>Software</td>\n",
       "    </tr>\n",
       "    <tr>\n",
       "      <th>5</th>\n",
       "      <td>IT SPECIALIST (PLCYPLN)</td>\n",
       "      <td>National Maritime Intelligence Center, Maryland</td>\n",
       "      <td>$120579.0 - $156755.0</td>\n",
       "      <td>138667.0</td>\n",
       "      <td>Software</td>\n",
       "    </tr>\n",
       "    <tr>\n",
       "      <th>6</th>\n",
       "      <td>IT Specialist (Project Management)</td>\n",
       "      <td>Atlanta, Georgia</td>\n",
       "      <td>$93716.0 - $121837.0</td>\n",
       "      <td>107776.5</td>\n",
       "      <td>Software</td>\n",
       "    </tr>\n",
       "    <tr>\n",
       "      <th>7</th>\n",
       "      <td>IT SPECIALIST (SYSADMIN)</td>\n",
       "      <td>Des Moines, Iowa</td>\n",
       "      <td>$89341.0 - $116148.0</td>\n",
       "      <td>102744.5</td>\n",
       "      <td>Software</td>\n",
       "    </tr>\n",
       "    <tr>\n",
       "      <th>8</th>\n",
       "      <td>SECRETARY (OFFICE AUTOMATION)</td>\n",
       "      <td>Ellsworth AFB, South Dakota</td>\n",
       "      <td>$44959.0 - $58445.0</td>\n",
       "      <td>51702.0</td>\n",
       "      <td>Software</td>\n",
       "    </tr>\n",
       "    <tr>\n",
       "      <th>9</th>\n",
       "      <td>IT CYBERSECURITY SPECIALIST (APPSW/INFOSEC)</td>\n",
       "      <td>Indianapolis, Indiana</td>\n",
       "      <td>$74627.0 - $100361.0</td>\n",
       "      <td>87494.0</td>\n",
       "      <td>Software</td>\n",
       "    </tr>\n",
       "  </tbody>\n",
       "</table>\n",
       "</div>"
      ],
      "text/plain": [
       "                                           Job Title  \\\n",
       "0                               Software Engineer II   \n",
       "1  INFORMATION TECHNOLOGY SPECIALIST (APPLICATION...   \n",
       "2  IT Specialist (Systems Analysis/Applications S...   \n",
       "3                            IT SPECIALIST (INFOSEC)   \n",
       "4                                 Programmer Analyst   \n",
       "5                            IT SPECIALIST (PLCYPLN)   \n",
       "6                 IT Specialist (Project Management)   \n",
       "7                           IT SPECIALIST (SYSADMIN)   \n",
       "8                      SECRETARY (OFFICE AUTOMATION)   \n",
       "9        IT CYBERSECURITY SPECIALIST (APPSW/INFOSEC)   \n",
       "\n",
       "                                          Location                    Pay  \\\n",
       "0              Washington DC, District of Columbia  $103500.0 - $128400.0   \n",
       "1                       Wright-Patterson AFB, Ohio   $90178.0 - $117227.0   \n",
       "2                               Carson, California  $105383.0 - $159716.0   \n",
       "3                Aberdeen Proving Ground, Maryland  $101401.0 - $156755.0   \n",
       "4                                Savannah, Georgia    $69551.0 - $86962.0   \n",
       "5  National Maritime Intelligence Center, Maryland  $120579.0 - $156755.0   \n",
       "6                                 Atlanta, Georgia   $93716.0 - $121837.0   \n",
       "7                                 Des Moines, Iowa   $89341.0 - $116148.0   \n",
       "8                      Ellsworth AFB, South Dakota    $44959.0 - $58445.0   \n",
       "9                            Indianapolis, Indiana   $74627.0 - $100361.0   \n",
       "\n",
       "   Average Salary      Role  \n",
       "0        115950.0  Software  \n",
       "1        103702.5  Software  \n",
       "2        132549.5  Software  \n",
       "3        129078.0  Software  \n",
       "4         78256.5  Software  \n",
       "5        138667.0  Software  \n",
       "6        107776.5  Software  \n",
       "7        102744.5  Software  \n",
       "8         51702.0  Software  \n",
       "9         87494.0  Software  "
      ]
     },
     "execution_count": 6,
     "metadata": {},
     "output_type": "execute_result"
    }
   ],
   "source": [
    "# Concatenate all the office wages datasets\n",
    "in_office_wages = pd.concat([in_office_1,in_office_2,in_office_3,in_office_4,in_office_5,in_office_6]).reset_index(drop=True)\n",
    "\n",
    "in_office_wages.head(10)"
   ]
  },
  {
   "cell_type": "code",
   "execution_count": 7,
   "id": "e9b34839-3d8b-4331-9168-ffa716bb1276",
   "metadata": {},
   "outputs": [
    {
     "data": {
      "text/plain": [
       "(397, 5)"
      ]
     },
     "execution_count": 7,
     "metadata": {},
     "output_type": "execute_result"
    }
   ],
   "source": [
    "in_office_wages.shape"
   ]
  },
  {
   "cell_type": "code",
   "execution_count": 8,
   "id": "bc34f0c4-a52f-4119-85c4-962093be5d5d",
   "metadata": {},
   "outputs": [
    {
     "data": {
      "text/plain": [
       "Job Title         0\n",
       "Location          0\n",
       "Pay               0\n",
       "Average Salary    0\n",
       "Role              0\n",
       "dtype: int64"
      ]
     },
     "execution_count": 8,
     "metadata": {},
     "output_type": "execute_result"
    }
   ],
   "source": [
    "in_office_wages.isna().sum()"
   ]
  },
  {
   "cell_type": "code",
   "execution_count": 9,
   "id": "e738924c-a54e-4473-9478-9634130e42ee",
   "metadata": {},
   "outputs": [],
   "source": [
    "office_space = pd.read_csv(\"Office_rent.csv\")  \n",
    "remote_expenses = pd.read_csv(\"remoteExpenses.csv\")\n",
    "commute_costs = pd.read_csv(\"Commute Cost.csv\")\n",
    "electricity_rates = pd.read_csv(\"electricity_rates.csv\")\n",
    "col = pd.read_csv(\"cost_of_living_index.csv\")"
   ]
  },
  {
   "cell_type": "code",
   "execution_count": 10,
   "id": "dba67994-de1a-47f3-8749-98852e59e986",
   "metadata": {},
   "outputs": [
    {
     "data": {
      "text/html": [
       "<div>\n",
       "<style scoped>\n",
       "    .dataframe tbody tr th:only-of-type {\n",
       "        vertical-align: middle;\n",
       "    }\n",
       "\n",
       "    .dataframe tbody tr th {\n",
       "        vertical-align: top;\n",
       "    }\n",
       "\n",
       "    .dataframe thead th {\n",
       "        text-align: right;\n",
       "    }\n",
       "</style>\n",
       "<table border=\"1\" class=\"dataframe\">\n",
       "  <thead>\n",
       "    <tr style=\"text-align: right;\">\n",
       "      <th></th>\n",
       "      <th>Job Title</th>\n",
       "      <th>Location</th>\n",
       "      <th>Pay</th>\n",
       "      <th>Average Salary</th>\n",
       "      <th>Role</th>\n",
       "      <th>City</th>\n",
       "      <th>State</th>\n",
       "    </tr>\n",
       "  </thead>\n",
       "  <tbody>\n",
       "    <tr>\n",
       "      <th>0</th>\n",
       "      <td>Software Engineer II</td>\n",
       "      <td>Washington DC, District of Columbia</td>\n",
       "      <td>$103500.0 - $128400.0</td>\n",
       "      <td>115950.0</td>\n",
       "      <td>Software</td>\n",
       "      <td>Washington DC</td>\n",
       "      <td>District of Columbia</td>\n",
       "    </tr>\n",
       "    <tr>\n",
       "      <th>1</th>\n",
       "      <td>INFORMATION TECHNOLOGY SPECIALIST (APPLICATION...</td>\n",
       "      <td>Wright-Patterson AFB, Ohio</td>\n",
       "      <td>$90178.0 - $117227.0</td>\n",
       "      <td>103702.5</td>\n",
       "      <td>Software</td>\n",
       "      <td>Wright-Patterson AFB</td>\n",
       "      <td>Ohio</td>\n",
       "    </tr>\n",
       "    <tr>\n",
       "      <th>2</th>\n",
       "      <td>IT Specialist (Systems Analysis/Applications S...</td>\n",
       "      <td>Carson, California</td>\n",
       "      <td>$105383.0 - $159716.0</td>\n",
       "      <td>132549.5</td>\n",
       "      <td>Software</td>\n",
       "      <td>Carson</td>\n",
       "      <td>California</td>\n",
       "    </tr>\n",
       "    <tr>\n",
       "      <th>3</th>\n",
       "      <td>IT SPECIALIST (INFOSEC)</td>\n",
       "      <td>Aberdeen Proving Ground, Maryland</td>\n",
       "      <td>$101401.0 - $156755.0</td>\n",
       "      <td>129078.0</td>\n",
       "      <td>Software</td>\n",
       "      <td>Aberdeen Proving Ground</td>\n",
       "      <td>Maryland</td>\n",
       "    </tr>\n",
       "    <tr>\n",
       "      <th>4</th>\n",
       "      <td>Programmer Analyst</td>\n",
       "      <td>Savannah, Georgia</td>\n",
       "      <td>$69551.0 - $86962.0</td>\n",
       "      <td>78256.5</td>\n",
       "      <td>Software</td>\n",
       "      <td>Savannah</td>\n",
       "      <td>Georgia</td>\n",
       "    </tr>\n",
       "  </tbody>\n",
       "</table>\n",
       "</div>"
      ],
      "text/plain": [
       "                                           Job Title  \\\n",
       "0                               Software Engineer II   \n",
       "1  INFORMATION TECHNOLOGY SPECIALIST (APPLICATION...   \n",
       "2  IT Specialist (Systems Analysis/Applications S...   \n",
       "3                            IT SPECIALIST (INFOSEC)   \n",
       "4                                 Programmer Analyst   \n",
       "\n",
       "                              Location                    Pay  Average Salary  \\\n",
       "0  Washington DC, District of Columbia  $103500.0 - $128400.0        115950.0   \n",
       "1           Wright-Patterson AFB, Ohio   $90178.0 - $117227.0        103702.5   \n",
       "2                   Carson, California  $105383.0 - $159716.0        132549.5   \n",
       "3    Aberdeen Proving Ground, Maryland  $101401.0 - $156755.0        129078.0   \n",
       "4                    Savannah, Georgia    $69551.0 - $86962.0         78256.5   \n",
       "\n",
       "       Role                     City                 State  \n",
       "0  Software            Washington DC  District of Columbia  \n",
       "1  Software     Wright-Patterson AFB                  Ohio  \n",
       "2  Software                   Carson            California  \n",
       "3  Software  Aberdeen Proving Ground              Maryland  \n",
       "4  Software                 Savannah               Georgia  "
      ]
     },
     "execution_count": 10,
     "metadata": {},
     "output_type": "execute_result"
    }
   ],
   "source": [
    "# Standardize the Location format\n",
    "def standardize_location(location):\n",
    "    parts = location.split(', ')\n",
    "    if len(parts) == 2:\n",
    "        city, state = parts[0], parts[1]\n",
    "    else:\n",
    "        city, state = None, parts[0]  # State-only entry\n",
    "    return city, state\n",
    "\n",
    "# Apply the location standardization\n",
    "in_office_wages[['City', 'State']] = in_office_wages['Location'].apply(standardize_location).apply(pd.Series)\n",
    "in_office_wages.head()"
   ]
  },
  {
   "cell_type": "code",
   "execution_count": 11,
   "id": "58df5c21-363f-4b39-a341-68df45ca0209",
   "metadata": {},
   "outputs": [
    {
     "data": {
      "text/plain": [
       "array(['District of Columbia', 'Ohio', 'California', 'Maryland',\n",
       "       'Georgia', 'Iowa', 'South Dakota', 'Indiana', 'Washington',\n",
       "       'Naval Support Activity', 'North Dakota', 'Nevada', 'Colorado',\n",
       "       'Alaska', 'Naval Medical Center', 'Texas', 'Nebraska', 'Oklahoma',\n",
       "       'New Mexico', 'Virginia', 'New York', 'Dam Neck Naval Facility',\n",
       "       'Rhode Island', 'Wisconsin', 'Vermont', 'Belgium',\n",
       "       'North Carolina', 'Missouri', 'Kentucky', 'Alabama', 'Hawaii',\n",
       "       'Connecticut', 'Pennsylvania',\n",
       "       'Naval Facilities Engineering Command', 'Louisiana', 'Wyoming',\n",
       "       'Naval Base', 'Florida', 'South Carolina', 'Pentagon', 'Utah',\n",
       "       'Naval Station Complex', 'Arizona', 'Montana', 'Illinois',\n",
       "       'Singapore', 'New Jersey', 'Virgin Islands', 'Michigan',\n",
       "       'Mississippi', 'American Samoa', 'Tennessee', 'Guam', 'Maine',\n",
       "       'Kansas', 'Delaware', 'Naval Shipyard', 'Idaho'], dtype=object)"
      ]
     },
     "execution_count": 11,
     "metadata": {},
     "output_type": "execute_result"
    }
   ],
   "source": [
    "in_office_wages['State'].unique()"
   ]
  },
  {
   "cell_type": "code",
   "execution_count": 12,
   "id": "9e2e8a64-9878-460b-9c1b-0b67b8d34cf2",
   "metadata": {},
   "outputs": [
    {
     "name": "stdout",
     "output_type": "stream",
     "text": [
      "0    Alabama\n",
      "1    Alabama\n",
      "2    Alabama\n",
      "3    Alabama\n",
      "4    Alabama\n",
      "Name: State, dtype: object\n",
      "0         Texas\n",
      "1      Michigan\n",
      "2          Ohio\n",
      "3    New Mexico\n",
      "4       Georgia\n",
      "Name: State, dtype: object\n"
     ]
    }
   ],
   "source": [
    "# Dictionary mapping state abbreviations to full state names\n",
    "state_abbreviation_map = {\n",
    "    'AL': 'Alabama', 'AK': 'Alaska', 'AZ': 'Arizona', 'AR': 'Arkansas', 'CA': 'California',\n",
    "    'CO': 'Colorado', 'CT': 'Connecticut', 'DE': 'Delaware', 'FL': 'Florida', 'GA': 'Georgia',\n",
    "    'HI': 'Hawaii', 'ID': 'Idaho', 'IL': 'Illinois', 'IN': 'Indiana', 'IA': 'Iowa', 'KS': 'Kansas',\n",
    "    'KY': 'Kentucky', 'LA': 'Louisiana', 'ME': 'Maine', 'MD': 'Maryland', 'MA': 'Massachusetts',\n",
    "    'MI': 'Michigan', 'MN': 'Minnesota', 'MS': 'Mississippi', 'MO': 'Missouri', 'MT': 'Montana',\n",
    "    'NE': 'Nebraska', 'NV': 'Nevada', 'NH': 'New Hampshire', 'NJ': 'New Jersey', 'NM': 'New Mexico',\n",
    "    'NY': 'New York', 'NC': 'North Carolina', 'ND': 'North Dakota', 'OH': 'Ohio', 'OK': 'Oklahoma',\n",
    "    'OR': 'Oregon', 'PA': 'Pennsylvania', 'RI': 'Rhode Island', 'SC': 'South Carolina', 'SD': 'South Dakota',\n",
    "    'TN': 'Tennessee', 'TX': 'Texas', 'UT': 'Utah', 'VT': 'Vermont', 'VA': 'Virginia', 'WA': 'Washington',\n",
    "    'WV': 'West Virginia', 'WI': 'Wisconsin', 'WY': 'Wyoming', 'DC':'District of Columbia', 'Unknown':'Unknown'\n",
    "}\n",
    "\n",
    "\n",
    "# Now apply the mapping\n",
    "office_space['State'] = office_space['State'].map(state_abbreviation_map)\n",
    "col['State'] = col['State'].map(state_abbreviation_map)\n",
    "\n",
    "# Display a sample of the result\n",
    "print(office_space['State'].head())\n",
    "print(col['State'].head())"
   ]
  },
  {
   "cell_type": "code",
   "execution_count": 13,
   "id": "0d5a8242-e4e5-466b-8eca-575540534a46",
   "metadata": {},
   "outputs": [],
   "source": [
    "in_office_wages = in_office_wages.drop('Pay', axis=1)"
   ]
  },
  {
   "cell_type": "code",
   "execution_count": null,
   "id": "c7cfd185-dcdd-44ea-b232-35d535fb3225",
   "metadata": {},
   "outputs": [],
   "source": []
  },
  {
   "cell_type": "markdown",
   "id": "9d2a2d5f-479c-433c-b80e-22ca75902fe7",
   "metadata": {},
   "source": [
    "### Merging the datasets ###"
   ]
  },
  {
   "cell_type": "code",
   "execution_count": 15,
   "id": "152cab67-67ca-47ad-a3c3-20710f1a9d0d",
   "metadata": {},
   "outputs": [],
   "source": [
    "# Extracting only required columns\n",
    "in_office_wages = in_office_wages[[\"Job Title\", \"City\", \"State\", \"Average Salary\", \"Role\"]]\n",
    "\n",
    "office_space = office_space[[\"City\", \"State\", \"Avg. Rent\"]]\n",
    "\n",
    "remote_expenses = remote_expenses[[\"State\",\n",
    "                                   \"Average monthly payment\",\"Taxes, Fees and Government Surcharges on Wireless Service (%)\"]]\n",
    "\n",
    "commute_costs = commute_costs[[\"City\", \"State\", \"Annual Commute Cost\"]]"
   ]
  },
  {
   "cell_type": "code",
   "execution_count": 16,
   "id": "a8c725b0-48fc-423e-a632-485232bd1534",
   "metadata": {},
   "outputs": [],
   "source": [
    "# Rename columns\n",
    "in_office_wages.rename(columns={'Average Salary':'Salary_in_office'}, inplace=True)\n",
    "office_space.rename(columns={\"Avg. Rent\":\"Avg.OfficeRent_per_sqft\"}, inplace=True)\n",
    "remote_expenses.rename(columns={\"Average monthly payment\": \"Avg internet monthly payment\"}, inplace=True)"
   ]
  },
  {
   "cell_type": "code",
   "execution_count": 17,
   "id": "3f46827c-a836-4134-8956-729de740eb10",
   "metadata": {},
   "outputs": [
    {
     "name": "stderr",
     "output_type": "stream",
     "text": [
      "<>:2: SyntaxWarning: invalid escape sequence '\\$'\n",
      "<>:3: SyntaxWarning: invalid escape sequence '\\$'\n",
      "<>:2: SyntaxWarning: invalid escape sequence '\\$'\n",
      "<>:3: SyntaxWarning: invalid escape sequence '\\$'\n",
      "/var/folders/sx/60_bj5px0wx1bnj278_ft4b40000gn/T/ipykernel_71650/3895420475.py:2: SyntaxWarning: invalid escape sequence '\\$'\n",
      "  office_space['Avg.OfficeRent_per_sqft'] = office_space['Avg.OfficeRent_per_sqft'].replace({'\\$': '', ',': ''}, regex=True).astype(float)\n",
      "/var/folders/sx/60_bj5px0wx1bnj278_ft4b40000gn/T/ipykernel_71650/3895420475.py:3: SyntaxWarning: invalid escape sequence '\\$'\n",
      "  remote_expenses['Avg internet monthly payment'] = remote_expenses['Avg internet monthly payment'].replace({'\\$': '', ',': ''}, regex=True).astype(float)\n"
     ]
    }
   ],
   "source": [
    "# Remove '$' and convert to float\n",
    "office_space['Avg.OfficeRent_per_sqft'] = office_space['Avg.OfficeRent_per_sqft'].replace({'\\$': '', ',': ''}, regex=True).astype(float)\n",
    "remote_expenses['Avg internet monthly payment'] = remote_expenses['Avg internet monthly payment'].replace({'\\$': '', ',': ''}, regex=True).astype(float)\n",
    "electricity_rates['Electricity Price (cents per kWh)'] = electricity_rates['Residential electricity rates'].replace({'¢/kWh': '', ' ': ''}, regex=True).astype(float)\n",
    "commute_costs['Annual Commute Cost'] = (\n",
    "    commute_costs['Annual Commute Cost']\n",
    "    .astype(str)  # Convert to string first\n",
    "    .str.replace(r'[\\$,]', '', regex=True)  # Remove $ and ,\n",
    "    .astype(float)  # Convert back to float\n",
    ")\n"
   ]
  },
  {
   "cell_type": "code",
   "execution_count": 18,
   "id": "d2c25a04-ca7c-41ea-b432-5902673b2bb5",
   "metadata": {},
   "outputs": [
    {
     "data": {
      "text/plain": [
       "Job Title            0\n",
       "City                27\n",
       "State                0\n",
       "Salary_in_office     0\n",
       "Role                 0\n",
       "dtype: int64"
      ]
     },
     "execution_count": 18,
     "metadata": {},
     "output_type": "execute_result"
    }
   ],
   "source": [
    "in_office_wages.isna().sum()"
   ]
  },
  {
   "cell_type": "code",
   "execution_count": 25,
   "id": "5de447d9-9420-4957-9252-04718647b461",
   "metadata": {},
   "outputs": [],
   "source": [
    "#in_office_wages['City'].fillna('Unknown', inplace=True)\n",
    "in_office_wages.dropna(subset=['City'], inplace=True)"
   ]
  },
  {
   "cell_type": "code",
   "execution_count": 27,
   "id": "2f32537f-710a-48df-9642-4c20c1f38b90",
   "metadata": {},
   "outputs": [],
   "source": [
    "# Merge wages with office space costs on 'State'\n",
    "df = in_office_wages.merge(office_space, on=[\"City\",\"State\"], how=\"left\")"
   ]
  },
  {
   "cell_type": "code",
   "execution_count": 29,
   "id": "7ba25203-c87e-4d41-89b8-8787fc36e4ba",
   "metadata": {},
   "outputs": [],
   "source": [
    "# Merge with remote expenses on 'State'\n",
    "df = df.merge(remote_expenses, on=\"State\", how=\"left\")"
   ]
  },
  {
   "cell_type": "code",
   "execution_count": 31,
   "id": "47aad2c1-f4fe-4d66-a7b9-456b0f0b2783",
   "metadata": {},
   "outputs": [],
   "source": [
    "# Merge with commute costs on 'City' and 'State'\n",
    "df = df.merge(commute_costs, on=[\"City\", \"State\"], how=\"left\")"
   ]
  },
  {
   "cell_type": "code",
   "execution_count": 33,
   "id": "0d5661f2-f784-4c90-8e30-bd9e43038841",
   "metadata": {},
   "outputs": [],
   "source": [
    "# Merge with electricity on 'State'\n",
    "df = df.merge(electricity_rates, on=\"State\", how=\"left\")"
   ]
  },
  {
   "cell_type": "code",
   "execution_count": 35,
   "id": "8f2616a6-7f2a-49f5-919c-f9c046afdd79",
   "metadata": {},
   "outputs": [],
   "source": [
    "# Merge with COI on 'City' and 'State'\n",
    "df = df.merge(col, on=[\"City\", \"State\"], how=\"left\")"
   ]
  },
  {
   "cell_type": "code",
   "execution_count": 37,
   "id": "46dc3d45-2b27-4831-928e-7e6040611215",
   "metadata": {},
   "outputs": [
    {
     "data": {
      "text/html": [
       "<div>\n",
       "<style scoped>\n",
       "    .dataframe tbody tr th:only-of-type {\n",
       "        vertical-align: middle;\n",
       "    }\n",
       "\n",
       "    .dataframe tbody tr th {\n",
       "        vertical-align: top;\n",
       "    }\n",
       "\n",
       "    .dataframe thead th {\n",
       "        text-align: right;\n",
       "    }\n",
       "</style>\n",
       "<table border=\"1\" class=\"dataframe\">\n",
       "  <thead>\n",
       "    <tr style=\"text-align: right;\">\n",
       "      <th></th>\n",
       "      <th>Job Title</th>\n",
       "      <th>City</th>\n",
       "      <th>State</th>\n",
       "      <th>Salary_in_office</th>\n",
       "      <th>Role</th>\n",
       "      <th>Avg.OfficeRent_per_sqft</th>\n",
       "      <th>Avg internet monthly payment</th>\n",
       "      <th>Taxes, Fees and Government Surcharges on Wireless Service (%)</th>\n",
       "      <th>Annual Commute Cost</th>\n",
       "      <th>Residential electricity rates</th>\n",
       "      <th>Electricity Price (cents per kWh)</th>\n",
       "      <th>Cost of Living Index</th>\n",
       "    </tr>\n",
       "  </thead>\n",
       "  <tbody>\n",
       "    <tr>\n",
       "      <th>0</th>\n",
       "      <td>Software Engineer II</td>\n",
       "      <td>Washington DC</td>\n",
       "      <td>District of Columbia</td>\n",
       "      <td>115950.0</td>\n",
       "      <td>Software</td>\n",
       "      <td>NaN</td>\n",
       "      <td>NaN</td>\n",
       "      <td>NaN</td>\n",
       "      <td>NaN</td>\n",
       "      <td>NaN</td>\n",
       "      <td>NaN</td>\n",
       "      <td>NaN</td>\n",
       "    </tr>\n",
       "    <tr>\n",
       "      <th>1</th>\n",
       "      <td>INFORMATION TECHNOLOGY SPECIALIST (APPLICATION...</td>\n",
       "      <td>Wright-Patterson AFB</td>\n",
       "      <td>Ohio</td>\n",
       "      <td>103702.5</td>\n",
       "      <td>Software</td>\n",
       "      <td>NaN</td>\n",
       "      <td>NaN</td>\n",
       "      <td>NaN</td>\n",
       "      <td>NaN</td>\n",
       "      <td>15.98 ¢/kWh</td>\n",
       "      <td>15.98</td>\n",
       "      <td>NaN</td>\n",
       "    </tr>\n",
       "    <tr>\n",
       "      <th>2</th>\n",
       "      <td>IT Specialist (Systems Analysis/Applications S...</td>\n",
       "      <td>Carson</td>\n",
       "      <td>California</td>\n",
       "      <td>132549.5</td>\n",
       "      <td>Software</td>\n",
       "      <td>NaN</td>\n",
       "      <td>NaN</td>\n",
       "      <td>NaN</td>\n",
       "      <td>NaN</td>\n",
       "      <td>30.55 ¢/kWh</td>\n",
       "      <td>30.55</td>\n",
       "      <td>NaN</td>\n",
       "    </tr>\n",
       "    <tr>\n",
       "      <th>3</th>\n",
       "      <td>IT SPECIALIST (INFOSEC)</td>\n",
       "      <td>Aberdeen Proving Ground</td>\n",
       "      <td>Maryland</td>\n",
       "      <td>129078.0</td>\n",
       "      <td>Software</td>\n",
       "      <td>NaN</td>\n",
       "      <td>75.44</td>\n",
       "      <td>15.91</td>\n",
       "      <td>NaN</td>\n",
       "      <td>18.15 ¢/kWh</td>\n",
       "      <td>18.15</td>\n",
       "      <td>NaN</td>\n",
       "    </tr>\n",
       "    <tr>\n",
       "      <th>4</th>\n",
       "      <td>Programmer Analyst</td>\n",
       "      <td>Savannah</td>\n",
       "      <td>Georgia</td>\n",
       "      <td>78256.5</td>\n",
       "      <td>Software</td>\n",
       "      <td>NaN</td>\n",
       "      <td>NaN</td>\n",
       "      <td>NaN</td>\n",
       "      <td>NaN</td>\n",
       "      <td>13.49 ¢/kWh</td>\n",
       "      <td>13.49</td>\n",
       "      <td>97.3</td>\n",
       "    </tr>\n",
       "  </tbody>\n",
       "</table>\n",
       "</div>"
      ],
      "text/plain": [
       "                                           Job Title                     City  \\\n",
       "0                               Software Engineer II            Washington DC   \n",
       "1  INFORMATION TECHNOLOGY SPECIALIST (APPLICATION...     Wright-Patterson AFB   \n",
       "2  IT Specialist (Systems Analysis/Applications S...                   Carson   \n",
       "3                            IT SPECIALIST (INFOSEC)  Aberdeen Proving Ground   \n",
       "4                                 Programmer Analyst                 Savannah   \n",
       "\n",
       "                  State  Salary_in_office      Role  Avg.OfficeRent_per_sqft  \\\n",
       "0  District of Columbia          115950.0  Software                      NaN   \n",
       "1                  Ohio          103702.5  Software                      NaN   \n",
       "2            California          132549.5  Software                      NaN   \n",
       "3              Maryland          129078.0  Software                      NaN   \n",
       "4               Georgia           78256.5  Software                      NaN   \n",
       "\n",
       "   Avg internet monthly payment  \\\n",
       "0                           NaN   \n",
       "1                           NaN   \n",
       "2                           NaN   \n",
       "3                         75.44   \n",
       "4                           NaN   \n",
       "\n",
       "   Taxes, Fees and Government Surcharges on Wireless Service (%)  \\\n",
       "0                                                NaN               \n",
       "1                                                NaN               \n",
       "2                                                NaN               \n",
       "3                                              15.91               \n",
       "4                                                NaN               \n",
       "\n",
       "   Annual Commute Cost Residential electricity rates  \\\n",
       "0                  NaN                           NaN   \n",
       "1                  NaN                   15.98 ¢/kWh   \n",
       "2                  NaN                   30.55 ¢/kWh   \n",
       "3                  NaN                   18.15 ¢/kWh   \n",
       "4                  NaN                   13.49 ¢/kWh   \n",
       "\n",
       "   Electricity Price (cents per kWh)  Cost of Living Index  \n",
       "0                                NaN                   NaN  \n",
       "1                              15.98                   NaN  \n",
       "2                              30.55                   NaN  \n",
       "3                              18.15                   NaN  \n",
       "4                              13.49                  97.3  "
      ]
     },
     "execution_count": 37,
     "metadata": {},
     "output_type": "execute_result"
    }
   ],
   "source": [
    "df.head()"
   ]
  },
  {
   "cell_type": "code",
   "execution_count": 39,
   "id": "9fb18643-807f-4625-a2a8-b6d3373f7137",
   "metadata": {},
   "outputs": [],
   "source": [
    "df = df.drop(['Residential electricity rates','Taxes, Fees and Government Surcharges on Wireless Service (%)'], axis=1)"
   ]
  },
  {
   "cell_type": "code",
   "execution_count": 41,
   "id": "3cc9859c-82e9-48f7-ae08-a6d04ec9899b",
   "metadata": {},
   "outputs": [],
   "source": [
    "# Compute state-wise means from original datasets\n",
    "office_rent_mean = office_space.groupby(\"State\")[\"Avg.OfficeRent_per_sqft\"].mean()\n",
    "electricity_mean = electricity_rates.groupby(\"State\")[\"Electricity Price (cents per kWh)\"].mean()\n",
    "internet_mean = remote_expenses.groupby(\"State\")[\"Avg internet monthly payment\"].mean()\n",
    "commute_mean = commute_costs.groupby(\"State\")[\"Annual Commute Cost\"].mean()\n",
    "col_mean = col.groupby(\"State\")[\"Cost of Living Index\"].mean()"
   ]
  },
  {
   "cell_type": "code",
   "execution_count": 43,
   "id": "0bd9c8f6-3d57-4c78-9aed-5b31822fed84",
   "metadata": {},
   "outputs": [],
   "source": [
    "# Merge these mean values into df\n",
    "df = df.merge(office_rent_mean, on=\"State\", how=\"left\", suffixes=(\"\", \"_mean\"))\n",
    "df = df.merge(electricity_mean, on=\"State\", how=\"left\", suffixes=(\"\", \"_mean\"))\n",
    "df = df.merge(internet_mean, on=\"State\", how=\"left\", suffixes=(\"\", \"_mean\"))\n",
    "df = df.merge(commute_mean, on=\"State\", how=\"left\", suffixes=(\"\", \"_mean\"))\n",
    "df = df.merge(col_mean, on=\"State\", how=\"left\", suffixes=(\"\", \"_mean\"))"
   ]
  },
  {
   "cell_type": "code",
   "execution_count": 45,
   "id": "97710b44-941d-4b0b-82d9-330e1aa874fb",
   "metadata": {},
   "outputs": [],
   "source": [
    "# Columns to fill NaN values\n",
    "columns_to_fill = [\n",
    "    'Avg.OfficeRent_per_sqft',\n",
    "    'Electricity Price (cents per kWh)',\n",
    "    'Avg internet monthly payment',\n",
    "    'Annual Commute Cost',\n",
    "    'Cost of Living Index'\n",
    "]\n",
    "\n",
    "# Fill NaN values using the state-wise mean from the original datasets\n",
    "for column in columns_to_fill:\n",
    "    df[column] = df[column].fillna(df[column + \"_mean\"])\n",
    "\n",
    "# Drop the extra \"_mean\" columns after filling\n",
    "df = df.drop(columns=[col + \"_mean\" for col in columns_to_fill])\n"
   ]
  },
  {
   "cell_type": "code",
   "execution_count": 47,
   "id": "4fa7a986-9f63-4393-a7b7-90e4b2f2a5a7",
   "metadata": {},
   "outputs": [
    {
     "data": {
      "text/plain": [
       "Job Title                              0\n",
       "City                                   0\n",
       "State                                  0\n",
       "Salary_in_office                       0\n",
       "Role                                   0\n",
       "Avg.OfficeRent_per_sqft               21\n",
       "Avg internet monthly payment         201\n",
       "Annual Commute Cost                   60\n",
       "Electricity Price (cents per kWh)     38\n",
       "Cost of Living Index                   5\n",
       "dtype: int64"
      ]
     },
     "execution_count": 47,
     "metadata": {},
     "output_type": "execute_result"
    }
   ],
   "source": [
    "df.isna().sum()"
   ]
  },
  {
   "cell_type": "code",
   "execution_count": 49,
   "id": "b03d7021-851b-4230-ad85-5cc2b396df60",
   "metadata": {},
   "outputs": [
    {
     "data": {
      "text/html": [
       "<div>\n",
       "<style scoped>\n",
       "    .dataframe tbody tr th:only-of-type {\n",
       "        vertical-align: middle;\n",
       "    }\n",
       "\n",
       "    .dataframe tbody tr th {\n",
       "        vertical-align: top;\n",
       "    }\n",
       "\n",
       "    .dataframe thead th {\n",
       "        text-align: right;\n",
       "    }\n",
       "</style>\n",
       "<table border=\"1\" class=\"dataframe\">\n",
       "  <thead>\n",
       "    <tr style=\"text-align: right;\">\n",
       "      <th></th>\n",
       "      <th>Job Title</th>\n",
       "      <th>City</th>\n",
       "      <th>State</th>\n",
       "      <th>Salary_in_office</th>\n",
       "      <th>Role</th>\n",
       "      <th>Avg.OfficeRent_per_sqft</th>\n",
       "      <th>Avg internet monthly payment</th>\n",
       "      <th>Annual Commute Cost</th>\n",
       "      <th>Electricity Price (cents per kWh)</th>\n",
       "      <th>Cost of Living Index</th>\n",
       "    </tr>\n",
       "  </thead>\n",
       "  <tbody>\n",
       "    <tr>\n",
       "      <th>0</th>\n",
       "      <td>Software Engineer II</td>\n",
       "      <td>Washington DC</td>\n",
       "      <td>District of Columbia</td>\n",
       "      <td>115950.0</td>\n",
       "      <td>Software</td>\n",
       "      <td>52.540000</td>\n",
       "      <td>NaN</td>\n",
       "      <td>NaN</td>\n",
       "      <td>NaN</td>\n",
       "      <td>120.100000</td>\n",
       "    </tr>\n",
       "    <tr>\n",
       "      <th>1</th>\n",
       "      <td>INFORMATION TECHNOLOGY SPECIALIST (APPLICATION...</td>\n",
       "      <td>Wright-Patterson AFB</td>\n",
       "      <td>Ohio</td>\n",
       "      <td>103702.5</td>\n",
       "      <td>Software</td>\n",
       "      <td>20.560500</td>\n",
       "      <td>NaN</td>\n",
       "      <td>4054.520000</td>\n",
       "      <td>15.98</td>\n",
       "      <td>88.804545</td>\n",
       "    </tr>\n",
       "    <tr>\n",
       "      <th>2</th>\n",
       "      <td>IT Specialist (Systems Analysis/Applications S...</td>\n",
       "      <td>Carson</td>\n",
       "      <td>California</td>\n",
       "      <td>132549.5</td>\n",
       "      <td>Software</td>\n",
       "      <td>40.275701</td>\n",
       "      <td>NaN</td>\n",
       "      <td>7036.885526</td>\n",
       "      <td>30.55</td>\n",
       "      <td>125.746667</td>\n",
       "    </tr>\n",
       "    <tr>\n",
       "      <th>3</th>\n",
       "      <td>IT SPECIALIST (INFOSEC)</td>\n",
       "      <td>Aberdeen Proving Ground</td>\n",
       "      <td>Maryland</td>\n",
       "      <td>129078.0</td>\n",
       "      <td>Software</td>\n",
       "      <td>26.167143</td>\n",
       "      <td>75.44</td>\n",
       "      <td>6001.220000</td>\n",
       "      <td>18.15</td>\n",
       "      <td>101.120000</td>\n",
       "    </tr>\n",
       "    <tr>\n",
       "      <th>4</th>\n",
       "      <td>Programmer Analyst</td>\n",
       "      <td>Savannah</td>\n",
       "      <td>Georgia</td>\n",
       "      <td>78256.5</td>\n",
       "      <td>Software</td>\n",
       "      <td>23.660000</td>\n",
       "      <td>NaN</td>\n",
       "      <td>5285.465000</td>\n",
       "      <td>13.49</td>\n",
       "      <td>97.300000</td>\n",
       "    </tr>\n",
       "  </tbody>\n",
       "</table>\n",
       "</div>"
      ],
      "text/plain": [
       "                                           Job Title                     City  \\\n",
       "0                               Software Engineer II            Washington DC   \n",
       "1  INFORMATION TECHNOLOGY SPECIALIST (APPLICATION...     Wright-Patterson AFB   \n",
       "2  IT Specialist (Systems Analysis/Applications S...                   Carson   \n",
       "3                            IT SPECIALIST (INFOSEC)  Aberdeen Proving Ground   \n",
       "4                                 Programmer Analyst                 Savannah   \n",
       "\n",
       "                  State  Salary_in_office      Role  Avg.OfficeRent_per_sqft  \\\n",
       "0  District of Columbia          115950.0  Software                52.540000   \n",
       "1                  Ohio          103702.5  Software                20.560500   \n",
       "2            California          132549.5  Software                40.275701   \n",
       "3              Maryland          129078.0  Software                26.167143   \n",
       "4               Georgia           78256.5  Software                23.660000   \n",
       "\n",
       "   Avg internet monthly payment  Annual Commute Cost  \\\n",
       "0                           NaN                  NaN   \n",
       "1                           NaN          4054.520000   \n",
       "2                           NaN          7036.885526   \n",
       "3                         75.44          6001.220000   \n",
       "4                           NaN          5285.465000   \n",
       "\n",
       "   Electricity Price (cents per kWh)  Cost of Living Index  \n",
       "0                                NaN            120.100000  \n",
       "1                              15.98             88.804545  \n",
       "2                              30.55            125.746667  \n",
       "3                              18.15            101.120000  \n",
       "4                              13.49             97.300000  "
      ]
     },
     "execution_count": 49,
     "metadata": {},
     "output_type": "execute_result"
    }
   ],
   "source": [
    "df.head()"
   ]
  },
  {
   "cell_type": "code",
   "execution_count": 51,
   "id": "f6968d9b-c2d0-4bb7-9ac1-715bb9325ad9",
   "metadata": {},
   "outputs": [],
   "source": [
    "# Fill NaN values with the average costs\n",
    "df['Avg.OfficeRent_per_sqft'] = df['Avg.OfficeRent_per_sqft'].fillna(df['Avg.OfficeRent_per_sqft'].mean())\n",
    "df['Avg internet monthly payment'] = df['Avg internet monthly payment'].fillna(df['Avg internet monthly payment'].mean())\n",
    "df['Annual Commute Cost'] = df['Annual Commute Cost'].fillna(df['Annual Commute Cost'].mean())\n",
    "df['Electricity Price (cents per kWh)'] = df['Electricity Price (cents per kWh)'].fillna(df['Electricity Price (cents per kWh)'].mean())\n",
    "df['Cost of Living Index'] = df['Cost of Living Index'].fillna(df['Cost of Living Index'].mean())"
   ]
  },
  {
   "cell_type": "code",
   "execution_count": 53,
   "id": "7a9a2078-30d0-449f-ac35-a7762d573201",
   "metadata": {},
   "outputs": [
    {
     "data": {
      "text/plain": [
       "Job Title                            0\n",
       "City                                 0\n",
       "State                                0\n",
       "Salary_in_office                     0\n",
       "Role                                 0\n",
       "Avg.OfficeRent_per_sqft              0\n",
       "Avg internet monthly payment         0\n",
       "Annual Commute Cost                  0\n",
       "Electricity Price (cents per kWh)    0\n",
       "Cost of Living Index                 0\n",
       "dtype: int64"
      ]
     },
     "execution_count": 53,
     "metadata": {},
     "output_type": "execute_result"
    }
   ],
   "source": [
    "df.isna().sum()"
   ]
  },
  {
   "cell_type": "code",
   "execution_count": 55,
   "id": "8a913a97-f263-4ec5-a349-7824c6f7ad98",
   "metadata": {},
   "outputs": [
    {
     "data": {
      "text/plain": [
       "(370, 10)"
      ]
     },
     "execution_count": 55,
     "metadata": {},
     "output_type": "execute_result"
    }
   ],
   "source": [
    "df.shape"
   ]
  },
  {
   "cell_type": "code",
   "execution_count": 57,
   "id": "fc80baa3-10a8-4c73-bcd7-a229a8c43a5c",
   "metadata": {},
   "outputs": [],
   "source": [
    "#Rounding up decimals\n",
    "df[['Avg.OfficeRent_per_sqft','Avg internet monthly payment','Annual Commute Cost','Cost of Living Index']] = df[['Avg.OfficeRent_per_sqft','Avg internet monthly payment','Annual Commute Cost','Cost of Living Index']].round(2)"
   ]
  },
  {
   "cell_type": "markdown",
   "id": "c1921af7-5721-429d-8066-c4a828b1c2f6",
   "metadata": {},
   "source": [
    "### Feature Engineering ###"
   ]
  },
  {
   "cell_type": "code",
   "execution_count": 60,
   "id": "b148741e-4ab1-437a-98e6-23c0eb89ee5b",
   "metadata": {},
   "outputs": [
    {
     "data": {
      "text/html": [
       "<div>\n",
       "<style scoped>\n",
       "    .dataframe tbody tr th:only-of-type {\n",
       "        vertical-align: middle;\n",
       "    }\n",
       "\n",
       "    .dataframe tbody tr th {\n",
       "        vertical-align: top;\n",
       "    }\n",
       "\n",
       "    .dataframe thead th {\n",
       "        text-align: right;\n",
       "    }\n",
       "</style>\n",
       "<table border=\"1\" class=\"dataframe\">\n",
       "  <thead>\n",
       "    <tr style=\"text-align: right;\">\n",
       "      <th></th>\n",
       "      <th>Job Title</th>\n",
       "      <th>City</th>\n",
       "      <th>State</th>\n",
       "      <th>Salary_in_office</th>\n",
       "      <th>Role</th>\n",
       "      <th>Avg.OfficeRent_per_sqft</th>\n",
       "      <th>Avg internet monthly payment</th>\n",
       "      <th>Annual Commute Cost</th>\n",
       "      <th>Electricity Price (cents per kWh)</th>\n",
       "      <th>Cost of Living Index</th>\n",
       "      <th>National_Avg_Salary</th>\n",
       "      <th>Salary_remote</th>\n",
       "    </tr>\n",
       "  </thead>\n",
       "  <tbody>\n",
       "    <tr>\n",
       "      <th>0</th>\n",
       "      <td>Software Engineer II</td>\n",
       "      <td>Washington DC</td>\n",
       "      <td>District of Columbia</td>\n",
       "      <td>115950.0</td>\n",
       "      <td>Software</td>\n",
       "      <td>52.54</td>\n",
       "      <td>77.95</td>\n",
       "      <td>5433.45</td>\n",
       "      <td>17.985452</td>\n",
       "      <td>120.10</td>\n",
       "      <td>110000</td>\n",
       "      <td>132110.0</td>\n",
       "    </tr>\n",
       "    <tr>\n",
       "      <th>1</th>\n",
       "      <td>INFORMATION TECHNOLOGY SPECIALIST (APPLICATION...</td>\n",
       "      <td>Wright-Patterson AFB</td>\n",
       "      <td>Ohio</td>\n",
       "      <td>103702.5</td>\n",
       "      <td>Software</td>\n",
       "      <td>20.56</td>\n",
       "      <td>77.95</td>\n",
       "      <td>4054.52</td>\n",
       "      <td>15.980000</td>\n",
       "      <td>88.80</td>\n",
       "      <td>110000</td>\n",
       "      <td>97680.0</td>\n",
       "    </tr>\n",
       "    <tr>\n",
       "      <th>2</th>\n",
       "      <td>IT Specialist (Systems Analysis/Applications S...</td>\n",
       "      <td>Carson</td>\n",
       "      <td>California</td>\n",
       "      <td>132549.5</td>\n",
       "      <td>Software</td>\n",
       "      <td>40.28</td>\n",
       "      <td>77.95</td>\n",
       "      <td>7036.89</td>\n",
       "      <td>30.550000</td>\n",
       "      <td>125.75</td>\n",
       "      <td>110000</td>\n",
       "      <td>138325.0</td>\n",
       "    </tr>\n",
       "    <tr>\n",
       "      <th>3</th>\n",
       "      <td>IT SPECIALIST (INFOSEC)</td>\n",
       "      <td>Aberdeen Proving Ground</td>\n",
       "      <td>Maryland</td>\n",
       "      <td>129078.0</td>\n",
       "      <td>Software</td>\n",
       "      <td>26.17</td>\n",
       "      <td>75.44</td>\n",
       "      <td>6001.22</td>\n",
       "      <td>18.150000</td>\n",
       "      <td>101.12</td>\n",
       "      <td>110000</td>\n",
       "      <td>111232.0</td>\n",
       "    </tr>\n",
       "    <tr>\n",
       "      <th>4</th>\n",
       "      <td>Programmer Analyst</td>\n",
       "      <td>Savannah</td>\n",
       "      <td>Georgia</td>\n",
       "      <td>78256.5</td>\n",
       "      <td>Software</td>\n",
       "      <td>23.66</td>\n",
       "      <td>77.95</td>\n",
       "      <td>5285.46</td>\n",
       "      <td>13.490000</td>\n",
       "      <td>97.30</td>\n",
       "      <td>110000</td>\n",
       "      <td>107030.0</td>\n",
       "    </tr>\n",
       "  </tbody>\n",
       "</table>\n",
       "</div>"
      ],
      "text/plain": [
       "                                           Job Title                     City  \\\n",
       "0                               Software Engineer II            Washington DC   \n",
       "1  INFORMATION TECHNOLOGY SPECIALIST (APPLICATION...     Wright-Patterson AFB   \n",
       "2  IT Specialist (Systems Analysis/Applications S...                   Carson   \n",
       "3                            IT SPECIALIST (INFOSEC)  Aberdeen Proving Ground   \n",
       "4                                 Programmer Analyst                 Savannah   \n",
       "\n",
       "                  State  Salary_in_office      Role  Avg.OfficeRent_per_sqft  \\\n",
       "0  District of Columbia          115950.0  Software                    52.54   \n",
       "1                  Ohio          103702.5  Software                    20.56   \n",
       "2            California          132549.5  Software                    40.28   \n",
       "3              Maryland          129078.0  Software                    26.17   \n",
       "4               Georgia           78256.5  Software                    23.66   \n",
       "\n",
       "   Avg internet monthly payment  Annual Commute Cost  \\\n",
       "0                         77.95              5433.45   \n",
       "1                         77.95              4054.52   \n",
       "2                         77.95              7036.89   \n",
       "3                         75.44              6001.22   \n",
       "4                         77.95              5285.46   \n",
       "\n",
       "   Electricity Price (cents per kWh)  Cost of Living Index  \\\n",
       "0                          17.985452                120.10   \n",
       "1                          15.980000                 88.80   \n",
       "2                          30.550000                125.75   \n",
       "3                          18.150000                101.12   \n",
       "4                          13.490000                 97.30   \n",
       "\n",
       "   National_Avg_Salary  Salary_remote  \n",
       "0               110000       132110.0  \n",
       "1               110000        97680.0  \n",
       "2               110000       138325.0  \n",
       "3               110000       111232.0  \n",
       "4               110000       107030.0  "
      ]
     },
     "execution_count": 60,
     "metadata": {},
     "output_type": "execute_result"
    }
   ],
   "source": [
    "# Populating remote salary\n",
    "\n",
    "# Dictionary of national average salaries by role\n",
    "national_avg_salary = {\n",
    "    'Software': 110000,\n",
    "    'Operations Research Analyst': 85000,\n",
    "    'Management Analyst': 95000,\n",
    "    'IT Project': 105000,\n",
    "    'Data Analyst': 72500,\n",
    "    'Cybersecurity': 102500\n",
    "}\n",
    "\n",
    "# Add a new column 'National_Avg_Salary' based on 'Role'\n",
    "df['National_Avg_Salary'] = df['Role'].map(national_avg_salary)\n",
    "\n",
    "# Calculate Salary_remote\n",
    "df['Salary_remote'] = df['National_Avg_Salary'] * df['Cost of Living Index'] / 100\n",
    "\n",
    "# Show the updated dataframe\n",
    "df.head()"
   ]
  },
  {
   "cell_type": "code",
   "execution_count": 62,
   "id": "d6fae2ad-d6ff-4f78-8483-93ec2327782e",
   "metadata": {},
   "outputs": [],
   "source": [
    "# Calculate remote work expenses: Rent, Electricity, Internet cost, and Annual Commute Cost\n",
    "df['Remote Work Expenses'] = (\n",
    "    df['Electricity Price (cents per kWh)'] * 900 * 12 / 100 +  # Annual electricity cost, assuming 900 kWh/month\n",
    "    df['Avg internet monthly payment'] * 12  # Annual internet cost\n",
    ")"
   ]
  },
  {
   "cell_type": "code",
   "execution_count": 64,
   "id": "21bc968e-1582-491a-8d69-5dd298c3c39d",
   "metadata": {},
   "outputs": [],
   "source": [
    "# Assuming average office space per employee is 150 sqft\n",
    "average_office_space_per_employee = 150  # square feet\n",
    "\n",
    "# Calculate office rent for in-office workers\n",
    "df['Office Rent'] = df['Avg.OfficeRent_per_sqft'] * average_office_space_per_employee * 12\n",
    "\n",
    "# Calculate the total in-office expenses, including office space rent\n",
    "df['In-Office Expenses'] = (\n",
    "    df['Annual Commute Cost'] +  # Annual commute cost\n",
    "    df['Office Rent']  # Office rent cost for the company\n",
    ")"
   ]
  },
  {
   "cell_type": "code",
   "execution_count": 66,
   "id": "4e2ad8c2-bb25-4693-ade3-c83e3d03cc40",
   "metadata": {},
   "outputs": [],
   "source": [
    "df['Total In-office salary'] = df['Salary_in_office'] + df['In-Office Expenses'].fillna(0)\n",
    "df['Total Remote salary'] = df['Salary_remote'] + df['Remote Work Expenses'].fillna(0)"
   ]
  },
  {
   "cell_type": "code",
   "execution_count": 68,
   "id": "f6c26ccf-4cf6-4a13-b176-b8c3f5fcd52d",
   "metadata": {},
   "outputs": [],
   "source": [
    "# Compute Remote vs Office Cost Ratio\n",
    "df['remote_vs_office_cost_ratio'] = df['Total Remote salary'] / df['Total In-office salary']"
   ]
  },
  {
   "cell_type": "code",
   "execution_count": 70,
   "id": "709aa07a-529d-4d2c-9aa8-6346191bd624",
   "metadata": {},
   "outputs": [
    {
     "data": {
      "text/html": [
       "<div>\n",
       "<style scoped>\n",
       "    .dataframe tbody tr th:only-of-type {\n",
       "        vertical-align: middle;\n",
       "    }\n",
       "\n",
       "    .dataframe tbody tr th {\n",
       "        vertical-align: top;\n",
       "    }\n",
       "\n",
       "    .dataframe thead th {\n",
       "        text-align: right;\n",
       "    }\n",
       "</style>\n",
       "<table border=\"1\" class=\"dataframe\">\n",
       "  <thead>\n",
       "    <tr style=\"text-align: right;\">\n",
       "      <th></th>\n",
       "      <th>Job Title</th>\n",
       "      <th>City</th>\n",
       "      <th>State</th>\n",
       "      <th>Salary_in_office</th>\n",
       "      <th>Role</th>\n",
       "      <th>Avg.OfficeRent_per_sqft</th>\n",
       "      <th>Avg internet monthly payment</th>\n",
       "      <th>Annual Commute Cost</th>\n",
       "      <th>Electricity Price (cents per kWh)</th>\n",
       "      <th>Cost of Living Index</th>\n",
       "      <th>National_Avg_Salary</th>\n",
       "      <th>Salary_remote</th>\n",
       "      <th>Remote Work Expenses</th>\n",
       "      <th>Office Rent</th>\n",
       "      <th>In-Office Expenses</th>\n",
       "      <th>Total In-office salary</th>\n",
       "      <th>Total Remote salary</th>\n",
       "      <th>remote_vs_office_cost_ratio</th>\n",
       "    </tr>\n",
       "  </thead>\n",
       "  <tbody>\n",
       "    <tr>\n",
       "      <th>0</th>\n",
       "      <td>Software Engineer II</td>\n",
       "      <td>Washington DC</td>\n",
       "      <td>District of Columbia</td>\n",
       "      <td>115950.0</td>\n",
       "      <td>Software</td>\n",
       "      <td>52.54</td>\n",
       "      <td>77.95</td>\n",
       "      <td>5433.45</td>\n",
       "      <td>17.985452</td>\n",
       "      <td>120.10</td>\n",
       "      <td>110000</td>\n",
       "      <td>132110.0</td>\n",
       "      <td>2877.828795</td>\n",
       "      <td>94572.0</td>\n",
       "      <td>100005.45</td>\n",
       "      <td>215955.45</td>\n",
       "      <td>134987.828795</td>\n",
       "      <td>0.625073</td>\n",
       "    </tr>\n",
       "    <tr>\n",
       "      <th>1</th>\n",
       "      <td>INFORMATION TECHNOLOGY SPECIALIST (APPLICATION...</td>\n",
       "      <td>Wright-Patterson AFB</td>\n",
       "      <td>Ohio</td>\n",
       "      <td>103702.5</td>\n",
       "      <td>Software</td>\n",
       "      <td>20.56</td>\n",
       "      <td>77.95</td>\n",
       "      <td>4054.52</td>\n",
       "      <td>15.980000</td>\n",
       "      <td>88.80</td>\n",
       "      <td>110000</td>\n",
       "      <td>97680.0</td>\n",
       "      <td>2661.240000</td>\n",
       "      <td>37008.0</td>\n",
       "      <td>41062.52</td>\n",
       "      <td>144765.02</td>\n",
       "      <td>100341.240000</td>\n",
       "      <td>0.693132</td>\n",
       "    </tr>\n",
       "    <tr>\n",
       "      <th>2</th>\n",
       "      <td>IT Specialist (Systems Analysis/Applications S...</td>\n",
       "      <td>Carson</td>\n",
       "      <td>California</td>\n",
       "      <td>132549.5</td>\n",
       "      <td>Software</td>\n",
       "      <td>40.28</td>\n",
       "      <td>77.95</td>\n",
       "      <td>7036.89</td>\n",
       "      <td>30.550000</td>\n",
       "      <td>125.75</td>\n",
       "      <td>110000</td>\n",
       "      <td>138325.0</td>\n",
       "      <td>4234.800000</td>\n",
       "      <td>72504.0</td>\n",
       "      <td>79540.89</td>\n",
       "      <td>212090.39</td>\n",
       "      <td>142559.800000</td>\n",
       "      <td>0.672165</td>\n",
       "    </tr>\n",
       "    <tr>\n",
       "      <th>3</th>\n",
       "      <td>IT SPECIALIST (INFOSEC)</td>\n",
       "      <td>Aberdeen Proving Ground</td>\n",
       "      <td>Maryland</td>\n",
       "      <td>129078.0</td>\n",
       "      <td>Software</td>\n",
       "      <td>26.17</td>\n",
       "      <td>75.44</td>\n",
       "      <td>6001.22</td>\n",
       "      <td>18.150000</td>\n",
       "      <td>101.12</td>\n",
       "      <td>110000</td>\n",
       "      <td>111232.0</td>\n",
       "      <td>2865.480000</td>\n",
       "      <td>47106.0</td>\n",
       "      <td>53107.22</td>\n",
       "      <td>182185.22</td>\n",
       "      <td>114097.480000</td>\n",
       "      <td>0.626272</td>\n",
       "    </tr>\n",
       "    <tr>\n",
       "      <th>4</th>\n",
       "      <td>Programmer Analyst</td>\n",
       "      <td>Savannah</td>\n",
       "      <td>Georgia</td>\n",
       "      <td>78256.5</td>\n",
       "      <td>Software</td>\n",
       "      <td>23.66</td>\n",
       "      <td>77.95</td>\n",
       "      <td>5285.46</td>\n",
       "      <td>13.490000</td>\n",
       "      <td>97.30</td>\n",
       "      <td>110000</td>\n",
       "      <td>107030.0</td>\n",
       "      <td>2392.320000</td>\n",
       "      <td>42588.0</td>\n",
       "      <td>47873.46</td>\n",
       "      <td>126129.96</td>\n",
       "      <td>109422.320000</td>\n",
       "      <td>0.867536</td>\n",
       "    </tr>\n",
       "  </tbody>\n",
       "</table>\n",
       "</div>"
      ],
      "text/plain": [
       "                                           Job Title                     City  \\\n",
       "0                               Software Engineer II            Washington DC   \n",
       "1  INFORMATION TECHNOLOGY SPECIALIST (APPLICATION...     Wright-Patterson AFB   \n",
       "2  IT Specialist (Systems Analysis/Applications S...                   Carson   \n",
       "3                            IT SPECIALIST (INFOSEC)  Aberdeen Proving Ground   \n",
       "4                                 Programmer Analyst                 Savannah   \n",
       "\n",
       "                  State  Salary_in_office      Role  Avg.OfficeRent_per_sqft  \\\n",
       "0  District of Columbia          115950.0  Software                    52.54   \n",
       "1                  Ohio          103702.5  Software                    20.56   \n",
       "2            California          132549.5  Software                    40.28   \n",
       "3              Maryland          129078.0  Software                    26.17   \n",
       "4               Georgia           78256.5  Software                    23.66   \n",
       "\n",
       "   Avg internet monthly payment  Annual Commute Cost  \\\n",
       "0                         77.95              5433.45   \n",
       "1                         77.95              4054.52   \n",
       "2                         77.95              7036.89   \n",
       "3                         75.44              6001.22   \n",
       "4                         77.95              5285.46   \n",
       "\n",
       "   Electricity Price (cents per kWh)  Cost of Living Index  \\\n",
       "0                          17.985452                120.10   \n",
       "1                          15.980000                 88.80   \n",
       "2                          30.550000                125.75   \n",
       "3                          18.150000                101.12   \n",
       "4                          13.490000                 97.30   \n",
       "\n",
       "   National_Avg_Salary  Salary_remote  Remote Work Expenses  Office Rent  \\\n",
       "0               110000       132110.0           2877.828795      94572.0   \n",
       "1               110000        97680.0           2661.240000      37008.0   \n",
       "2               110000       138325.0           4234.800000      72504.0   \n",
       "3               110000       111232.0           2865.480000      47106.0   \n",
       "4               110000       107030.0           2392.320000      42588.0   \n",
       "\n",
       "   In-Office Expenses  Total In-office salary  Total Remote salary  \\\n",
       "0           100005.45               215955.45        134987.828795   \n",
       "1            41062.52               144765.02        100341.240000   \n",
       "2            79540.89               212090.39        142559.800000   \n",
       "3            53107.22               182185.22        114097.480000   \n",
       "4            47873.46               126129.96        109422.320000   \n",
       "\n",
       "   remote_vs_office_cost_ratio  \n",
       "0                     0.625073  \n",
       "1                     0.693132  \n",
       "2                     0.672165  \n",
       "3                     0.626272  \n",
       "4                     0.867536  "
      ]
     },
     "execution_count": 70,
     "metadata": {},
     "output_type": "execute_result"
    }
   ],
   "source": [
    "df.head()"
   ]
  },
  {
   "cell_type": "code",
   "execution_count": 72,
   "id": "38d337b6-cadb-4aaf-9a44-1e59a63a763b",
   "metadata": {},
   "outputs": [],
   "source": [
    "#Rounding up decimals\n",
    "df[['Salary_remote','Remote Work Expenses','Office Rent','In-Office Expenses','Total In-office salary','Total Remote salary','remote_vs_office_cost_ratio']] = df[['Salary_remote','Remote Work Expenses','Office Rent','In-Office Expenses','Total In-office salary','Total Remote salary','remote_vs_office_cost_ratio']].round(2)"
   ]
  },
  {
   "cell_type": "code",
   "execution_count": 74,
   "id": "e129f128-9c91-43f0-87df-f7d6911e223f",
   "metadata": {},
   "outputs": [
    {
     "data": {
      "text/plain": [
       "Job Title                            0\n",
       "City                                 0\n",
       "State                                0\n",
       "Salary_in_office                     0\n",
       "Role                                 0\n",
       "Avg.OfficeRent_per_sqft              0\n",
       "Avg internet monthly payment         0\n",
       "Annual Commute Cost                  0\n",
       "Electricity Price (cents per kWh)    0\n",
       "Cost of Living Index                 0\n",
       "National_Avg_Salary                  0\n",
       "Salary_remote                        0\n",
       "Remote Work Expenses                 0\n",
       "Office Rent                          0\n",
       "In-Office Expenses                   0\n",
       "Total In-office salary               0\n",
       "Total Remote salary                  0\n",
       "remote_vs_office_cost_ratio          0\n",
       "dtype: int64"
      ]
     },
     "execution_count": 74,
     "metadata": {},
     "output_type": "execute_result"
    }
   ],
   "source": [
    "df.isna().sum()"
   ]
  },
  {
   "cell_type": "code",
   "execution_count": 76,
   "id": "ccbc6127-b682-4adc-8a6a-c7fe034ab926",
   "metadata": {},
   "outputs": [],
   "source": [
    "df.to_csv('Final_Dataset_FederalJobs.csv')"
   ]
  },
  {
   "cell_type": "code",
   "execution_count": 78,
   "id": "537cda3a-32bc-418e-a968-3591a01f963e",
   "metadata": {},
   "outputs": [
    {
     "data": {
      "image/png": "[encoded data removed]",
      "text/plain": [
       "<Figure size 1200x600 with 1 Axes>"
      ]
     },
     "metadata": {},
     "output_type": "display_data"
    }
   ],
   "source": [
    "df_grouped = df.groupby(\"State\")[\"remote_vs_office_cost_ratio\"].mean().reset_index()\n",
    "\n",
    "plt.figure(figsize=(12,6))\n",
    "sns.barplot(x='State', y='remote_vs_office_cost_ratio', data=df_grouped)\n",
    "plt.xticks(rotation=90)\n",
    "plt.title('Average Remote vs Office Cost Ratio by State')\n",
    "plt.show()\n"
   ]
  },
  {
   "cell_type": "code",
   "execution_count": 82,
   "id": "7d9e0157-21eb-4a01-a005-3cdd127bc0c5",
   "metadata": {},
   "outputs": [
    {
     "data": {
      "text/plain": [
       "(370, 18)"
      ]
     },
     "execution_count": 82,
     "metadata": {},
     "output_type": "execute_result"
    }
   ],
   "source": [
    "df.shape"
   ]
  },
  {
   "cell_type": "code",
   "execution_count": null,
   "id": "1afd95af-d6e4-4ff4-be67-2d8687113739",
   "metadata": {},
   "outputs": [],
   "source": []
  },
  {
   "cell_type": "code",
   "execution_count": null,
   "id": "f6a2f6f1-a643-4c0d-bb08-f52c1bd2f5ba",
   "metadata": {},
   "outputs": [],
   "source": []
  }
 ],
 "metadata": {
  "kernelspec": {
   "display_name": "Python 3 (ipykernel)",
   "language": "python",
   "name": "python3"
  },
  "language_info": {
   "codemirror_mode": {
    "name": "ipython",
    "version": 3
   },
   "file_extension": ".py",
   "mimetype": "text/x-python",
   "name": "python",
   "nbconvert_exporter": "python",
   "pygments_lexer": "ipython3",
   "version": "3.12.2"
  }
 },
 "nbformat": 4,
 "nbformat_minor": 5
}
