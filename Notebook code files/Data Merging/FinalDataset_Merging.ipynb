{
 "cells": [
  {
   "cell_type": "code",
   "execution_count": 2,
   "id": "c987c93d-59fc-47ea-b034-a84be9d186f5",
   "metadata": {},
   "outputs": [],
   "source": [
    "import pandas as pd\n",
    "import re\n",
    "import matplotlib.pyplot as plt\n",
    "import seaborn as sns"
   ]
  },
  {
   "cell_type": "markdown",
   "id": "b451c23f-1110-4147-b35d-e27ec30320a9",
   "metadata": {},
   "source": [
    "## Entry-Level jobs ##"
   ]
  },
  {
   "cell_type": "code",
   "execution_count": 3,
   "id": "bcae171a-d635-4118-8784-6294090d972c",
   "metadata": {},
   "outputs": [],
   "source": [
    "df1 = pd.read_csv(' software quality assurance tester_office_entrylevel.csv')\n",
    "df2 = pd.read_csv('Accountant_entry.csv')\n",
    "df3 = pd.read_csv('cybersecurity_entry.csv')\n",
    "df4 = pd.read_csv('data scientist_entry.csv')\n",
    "df5 = pd.read_csv('DBA_office_entry.csv')\n",
    "df6 = pd.read_csv('Glassdoor Scraper-ManagementAnalysts-entryLevel.csv')\n",
    "df7 = pd.read_csv('IT security analyst_entry.csv')\n",
    "df8 = pd.read_csv('Op research ana & Network_administrator_entry.csv')\n",
    "df9 = pd.read_csv('Web developer_entry.csv')"
   ]
  },
  {
   "cell_type": "code",
   "execution_count": 4,
   "id": "002a81b6-2322-44bc-9ce3-5f30b72be65a",
   "metadata": {},
   "outputs": [
    {
     "name": "stdout",
     "output_type": "stream",
     "text": [
      "Index(['Role', 'Company', 'Job_title', 'Place', 'Salary'], dtype='object')\n",
      "Index(['Role', 'Company', 'Job_title', 'Place', 'Salary'], dtype='object')\n",
      "Index(['Role', 'Company', 'Job_title', 'Place', 'Salary'], dtype='object')\n",
      "Index(['Role', 'Company', 'Job_title', 'Place', 'Salary'], dtype='object')\n",
      "Index(['Role', 'Company', 'Job_title', 'Place', 'Salary'], dtype='object')\n",
      "Index(['Role', 'Company', 'Job_title', 'Place', 'Salary'], dtype='object')\n",
      "Index(['Role', 'Company', 'Job_title', 'Place', 'Salary'], dtype='object')\n",
      "Index(['Role', 'Company', 'Job_title', 'Place', 'Salary'], dtype='object')\n",
      "Index(['Role', 'Company', 'Job_title', 'Place', 'Salary'], dtype='object')\n"
     ]
    }
   ],
   "source": [
    "print(df1.columns)\n",
    "print(df2.columns)\n",
    "print(df3.columns)\n",
    "print(df4.columns)\n",
    "print(df5.columns)\n",
    "print(df6.columns)\n",
    "print(df7.columns)\n",
    "print(df8.columns)\n",
    "print(df9.columns)"
   ]
  },
  {
   "cell_type": "code",
   "execution_count": 5,
   "id": "9eaeef27-993c-4b4c-b211-5b1c35933de4",
   "metadata": {},
   "outputs": [
    {
     "data": {
      "text/html": [
       "<div>\n",
       "<style scoped>\n",
       "    .dataframe tbody tr th:only-of-type {\n",
       "        vertical-align: middle;\n",
       "    }\n",
       "\n",
       "    .dataframe tbody tr th {\n",
       "        vertical-align: top;\n",
       "    }\n",
       "\n",
       "    .dataframe thead th {\n",
       "        text-align: right;\n",
       "    }\n",
       "</style>\n",
       "<table border=\"1\" class=\"dataframe\">\n",
       "  <thead>\n",
       "    <tr style=\"text-align: right;\">\n",
       "      <th></th>\n",
       "      <th>Role</th>\n",
       "      <th>Company</th>\n",
       "      <th>Job_title</th>\n",
       "      <th>Place</th>\n",
       "      <th>Salary</th>\n",
       "    </tr>\n",
       "  </thead>\n",
       "  <tbody>\n",
       "    <tr>\n",
       "      <th>0</th>\n",
       "      <td>Software quality assurance tester</td>\n",
       "      <td>General Dynamics Mission Systems, Inc</td>\n",
       "      <td>Integration and Test (I&amp;T) Engineer</td>\n",
       "      <td>Bloomington, MN</td>\n",
       "      <td>$143K - $150K (Employer est.)</td>\n",
       "    </tr>\n",
       "    <tr>\n",
       "      <th>1</th>\n",
       "      <td>Software quality assurance tester</td>\n",
       "      <td>Gaming Laboratories International</td>\n",
       "      <td>Test Engineer I - CO</td>\n",
       "      <td>Wheat Ridge, CO</td>\n",
       "      <td>$29.24 - $30.24 Per Hour (Employer est.)</td>\n",
       "    </tr>\n",
       "    <tr>\n",
       "      <th>2</th>\n",
       "      <td>Software quality assurance tester</td>\n",
       "      <td>IDC</td>\n",
       "      <td>Junior Functional Tester only W2</td>\n",
       "      <td>Sacramento, CA</td>\n",
       "      <td>$49K - $76K (Glassdoor est.)</td>\n",
       "    </tr>\n",
       "    <tr>\n",
       "      <th>3</th>\n",
       "      <td>Software quality assurance tester</td>\n",
       "      <td>Edwards Lifesciences</td>\n",
       "      <td>Engr I, Software Quality - Failure Analysis</td>\n",
       "      <td>Naperville, IL</td>\n",
       "      <td>$67K - $96K (Employer est.)</td>\n",
       "    </tr>\n",
       "    <tr>\n",
       "      <th>4</th>\n",
       "      <td>Software quality assurance tester</td>\n",
       "      <td>Outcomes Operating Inc</td>\n",
       "      <td>Quality Assurance Analyst I</td>\n",
       "      <td>Dublin, OH</td>\n",
       "      <td>$54K - $74K (Glassdoor est.)</td>\n",
       "    </tr>\n",
       "  </tbody>\n",
       "</table>\n",
       "</div>"
      ],
      "text/plain": [
       "                                  Role                                Company  \\\n",
       "0   Software quality assurance tester   General Dynamics Mission Systems, Inc   \n",
       "1   Software quality assurance tester       Gaming Laboratories International   \n",
       "2   Software quality assurance tester                                     IDC   \n",
       "3   Software quality assurance tester                    Edwards Lifesciences   \n",
       "4   Software quality assurance tester                  Outcomes Operating Inc   \n",
       "\n",
       "                                     Job_title            Place  \\\n",
       "0          Integration and Test (I&T) Engineer  Bloomington, MN   \n",
       "1                         Test Engineer I - CO  Wheat Ridge, CO   \n",
       "2             Junior Functional Tester only W2   Sacramento, CA   \n",
       "3  Engr I, Software Quality - Failure Analysis   Naperville, IL   \n",
       "4                  Quality Assurance Analyst I       Dublin, OH   \n",
       "\n",
       "                                     Salary  \n",
       "0             $143K - $150K (Employer est.)  \n",
       "1  $29.24 - $30.24 Per Hour (Employer est.)  \n",
       "2              $49K - $76K (Glassdoor est.)  \n",
       "3               $67K - $96K (Employer est.)  \n",
       "4              $54K - $74K (Glassdoor est.)  "
      ]
     },
     "execution_count": 5,
     "metadata": {},
     "output_type": "execute_result"
    }
   ],
   "source": [
    "# Concatenate the dataframes \n",
    "\n",
    "df_entry = pd.concat([df1,df2,df3,df4,df5,df6,df7,df8,df9], ignore_index=True)\n",
    "df_entry.head()"
   ]
  },
  {
   "cell_type": "code",
   "execution_count": 6,
   "id": "c0b29b79-5bfa-43a3-9293-676fb581032a",
   "metadata": {},
   "outputs": [
    {
     "data": {
      "text/plain": [
       "(1929, 5)"
      ]
     },
     "execution_count": 6,
     "metadata": {},
     "output_type": "execute_result"
    }
   ],
   "source": [
    "df_entry.shape"
   ]
  },
  {
   "cell_type": "code",
   "execution_count": 7,
   "id": "bbf509a4-9dd9-4de8-b25f-a81fe5eec69c",
   "metadata": {},
   "outputs": [],
   "source": [
    "#Adding new column\n",
    "df_entry['Experience'] = 'Entry'"
   ]
  },
  {
   "cell_type": "code",
   "execution_count": 8,
   "id": "44912384-e599-4775-9b41-a36d90158c23",
   "metadata": {},
   "outputs": [
    {
     "data": {
      "text/html": [
       "<div>\n",
       "<style scoped>\n",
       "    .dataframe tbody tr th:only-of-type {\n",
       "        vertical-align: middle;\n",
       "    }\n",
       "\n",
       "    .dataframe tbody tr th {\n",
       "        vertical-align: top;\n",
       "    }\n",
       "\n",
       "    .dataframe thead th {\n",
       "        text-align: right;\n",
       "    }\n",
       "</style>\n",
       "<table border=\"1\" class=\"dataframe\">\n",
       "  <thead>\n",
       "    <tr style=\"text-align: right;\">\n",
       "      <th></th>\n",
       "      <th>Role</th>\n",
       "      <th>Company</th>\n",
       "      <th>Job_title</th>\n",
       "      <th>Place</th>\n",
       "      <th>Salary</th>\n",
       "      <th>Experience</th>\n",
       "    </tr>\n",
       "  </thead>\n",
       "  <tbody>\n",
       "    <tr>\n",
       "      <th>0</th>\n",
       "      <td>Software quality assurance tester</td>\n",
       "      <td>General Dynamics Mission Systems, Inc</td>\n",
       "      <td>Integration and Test (I&amp;T) Engineer</td>\n",
       "      <td>Bloomington, MN</td>\n",
       "      <td>$143K - $150K (Employer est.)</td>\n",
       "      <td>Entry</td>\n",
       "    </tr>\n",
       "    <tr>\n",
       "      <th>1</th>\n",
       "      <td>Software quality assurance tester</td>\n",
       "      <td>Gaming Laboratories International</td>\n",
       "      <td>Test Engineer I - CO</td>\n",
       "      <td>Wheat Ridge, CO</td>\n",
       "      <td>$29.24 - $30.24 Per Hour (Employer est.)</td>\n",
       "      <td>Entry</td>\n",
       "    </tr>\n",
       "    <tr>\n",
       "      <th>2</th>\n",
       "      <td>Software quality assurance tester</td>\n",
       "      <td>IDC</td>\n",
       "      <td>Junior Functional Tester only W2</td>\n",
       "      <td>Sacramento, CA</td>\n",
       "      <td>$49K - $76K (Glassdoor est.)</td>\n",
       "      <td>Entry</td>\n",
       "    </tr>\n",
       "    <tr>\n",
       "      <th>3</th>\n",
       "      <td>Software quality assurance tester</td>\n",
       "      <td>Edwards Lifesciences</td>\n",
       "      <td>Engr I, Software Quality - Failure Analysis</td>\n",
       "      <td>Naperville, IL</td>\n",
       "      <td>$67K - $96K (Employer est.)</td>\n",
       "      <td>Entry</td>\n",
       "    </tr>\n",
       "    <tr>\n",
       "      <th>4</th>\n",
       "      <td>Software quality assurance tester</td>\n",
       "      <td>Outcomes Operating Inc</td>\n",
       "      <td>Quality Assurance Analyst I</td>\n",
       "      <td>Dublin, OH</td>\n",
       "      <td>$54K - $74K (Glassdoor est.)</td>\n",
       "      <td>Entry</td>\n",
       "    </tr>\n",
       "  </tbody>\n",
       "</table>\n",
       "</div>"
      ],
      "text/plain": [
       "                                  Role                                Company  \\\n",
       "0   Software quality assurance tester   General Dynamics Mission Systems, Inc   \n",
       "1   Software quality assurance tester       Gaming Laboratories International   \n",
       "2   Software quality assurance tester                                     IDC   \n",
       "3   Software quality assurance tester                    Edwards Lifesciences   \n",
       "4   Software quality assurance tester                  Outcomes Operating Inc   \n",
       "\n",
       "                                     Job_title            Place  \\\n",
       "0          Integration and Test (I&T) Engineer  Bloomington, MN   \n",
       "1                         Test Engineer I - CO  Wheat Ridge, CO   \n",
       "2             Junior Functional Tester only W2   Sacramento, CA   \n",
       "3  Engr I, Software Quality - Failure Analysis   Naperville, IL   \n",
       "4                  Quality Assurance Analyst I       Dublin, OH   \n",
       "\n",
       "                                     Salary Experience  \n",
       "0             $143K - $150K (Employer est.)      Entry  \n",
       "1  $29.24 - $30.24 Per Hour (Employer est.)      Entry  \n",
       "2              $49K - $76K (Glassdoor est.)      Entry  \n",
       "3               $67K - $96K (Employer est.)      Entry  \n",
       "4              $54K - $74K (Glassdoor est.)      Entry  "
      ]
     },
     "execution_count": 8,
     "metadata": {},
     "output_type": "execute_result"
    }
   ],
   "source": [
    "df_entry.head()"
   ]
  },
  {
   "cell_type": "markdown",
   "id": "c9b59db9-d855-41a2-9d97-6512affd3c29",
   "metadata": {},
   "source": [
    "## Mid-Level jobs ##"
   ]
  },
  {
   "cell_type": "code",
   "execution_count": 10,
   "id": "64763531-813a-4084-bd4d-9452ba87ba3a",
   "metadata": {},
   "outputs": [],
   "source": [
    "df1 = pd.read_csv('WebDeveloper_office_mid.csv')\n",
    "df2 = pd.read_csv('software quality assurance tester_office_midlevel.csv')\n",
    "df3 = pd.read_csv('DBA_midlevel.csv')\n",
    "df4 = pd.read_csv('IT Security Analyst_mid.csv')\n",
    "df5 = pd.read_csv('Accountant_mid.csv')\n",
    "df6 = pd.read_csv('Network_administrator_mid.csv')\n",
    "df7 = pd.read_csv('op research_mid.csv')\n",
    "df8 = pd.read_csv('CybersecurityEngineer_mid.csv')\n",
    "df9 = pd.read_csv('Glassdoor Scraper-ManagementAnalysts-midLevel.csv')\n",
    "df10 = pd.read_csv('data scientist_mid.csv')"
   ]
  },
  {
   "cell_type": "code",
   "execution_count": 11,
   "id": "0e9ad8eb-5e15-467c-8fe7-bfea2105f6d3",
   "metadata": {},
   "outputs": [
    {
     "data": {
      "text/html": [
       "<div>\n",
       "<style scoped>\n",
       "    .dataframe tbody tr th:only-of-type {\n",
       "        vertical-align: middle;\n",
       "    }\n",
       "\n",
       "    .dataframe tbody tr th {\n",
       "        vertical-align: top;\n",
       "    }\n",
       "\n",
       "    .dataframe thead th {\n",
       "        text-align: right;\n",
       "    }\n",
       "</style>\n",
       "<table border=\"1\" class=\"dataframe\">\n",
       "  <thead>\n",
       "    <tr style=\"text-align: right;\">\n",
       "      <th></th>\n",
       "      <th>Role</th>\n",
       "      <th>Company</th>\n",
       "      <th>Job_title</th>\n",
       "      <th>Place</th>\n",
       "      <th>Salary</th>\n",
       "    </tr>\n",
       "  </thead>\n",
       "  <tbody>\n",
       "    <tr>\n",
       "      <th>0</th>\n",
       "      <td>Web developer</td>\n",
       "      <td>Pizza Pad</td>\n",
       "      <td>Senior Flutter Developer</td>\n",
       "      <td>Howell, MI</td>\n",
       "      <td>$105K - $111K (Employer est.)</td>\n",
       "    </tr>\n",
       "    <tr>\n",
       "      <th>1</th>\n",
       "      <td>Web developer</td>\n",
       "      <td>Rightline Equipment</td>\n",
       "      <td>Senior Web Developer</td>\n",
       "      <td>Remote</td>\n",
       "      <td>$100K - $125K (Employer est.)</td>\n",
       "    </tr>\n",
       "    <tr>\n",
       "      <th>2</th>\n",
       "      <td>Web developer</td>\n",
       "      <td>Uline</td>\n",
       "      <td>Software Development Team Lead - Web</td>\n",
       "      <td>Pleasant Prairie, WI</td>\n",
       "      <td>$121K - $160K (Employer est.)</td>\n",
       "    </tr>\n",
       "    <tr>\n",
       "      <th>3</th>\n",
       "      <td>Web developer</td>\n",
       "      <td>MSC Technology</td>\n",
       "      <td>Senior Web Developer</td>\n",
       "      <td>Warren, NJ</td>\n",
       "      <td>$101K - $139K (Glassdoor est.)</td>\n",
       "    </tr>\n",
       "    <tr>\n",
       "      <th>4</th>\n",
       "      <td>Web developer</td>\n",
       "      <td>Uline</td>\n",
       "      <td>Senior Graphic Web Designer</td>\n",
       "      <td>Pleasant Prairie, WI</td>\n",
       "      <td>NaN</td>\n",
       "    </tr>\n",
       "  </tbody>\n",
       "</table>\n",
       "</div>"
      ],
      "text/plain": [
       "              Role              Company                             Job_title  \\\n",
       "0   Web developer             Pizza Pad              Senior Flutter Developer   \n",
       "1   Web developer   Rightline Equipment                  Senior Web Developer   \n",
       "2   Web developer                 Uline  Software Development Team Lead - Web   \n",
       "3   Web developer        MSC Technology                  Senior Web Developer   \n",
       "4   Web developer                 Uline           Senior Graphic Web Designer   \n",
       "\n",
       "                  Place                          Salary  \n",
       "0            Howell, MI   $105K - $111K (Employer est.)  \n",
       "1                Remote   $100K - $125K (Employer est.)  \n",
       "2  Pleasant Prairie, WI   $121K - $160K (Employer est.)  \n",
       "3            Warren, NJ  $101K - $139K (Glassdoor est.)  \n",
       "4  Pleasant Prairie, WI                             NaN  "
      ]
     },
     "execution_count": 11,
     "metadata": {},
     "output_type": "execute_result"
    }
   ],
   "source": [
    "# Concatenate the dataframes \n",
    "\n",
    "df_mid = pd.concat([df1,df2,df3,df4,df5,df6,df7,df8,df9,df10], ignore_index=True)\n",
    "df_mid.head()"
   ]
  },
  {
   "cell_type": "code",
   "execution_count": 12,
   "id": "af17169c-fb25-4761-9767-258928263a13",
   "metadata": {},
   "outputs": [
    {
     "data": {
      "text/plain": [
       "(9335, 5)"
      ]
     },
     "execution_count": 12,
     "metadata": {},
     "output_type": "execute_result"
    }
   ],
   "source": [
    "df_mid.shape"
   ]
  },
  {
   "cell_type": "code",
   "execution_count": 13,
   "id": "fe12cc6d-edb8-4b02-a75b-2026e4627053",
   "metadata": {},
   "outputs": [],
   "source": [
    "#Adding new column\n",
    "df_mid['Experience'] = 'Mid'"
   ]
  },
  {
   "cell_type": "markdown",
   "id": "69c66e15-858d-4fd8-827e-75b39a9d6650",
   "metadata": {},
   "source": [
    "## Senior level jobs ##"
   ]
  },
  {
   "cell_type": "code",
   "execution_count": 15,
   "id": "c231af84-7bcf-4878-a061-43847ce25419",
   "metadata": {},
   "outputs": [
    {
     "name": "stderr",
     "output_type": "stream",
     "text": [
      "/var/folders/sx/60_bj5px0wx1bnj278_ft4b40000gn/T/ipykernel_9971/3487038962.py:7: UserWarning: This pattern is interpreted as a regular expression, and has match groups. To actually get the groups, use str.extract.\n",
      "  df_mid.loc[df_mid['Job_title'].str.contains(pattern, case=False, regex=True), 'Experience'] = 'Senior'\n"
     ]
    },
    {
     "data": {
      "text/html": [
       "<div>\n",
       "<style scoped>\n",
       "    .dataframe tbody tr th:only-of-type {\n",
       "        vertical-align: middle;\n",
       "    }\n",
       "\n",
       "    .dataframe tbody tr th {\n",
       "        vertical-align: top;\n",
       "    }\n",
       "\n",
       "    .dataframe thead th {\n",
       "        text-align: right;\n",
       "    }\n",
       "</style>\n",
       "<table border=\"1\" class=\"dataframe\">\n",
       "  <thead>\n",
       "    <tr style=\"text-align: right;\">\n",
       "      <th></th>\n",
       "      <th>Role</th>\n",
       "      <th>Company</th>\n",
       "      <th>Job_title</th>\n",
       "      <th>Place</th>\n",
       "      <th>Salary</th>\n",
       "      <th>Experience</th>\n",
       "    </tr>\n",
       "  </thead>\n",
       "  <tbody>\n",
       "    <tr>\n",
       "      <th>0</th>\n",
       "      <td>Web developer</td>\n",
       "      <td>Pizza Pad</td>\n",
       "      <td>Senior Flutter Developer</td>\n",
       "      <td>Howell, MI</td>\n",
       "      <td>$105K - $111K (Employer est.)</td>\n",
       "      <td>Senior</td>\n",
       "    </tr>\n",
       "    <tr>\n",
       "      <th>1</th>\n",
       "      <td>Web developer</td>\n",
       "      <td>Rightline Equipment</td>\n",
       "      <td>Senior Web Developer</td>\n",
       "      <td>Remote</td>\n",
       "      <td>$100K - $125K (Employer est.)</td>\n",
       "      <td>Senior</td>\n",
       "    </tr>\n",
       "    <tr>\n",
       "      <th>2</th>\n",
       "      <td>Web developer</td>\n",
       "      <td>Uline</td>\n",
       "      <td>Software Development Team Lead - Web</td>\n",
       "      <td>Pleasant Prairie, WI</td>\n",
       "      <td>$121K - $160K (Employer est.)</td>\n",
       "      <td>Mid</td>\n",
       "    </tr>\n",
       "    <tr>\n",
       "      <th>3</th>\n",
       "      <td>Web developer</td>\n",
       "      <td>MSC Technology</td>\n",
       "      <td>Senior Web Developer</td>\n",
       "      <td>Warren, NJ</td>\n",
       "      <td>$101K - $139K (Glassdoor est.)</td>\n",
       "      <td>Senior</td>\n",
       "    </tr>\n",
       "    <tr>\n",
       "      <th>4</th>\n",
       "      <td>Web developer</td>\n",
       "      <td>Uline</td>\n",
       "      <td>Senior Graphic Web Designer</td>\n",
       "      <td>Pleasant Prairie, WI</td>\n",
       "      <td>NaN</td>\n",
       "      <td>Senior</td>\n",
       "    </tr>\n",
       "  </tbody>\n",
       "</table>\n",
       "</div>"
      ],
      "text/plain": [
       "              Role              Company                             Job_title  \\\n",
       "0   Web developer             Pizza Pad              Senior Flutter Developer   \n",
       "1   Web developer   Rightline Equipment                  Senior Web Developer   \n",
       "2   Web developer                 Uline  Software Development Team Lead - Web   \n",
       "3   Web developer        MSC Technology                  Senior Web Developer   \n",
       "4   Web developer                 Uline           Senior Graphic Web Designer   \n",
       "\n",
       "                  Place                          Salary Experience  \n",
       "0            Howell, MI   $105K - $111K (Employer est.)     Senior  \n",
       "1                Remote   $100K - $125K (Employer est.)     Senior  \n",
       "2  Pleasant Prairie, WI   $121K - $160K (Employer est.)        Mid  \n",
       "3            Warren, NJ  $101K - $139K (Glassdoor est.)     Senior  \n",
       "4  Pleasant Prairie, WI                             NaN     Senior  "
      ]
     },
     "execution_count": 15,
     "metadata": {},
     "output_type": "execute_result"
    }
   ],
   "source": [
    "#Seperating Senior experience jobs\n",
    "\n",
    "# Define the regex pattern for senior-like titles\n",
    "pattern = r'\\b(senior|sr\\.?)\\b'\n",
    "\n",
    "# Use str.contains with case-insensitive search\n",
    "df_mid.loc[df_mid['Job_title'].str.contains(pattern, case=False, regex=True), 'Experience'] = 'Senior'\n",
    "\n",
    "df_mid.head()"
   ]
  },
  {
   "cell_type": "code",
   "execution_count": 16,
   "id": "800d475b-0ae7-42c9-8adf-a421955fbfc9",
   "metadata": {},
   "outputs": [
    {
     "data": {
      "text/plain": [
       "(4532, 6)"
      ]
     },
     "execution_count": 16,
     "metadata": {},
     "output_type": "execute_result"
    }
   ],
   "source": [
    "df_mid[df_mid['Experience']=='Senior'].shape"
   ]
  },
  {
   "cell_type": "markdown",
   "id": "1e47538c-43f0-4618-b33c-c32429ac7931",
   "metadata": {},
   "source": [
    "## Merging the datasets for In-office jobs ##"
   ]
  },
  {
   "cell_type": "code",
   "execution_count": 18,
   "id": "24601044-8063-4de5-ad31-dad9c108386b",
   "metadata": {},
   "outputs": [
    {
     "data": {
      "text/html": [
       "<div>\n",
       "<style scoped>\n",
       "    .dataframe tbody tr th:only-of-type {\n",
       "        vertical-align: middle;\n",
       "    }\n",
       "\n",
       "    .dataframe tbody tr th {\n",
       "        vertical-align: top;\n",
       "    }\n",
       "\n",
       "    .dataframe thead th {\n",
       "        text-align: right;\n",
       "    }\n",
       "</style>\n",
       "<table border=\"1\" class=\"dataframe\">\n",
       "  <thead>\n",
       "    <tr style=\"text-align: right;\">\n",
       "      <th></th>\n",
       "      <th>Role</th>\n",
       "      <th>Company</th>\n",
       "      <th>Job_title</th>\n",
       "      <th>Place</th>\n",
       "      <th>Salary</th>\n",
       "      <th>Experience</th>\n",
       "    </tr>\n",
       "  </thead>\n",
       "  <tbody>\n",
       "    <tr>\n",
       "      <th>0</th>\n",
       "      <td>Software quality assurance tester</td>\n",
       "      <td>General Dynamics Mission Systems, Inc</td>\n",
       "      <td>Integration and Test (I&amp;T) Engineer</td>\n",
       "      <td>Bloomington, MN</td>\n",
       "      <td>$143K - $150K (Employer est.)</td>\n",
       "      <td>Entry</td>\n",
       "    </tr>\n",
       "    <tr>\n",
       "      <th>1</th>\n",
       "      <td>Software quality assurance tester</td>\n",
       "      <td>Gaming Laboratories International</td>\n",
       "      <td>Test Engineer I - CO</td>\n",
       "      <td>Wheat Ridge, CO</td>\n",
       "      <td>$29.24 - $30.24 Per Hour (Employer est.)</td>\n",
       "      <td>Entry</td>\n",
       "    </tr>\n",
       "    <tr>\n",
       "      <th>2</th>\n",
       "      <td>Software quality assurance tester</td>\n",
       "      <td>IDC</td>\n",
       "      <td>Junior Functional Tester only W2</td>\n",
       "      <td>Sacramento, CA</td>\n",
       "      <td>$49K - $76K (Glassdoor est.)</td>\n",
       "      <td>Entry</td>\n",
       "    </tr>\n",
       "    <tr>\n",
       "      <th>3</th>\n",
       "      <td>Software quality assurance tester</td>\n",
       "      <td>Edwards Lifesciences</td>\n",
       "      <td>Engr I, Software Quality - Failure Analysis</td>\n",
       "      <td>Naperville, IL</td>\n",
       "      <td>$67K - $96K (Employer est.)</td>\n",
       "      <td>Entry</td>\n",
       "    </tr>\n",
       "    <tr>\n",
       "      <th>4</th>\n",
       "      <td>Software quality assurance tester</td>\n",
       "      <td>Outcomes Operating Inc</td>\n",
       "      <td>Quality Assurance Analyst I</td>\n",
       "      <td>Dublin, OH</td>\n",
       "      <td>$54K - $74K (Glassdoor est.)</td>\n",
       "      <td>Entry</td>\n",
       "    </tr>\n",
       "  </tbody>\n",
       "</table>\n",
       "</div>"
      ],
      "text/plain": [
       "                                  Role                                Company  \\\n",
       "0   Software quality assurance tester   General Dynamics Mission Systems, Inc   \n",
       "1   Software quality assurance tester       Gaming Laboratories International   \n",
       "2   Software quality assurance tester                                     IDC   \n",
       "3   Software quality assurance tester                    Edwards Lifesciences   \n",
       "4   Software quality assurance tester                  Outcomes Operating Inc   \n",
       "\n",
       "                                     Job_title            Place  \\\n",
       "0          Integration and Test (I&T) Engineer  Bloomington, MN   \n",
       "1                         Test Engineer I - CO  Wheat Ridge, CO   \n",
       "2             Junior Functional Tester only W2   Sacramento, CA   \n",
       "3  Engr I, Software Quality - Failure Analysis   Naperville, IL   \n",
       "4                  Quality Assurance Analyst I       Dublin, OH   \n",
       "\n",
       "                                     Salary Experience  \n",
       "0             $143K - $150K (Employer est.)      Entry  \n",
       "1  $29.24 - $30.24 Per Hour (Employer est.)      Entry  \n",
       "2              $49K - $76K (Glassdoor est.)      Entry  \n",
       "3               $67K - $96K (Employer est.)      Entry  \n",
       "4              $54K - $74K (Glassdoor est.)      Entry  "
      ]
     },
     "execution_count": 18,
     "metadata": {},
     "output_type": "execute_result"
    }
   ],
   "source": [
    "df = pd.concat([df_entry,df_mid], ignore_index=True)\n",
    "df.head()"
   ]
  },
  {
   "cell_type": "code",
   "execution_count": 19,
   "id": "9da85926-87bc-4861-bf77-442ca95af131",
   "metadata": {},
   "outputs": [
    {
     "data": {
      "text/plain": [
       "(11264, 6)"
      ]
     },
     "execution_count": 19,
     "metadata": {},
     "output_type": "execute_result"
    }
   ],
   "source": [
    "df.shape"
   ]
  },
  {
   "cell_type": "code",
   "execution_count": 20,
   "id": "61e2f2aa-a50c-4bd8-a13f-2e6306a49845",
   "metadata": {},
   "outputs": [
    {
     "data": {
      "text/plain": [
       "(10755, 6)"
      ]
     },
     "execution_count": 20,
     "metadata": {},
     "output_type": "execute_result"
    }
   ],
   "source": [
    "## Data Cleaning and Pre-processing \n",
    "# Remove 'remote' job location entries\n",
    "\n",
    "df = df[~df['Place'].str.contains('remote', case=False, na=False)]\n",
    "df.shape"
   ]
  },
  {
   "cell_type": "markdown",
   "id": "cfc1bce6-06c6-4d1b-a0e6-14f3adab85bc",
   "metadata": {},
   "source": [
    "# Merging remote jobs dataset"
   ]
  },
  {
   "cell_type": "code",
   "execution_count": 22,
   "id": "e5d3c2c9-3606-4657-a2db-94e7d01a4d72",
   "metadata": {},
   "outputs": [],
   "source": [
    "df1 = pd.read_csv('Accountant_remote.csv')\n",
    "df2 = pd.read_csv('Cybersecurity_remote_midlevel.csv')\n",
    "df3 = pd.read_csv('data scientist_remote.csv')\n",
    "df4 = pd.read_csv('DBA_remote.csv')\n",
    "df5 = pd.read_csv('IT Security analyst_remote.csv')\n",
    "df6 = pd.read_csv('Op research ana & Network_administrator_remote.csv')\n",
    "df7 = pd.read_csv('QA_Rmote.csv')\n",
    "df8 = pd.read_csv('WebDeveloper_remote_midlevel.csv')\n",
    "df9 = pd.read_csv('Managemnet analysts_remote.csv')"
   ]
  },
  {
   "cell_type": "code",
   "execution_count": 23,
   "id": "acdbd444-ccbd-4845-92d7-e7fcded23e66",
   "metadata": {},
   "outputs": [
    {
     "data": {
      "text/html": [
       "<div>\n",
       "<style scoped>\n",
       "    .dataframe tbody tr th:only-of-type {\n",
       "        vertical-align: middle;\n",
       "    }\n",
       "\n",
       "    .dataframe tbody tr th {\n",
       "        vertical-align: top;\n",
       "    }\n",
       "\n",
       "    .dataframe thead th {\n",
       "        text-align: right;\n",
       "    }\n",
       "</style>\n",
       "<table border=\"1\" class=\"dataframe\">\n",
       "  <thead>\n",
       "    <tr style=\"text-align: right;\">\n",
       "      <th></th>\n",
       "      <th>Keyword</th>\n",
       "      <th>Location</th>\n",
       "      <th>rating</th>\n",
       "      <th>Company</th>\n",
       "      <th>Job_title</th>\n",
       "      <th>Place</th>\n",
       "      <th>salary</th>\n",
       "      <th>post_date</th>\n",
       "      <th>Job_URLs</th>\n",
       "      <th>Job_description</th>\n",
       "    </tr>\n",
       "  </thead>\n",
       "  <tbody>\n",
       "    <tr>\n",
       "      <th>0</th>\n",
       "      <td>Accountant</td>\n",
       "      <td>United States</td>\n",
       "      <td>3.8</td>\n",
       "      <td>Delerme CPA, LLC</td>\n",
       "      <td>Bilingual (English/Spanish) Tax CPA Manager</td>\n",
       "      <td>Puerto Rico</td>\n",
       "      <td>$84K - $89K (Employer est.)</td>\n",
       "      <td>30d+</td>\n",
       "      <td>https://www.glassdoor.com/partner/jobListing.h...</td>\n",
       "      <td>Bachelor’s degree in Accounting, Finance, or r...</td>\n",
       "    </tr>\n",
       "    <tr>\n",
       "      <th>1</th>\n",
       "      <td>Accountant</td>\n",
       "      <td>United States</td>\n",
       "      <td>NaN</td>\n",
       "      <td>Robert Lee &amp; Associates, LLP</td>\n",
       "      <td>Senior Tax Manager - California Resident</td>\n",
       "      <td>Remote</td>\n",
       "      <td>$150K - $195K (Employer est.)</td>\n",
       "      <td>30d+</td>\n",
       "      <td>https://www.glassdoor.com/partner/jobListing.h...</td>\n",
       "      <td>Advise clients on a full spectrum of tax servi...</td>\n",
       "    </tr>\n",
       "    <tr>\n",
       "      <th>2</th>\n",
       "      <td>Accountant</td>\n",
       "      <td>United States</td>\n",
       "      <td>3.5</td>\n",
       "      <td>Finch</td>\n",
       "      <td>Staff Accountant</td>\n",
       "      <td>Remote</td>\n",
       "      <td>$45K - $58K (Employer est.)</td>\n",
       "      <td>30d+</td>\n",
       "      <td>https://www.glassdoor.com/partner/jobListing.h...</td>\n",
       "      <td>Booking income (donor tracking if applicable)....</td>\n",
       "    </tr>\n",
       "    <tr>\n",
       "      <th>3</th>\n",
       "      <td>Accountant</td>\n",
       "      <td>United States</td>\n",
       "      <td>2.9</td>\n",
       "      <td>Polston Tax Resolution &amp; Accounting</td>\n",
       "      <td>Senior Tax Accountant III (CPA or EA)</td>\n",
       "      <td>Remote</td>\n",
       "      <td>$75K (Employer est.)</td>\n",
       "      <td>30d+</td>\n",
       "      <td>https://www.glassdoor.com/partner/jobListing.h...</td>\n",
       "      <td>_*Additional benefits - *_paid time off (PTO) ...</td>\n",
       "    </tr>\n",
       "    <tr>\n",
       "      <th>4</th>\n",
       "      <td>Accountant</td>\n",
       "      <td>United States</td>\n",
       "      <td>NaN</td>\n",
       "      <td>Stout Advisory</td>\n",
       "      <td>Staff Accountant</td>\n",
       "      <td>Remote</td>\n",
       "      <td>$50K (Employer est.)</td>\n",
       "      <td>4d</td>\n",
       "      <td>https://www.glassdoor.com/partner/jobListing.h...</td>\n",
       "      <td>Conduct financial analysis and create forecast...</td>\n",
       "    </tr>\n",
       "  </tbody>\n",
       "</table>\n",
       "</div>"
      ],
      "text/plain": [
       "        Keyword       Location  rating                              Company  \\\n",
       "0   Accountant   United States     3.8                     Delerme CPA, LLC   \n",
       "1   Accountant   United States     NaN         Robert Lee & Associates, LLP   \n",
       "2   Accountant   United States     3.5                                Finch   \n",
       "3   Accountant   United States     2.9  Polston Tax Resolution & Accounting   \n",
       "4   Accountant   United States     NaN                       Stout Advisory   \n",
       "\n",
       "                                     Job_title        Place  \\\n",
       "0  Bilingual (English/Spanish) Tax CPA Manager  Puerto Rico   \n",
       "1     Senior Tax Manager - California Resident       Remote   \n",
       "2                             Staff Accountant       Remote   \n",
       "3        Senior Tax Accountant III (CPA or EA)       Remote   \n",
       "4                             Staff Accountant       Remote   \n",
       "\n",
       "                          salary post_date  \\\n",
       "0    $84K - $89K (Employer est.)      30d+   \n",
       "1  $150K - $195K (Employer est.)      30d+   \n",
       "2    $45K - $58K (Employer est.)      30d+   \n",
       "3           $75K (Employer est.)      30d+   \n",
       "4           $50K (Employer est.)        4d   \n",
       "\n",
       "                                            Job_URLs  \\\n",
       "0  https://www.glassdoor.com/partner/jobListing.h...   \n",
       "1  https://www.glassdoor.com/partner/jobListing.h...   \n",
       "2  https://www.glassdoor.com/partner/jobListing.h...   \n",
       "3  https://www.glassdoor.com/partner/jobListing.h...   \n",
       "4  https://www.glassdoor.com/partner/jobListing.h...   \n",
       "\n",
       "                                     Job_description  \n",
       "0  Bachelor’s degree in Accounting, Finance, or r...  \n",
       "1  Advise clients on a full spectrum of tax servi...  \n",
       "2  Booking income (donor tracking if applicable)....  \n",
       "3  _*Additional benefits - *_paid time off (PTO) ...  \n",
       "4  Conduct financial analysis and create forecast...  "
      ]
     },
     "execution_count": 23,
     "metadata": {},
     "output_type": "execute_result"
    }
   ],
   "source": [
    "df_remote = pd.concat([df1,df2,df3,df4,df5,df6,df7,df8,df9], ignore_index=True)\n",
    "df_remote.head()"
   ]
  },
  {
   "cell_type": "code",
   "execution_count": 24,
   "id": "41b52729-c29c-46cc-8a0d-d07637bb13da",
   "metadata": {},
   "outputs": [
    {
     "data": {
      "text/plain": [
       "(3136, 10)"
      ]
     },
     "execution_count": 24,
     "metadata": {},
     "output_type": "execute_result"
    }
   ],
   "source": [
    "df_remote.shape"
   ]
  },
  {
   "cell_type": "code",
   "execution_count": 25,
   "id": "d3f4723c-c449-4f7e-8dea-e872108e730c",
   "metadata": {},
   "outputs": [
    {
     "data": {
      "text/plain": [
       "(3136, 5)"
      ]
     },
     "execution_count": 25,
     "metadata": {},
     "output_type": "execute_result"
    }
   ],
   "source": [
    "df_remote.drop(columns=['Location','rating','post_date','Job_URLs','Job_description'], inplace=True)\n",
    "df_remote.shape"
   ]
  },
  {
   "cell_type": "code",
   "execution_count": 26,
   "id": "593aa751-32e3-49fe-abd9-a688361f4803",
   "metadata": {
    "scrolled": true
   },
   "outputs": [],
   "source": [
    "df_remote.rename(columns={'Keyword':'Role', 'salary':'Salary'}, inplace=True)"
   ]
  },
  {
   "cell_type": "code",
   "execution_count": 27,
   "id": "98ad8c28-4b7c-429e-b9de-76015b4b433b",
   "metadata": {},
   "outputs": [
    {
     "name": "stdout",
     "output_type": "stream",
     "text": [
      "[' Software quality assurance tester ' ' Accountant '\n",
      " ' Cybersecurity engineer ' ' Data scientist ' ' Database administrators '\n",
      " ' Management analyst ' ' Security analyst '\n",
      " ' Operations research analyst ' ' Network administrator '\n",
      " ' Web developer ' 'cybersecurity engineer' 'management analyst']\n",
      "[' Accountant ' ' Cybersecurity engineer ' ' Data scientist '\n",
      " ' Database administrator ' ' Security analyst ' ' Network administrator '\n",
      " ' Operations research analyst ' ' Software quality assurance tester '\n",
      " ' Web developer ' ' Management analyst ']\n"
     ]
    }
   ],
   "source": [
    "# Check the Role names in all datasets\n",
    "\n",
    "print(df['Role'].unique())\n",
    "print(df_remote['Role'].unique())"
   ]
  },
  {
   "cell_type": "code",
   "execution_count": 28,
   "id": "64a82ce6-1a96-487f-93c9-582934b179e6",
   "metadata": {},
   "outputs": [],
   "source": [
    "df['Role'] = df['Role'].replace({' Database administrators ':'Database administrator', 'cybersecurity engineer':'Cybersecurity engineer','management analyst':'Management analyst'})"
   ]
  },
  {
   "cell_type": "code",
   "execution_count": 29,
   "id": "e91066dd-acb7-4176-b07f-02f9eaa51bbb",
   "metadata": {},
   "outputs": [
    {
     "name": "stderr",
     "output_type": "stream",
     "text": [
      "/var/folders/sx/60_bj5px0wx1bnj278_ft4b40000gn/T/ipykernel_9971/2661815014.py:10: UserWarning: This pattern is interpreted as a regular expression, and has match groups. To actually get the groups, use str.extract.\n",
      "  df_remote.loc[df_remote['Job_title'].str.contains(pattern, case=False, regex=True), 'Experience'] = 'Senior'\n"
     ]
    },
    {
     "data": {
      "text/html": [
       "<div>\n",
       "<style scoped>\n",
       "    .dataframe tbody tr th:only-of-type {\n",
       "        vertical-align: middle;\n",
       "    }\n",
       "\n",
       "    .dataframe tbody tr th {\n",
       "        vertical-align: top;\n",
       "    }\n",
       "\n",
       "    .dataframe thead th {\n",
       "        text-align: right;\n",
       "    }\n",
       "</style>\n",
       "<table border=\"1\" class=\"dataframe\">\n",
       "  <thead>\n",
       "    <tr style=\"text-align: right;\">\n",
       "      <th></th>\n",
       "      <th>Role</th>\n",
       "      <th>Company</th>\n",
       "      <th>Job_title</th>\n",
       "      <th>Place</th>\n",
       "      <th>Salary</th>\n",
       "      <th>Experience</th>\n",
       "    </tr>\n",
       "  </thead>\n",
       "  <tbody>\n",
       "    <tr>\n",
       "      <th>0</th>\n",
       "      <td>Accountant</td>\n",
       "      <td>Delerme CPA, LLC</td>\n",
       "      <td>Bilingual (English/Spanish) Tax CPA Manager</td>\n",
       "      <td>Puerto Rico</td>\n",
       "      <td>$84K - $89K (Employer est.)</td>\n",
       "      <td>Mid</td>\n",
       "    </tr>\n",
       "    <tr>\n",
       "      <th>1</th>\n",
       "      <td>Accountant</td>\n",
       "      <td>Robert Lee &amp; Associates, LLP</td>\n",
       "      <td>Senior Tax Manager - California Resident</td>\n",
       "      <td>Remote</td>\n",
       "      <td>$150K - $195K (Employer est.)</td>\n",
       "      <td>Senior</td>\n",
       "    </tr>\n",
       "    <tr>\n",
       "      <th>2</th>\n",
       "      <td>Accountant</td>\n",
       "      <td>Finch</td>\n",
       "      <td>Staff Accountant</td>\n",
       "      <td>Remote</td>\n",
       "      <td>$45K - $58K (Employer est.)</td>\n",
       "      <td>Mid</td>\n",
       "    </tr>\n",
       "    <tr>\n",
       "      <th>3</th>\n",
       "      <td>Accountant</td>\n",
       "      <td>Polston Tax Resolution &amp; Accounting</td>\n",
       "      <td>Senior Tax Accountant III (CPA or EA)</td>\n",
       "      <td>Remote</td>\n",
       "      <td>$75K (Employer est.)</td>\n",
       "      <td>Senior</td>\n",
       "    </tr>\n",
       "    <tr>\n",
       "      <th>4</th>\n",
       "      <td>Accountant</td>\n",
       "      <td>Stout Advisory</td>\n",
       "      <td>Staff Accountant</td>\n",
       "      <td>Remote</td>\n",
       "      <td>$50K (Employer est.)</td>\n",
       "      <td>Mid</td>\n",
       "    </tr>\n",
       "  </tbody>\n",
       "</table>\n",
       "</div>"
      ],
      "text/plain": [
       "           Role                              Company  \\\n",
       "0   Accountant                      Delerme CPA, LLC   \n",
       "1   Accountant          Robert Lee & Associates, LLP   \n",
       "2   Accountant                                 Finch   \n",
       "3   Accountant   Polston Tax Resolution & Accounting   \n",
       "4   Accountant                        Stout Advisory   \n",
       "\n",
       "                                     Job_title        Place  \\\n",
       "0  Bilingual (English/Spanish) Tax CPA Manager  Puerto Rico   \n",
       "1     Senior Tax Manager - California Resident       Remote   \n",
       "2                             Staff Accountant       Remote   \n",
       "3        Senior Tax Accountant III (CPA or EA)       Remote   \n",
       "4                             Staff Accountant       Remote   \n",
       "\n",
       "                          Salary Experience  \n",
       "0    $84K - $89K (Employer est.)        Mid  \n",
       "1  $150K - $195K (Employer est.)     Senior  \n",
       "2    $45K - $58K (Employer est.)        Mid  \n",
       "3           $75K (Employer est.)     Senior  \n",
       "4           $50K (Employer est.)        Mid  "
      ]
     },
     "execution_count": 29,
     "metadata": {},
     "output_type": "execute_result"
    }
   ],
   "source": [
    "#Adding new column\n",
    "df_remote['Experience'] = 'Mid'\n",
    "\n",
    "#Seperating Senior experience jobs\n",
    "\n",
    "# Define the regex pattern for senior-like titles\n",
    "pattern = r'\\b(senior|sr\\.?)\\b'\n",
    "\n",
    "# Use str.contains with case-insensitive search\n",
    "df_remote.loc[df_remote['Job_title'].str.contains(pattern, case=False, regex=True), 'Experience'] = 'Senior'\n",
    "\n",
    "df_remote.head()"
   ]
  },
  {
   "cell_type": "markdown",
   "id": "b839b7f6-34ce-455c-a9c7-bde3b6493529",
   "metadata": {},
   "source": [
    "## Data Cleaning and Pre-processing ##"
   ]
  },
  {
   "cell_type": "code",
   "execution_count": 31,
   "id": "53176f9e-cd54-4504-91c7-26d77ea38aea",
   "metadata": {},
   "outputs": [
    {
     "name": "stdout",
     "output_type": "stream",
     "text": [
      "(7822, 6)\n",
      "(2200, 6)\n"
     ]
    }
   ],
   "source": [
    "# Drop duplicate rows\n",
    "df = df.drop_duplicates()\n",
    "df_remote = df_remote.drop_duplicates()\n",
    "\n",
    "# Remove rows with NaN values in 'Salary_in_office' column\n",
    "df = df.dropna(subset=['Salary'])\n",
    "df_remote = df_remote.dropna(subset=['Salary'])\n",
    "\n",
    "print(df.shape)\n",
    "print(df_remote.shape)\n"
   ]
  },
  {
   "cell_type": "code",
   "execution_count": 32,
   "id": "6c85ea92-b3bd-426e-8c06-3af478173b5a",
   "metadata": {},
   "outputs": [
    {
     "data": {
      "text/plain": [
       "Role          object\n",
       "Company       object\n",
       "Job_title     object\n",
       "Place         object\n",
       "Salary        object\n",
       "Experience    object\n",
       "dtype: object"
      ]
     },
     "execution_count": 32,
     "metadata": {},
     "output_type": "execute_result"
    }
   ],
   "source": [
    "# df['Place']\n",
    "\n",
    "df.dtypes"
   ]
  },
  {
   "cell_type": "code",
   "execution_count": 33,
   "id": "04e156c3-413f-4105-affd-1c6f2973b2e3",
   "metadata": {},
   "outputs": [],
   "source": [
    "# Function to clean and extract the salary range\n",
    "\n",
    "def clean_salary(salary_str):\n",
    "    if isinstance(salary_str, str) and salary_str != 'N/A':\n",
    "        # Remove any non-numeric characters except for numbers, hyphen, period, and commas\n",
    "        salary_str = re.sub(r'[^0-9\\.\\-,]', '', salary_str)  # Remove any unwanted characters\n",
    "        salary_str = salary_str.replace(\",\", \"\")  # Remove commas if present\n",
    "\n",
    "        # If there is a range, split and calculate the average salary\n",
    "        salary_parts = salary_str.split('-')\n",
    "\n",
    "        if len(salary_parts) == 2:\n",
    "            # Remove any trailing characters like periods and calculate the average salary\n",
    "            salary_parts = [s.strip(' .') for s in salary_parts]  # Clean up any trailing spaces/periods\n",
    "            avg_salary = (float(salary_parts[0]) + float(salary_parts[1])) / 2\n",
    "        else:\n",
    "            salary_str = salary_str.strip(' .')  # Clean up the salary string (remove any trailing periods or spaces)\n",
    "            avg_salary = float(salary_str) if salary_str else None\n",
    "\n",
    "        return avg_salary * 1000  # Convert to full salary amount (e.g., $100K becomes 100000)\n",
    "    else:\n",
    "        return None\n",
    "\n",
    "# Clean the salary columns\n",
    "df['Salary'] = df['Salary'].apply(clean_salary)\n",
    "df_remote['Salary'] = df_remote['Salary'].apply(clean_salary)"
   ]
  },
  {
   "cell_type": "code",
   "execution_count": 34,
   "id": "69372d26-d7ef-451d-9d2d-43b9e5445e28",
   "metadata": {},
   "outputs": [],
   "source": [
    "valid_states = {\n",
    "    'Alabama': 'AL', 'Alaska': 'AK', 'Arizona': 'AZ', 'Arkansas': 'AR',\n",
    "    'California': 'CA', 'Colorado': 'CO', 'Connecticut': 'CT', 'Delaware': 'DE',\n",
    "    'Florida': 'FL', 'Georgia': 'GA', 'Hawaii': 'HI', 'Idaho': 'ID',\n",
    "    'Illinois': 'IL', 'Indiana': 'IN', 'Iowa': 'IA', 'Kansas': 'KS',\n",
    "    'Kentucky': 'KY', 'Louisiana': 'LA', 'Maine': 'ME', 'Maryland': 'MD',\n",
    "    'Massachusetts': 'MA', 'Michigan': 'MI', 'Minnesota': 'MN',\n",
    "    'Mississippi': 'MS', 'Missouri': 'MO', 'Montana': 'MT', 'Nebraska': 'NE',\n",
    "    'Nevada': 'NV', 'New Hampshire': 'NH', 'New Jersey': 'NJ',\n",
    "    'New Mexico': 'NM', 'New York': 'NY', 'North Carolina': 'NC',\n",
    "    'North Dakota': 'ND', 'Ohio': 'OH', 'Oklahoma': 'OK', 'Oregon': 'OR',\n",
    "    'Pennsylvania': 'PA', 'Rhode Island': 'RI', 'South Carolina': 'SC',\n",
    "    'South Dakota': 'SD', 'Tennessee': 'TN', 'Texas': 'TX', 'Utah': 'UT',\n",
    "    'Vermont': 'VT', 'Virginia': 'VA', 'Washington': 'WA',\n",
    "    'West Virginia': 'WV', 'Wisconsin': 'WI', 'Wyoming': 'WY',\n",
    "    'District of Columbia': 'DC', 'Puerto Rico': 'PR', 'Guam': 'GU',\n",
    "    'Virgin Islands': 'VI'\n",
    "}\n",
    "\n",
    "valid_state_names = set(valid_states.keys())\n",
    "valid_state_abbrevs = set(valid_states.values())\n",
    "all_valid_states = valid_state_names.union(valid_state_abbrevs)\n",
    "\n",
    "def extract_city_state(place):\n",
    "    if not isinstance(place, str):\n",
    "        return None, None\n",
    "    parts = place.split(', ')\n",
    "    if len(parts) == 2:\n",
    "        city, state = parts\n",
    "        return city.strip(), state.strip()\n",
    "    elif parts[0] in valid_states:\n",
    "        return None, parts[0].strip()\n",
    "    else:\n",
    "        return parts[0].strip(), None\n",
    "\n",
    "\n",
    "\n",
    "# Apply the location standardization\n",
    "df[['City', 'State']] = df['Place'].apply(extract_city_state).apply(pd.Series)\n",
    "df_remote[['City', 'State']] = df_remote['Place'].apply(extract_city_state).apply(pd.Series)"
   ]
  },
  {
   "cell_type": "code",
   "execution_count": 35,
   "id": "5f053c23-93bf-4d34-a524-ed7e084e6a90",
   "metadata": {},
   "outputs": [],
   "source": [
    "# # Standardize the Location format\n",
    "# def standardize_location(location):\n",
    "#     if isinstance(location, str):\n",
    "#         parts = location.split(', ')\n",
    "#         if len(parts) == 2:\n",
    "#             city, state = parts[0], parts[1]\n",
    "#         else:\n",
    "#             city, state = None, parts[0]  # Assume state-only entry\n",
    "#     else:\n",
    "#         city, state = None, None  # Handles NaNs or other non-string entries\n",
    "#     return city, state\n",
    "\n",
    "\n",
    "# # Apply the location standardization\n",
    "# df[['City', 'State']] = df['Place'].apply(standardize_location).apply(pd.Series)\n",
    "# df_remote[['City', 'State']] = df_remote['Place'].apply(standardize_location).apply(pd.Series)"
   ]
  },
  {
   "cell_type": "code",
   "execution_count": 36,
   "id": "cec536e9-834f-48a7-90f4-719b901f1e98",
   "metadata": {},
   "outputs": [
    {
     "data": {
      "text/plain": [
       "(1382, 8)"
      ]
     },
     "execution_count": 36,
     "metadata": {},
     "output_type": "execute_result"
    }
   ],
   "source": [
    "# Drop rows where state is 'remote'\n",
    "df_remote = df_remote[~df_remote[['City', 'State']].apply(lambda x: x.str.contains('remote', case=False, na=False)).any(axis=1)]\n",
    "df_remote.shape"
   ]
  },
  {
   "cell_type": "code",
   "execution_count": 37,
   "id": "473c4d70-f717-42d2-aa7a-a70e0be0abd9",
   "metadata": {},
   "outputs": [],
   "source": [
    "# Merge the datasets on City and State\n",
    "df_wages = pd.merge(df, df_remote, on=['Role', 'City', 'State', 'Experience'], how='left', suffixes=('_in_office', '_remote'))"
   ]
  },
  {
   "cell_type": "code",
   "execution_count": 38,
   "id": "f3d63c9e-2a64-41cb-9677-025c44d345d7",
   "metadata": {},
   "outputs": [
    {
     "data": {
      "text/plain": [
       "(10533, 12)"
      ]
     },
     "execution_count": 38,
     "metadata": {},
     "output_type": "execute_result"
    }
   ],
   "source": [
    "df_wages.shape"
   ]
  },
  {
   "cell_type": "code",
   "execution_count": 39,
   "id": "4de809ac-8bcc-460e-92f8-fbad536f3276",
   "metadata": {},
   "outputs": [
    {
     "data": {
      "text/html": [
       "<div>\n",
       "<style scoped>\n",
       "    .dataframe tbody tr th:only-of-type {\n",
       "        vertical-align: middle;\n",
       "    }\n",
       "\n",
       "    .dataframe tbody tr th {\n",
       "        vertical-align: top;\n",
       "    }\n",
       "\n",
       "    .dataframe thead th {\n",
       "        text-align: right;\n",
       "    }\n",
       "</style>\n",
       "<table border=\"1\" class=\"dataframe\">\n",
       "  <thead>\n",
       "    <tr style=\"text-align: right;\">\n",
       "      <th></th>\n",
       "      <th>Role</th>\n",
       "      <th>Company_in_office</th>\n",
       "      <th>Job_title_in_office</th>\n",
       "      <th>Place_in_office</th>\n",
       "      <th>Salary_in_office</th>\n",
       "      <th>Experience</th>\n",
       "      <th>City</th>\n",
       "      <th>State</th>\n",
       "      <th>Company_remote</th>\n",
       "      <th>Job_title_remote</th>\n",
       "      <th>Place_remote</th>\n",
       "      <th>Salary_remote</th>\n",
       "    </tr>\n",
       "  </thead>\n",
       "  <tbody>\n",
       "    <tr>\n",
       "      <th>10528</th>\n",
       "      <td>Data scientist</td>\n",
       "      <td>Pulley</td>\n",
       "      <td>Senior Applied AI Engineer</td>\n",
       "      <td>San Francisco, CA</td>\n",
       "      <td>247500.0</td>\n",
       "      <td>Senior</td>\n",
       "      <td>San Francisco</td>\n",
       "      <td>CA</td>\n",
       "      <td>Atlassian</td>\n",
       "      <td>Senior Machine Learning Engineer</td>\n",
       "      <td>San Francisco, CA</td>\n",
       "      <td>216000.0</td>\n",
       "    </tr>\n",
       "    <tr>\n",
       "      <th>10529</th>\n",
       "      <td>Data scientist</td>\n",
       "      <td>Pulley</td>\n",
       "      <td>Senior Applied AI Engineer</td>\n",
       "      <td>San Francisco, CA</td>\n",
       "      <td>247500.0</td>\n",
       "      <td>Senior</td>\n",
       "      <td>San Francisco</td>\n",
       "      <td>CA</td>\n",
       "      <td>Curai</td>\n",
       "      <td>Senior Machine Learning Engineer</td>\n",
       "      <td>San Francisco, CA</td>\n",
       "      <td>220000.0</td>\n",
       "    </tr>\n",
       "    <tr>\n",
       "      <th>10530</th>\n",
       "      <td>Data scientist</td>\n",
       "      <td>Pulley</td>\n",
       "      <td>Senior Applied AI Engineer</td>\n",
       "      <td>San Francisco, CA</td>\n",
       "      <td>247500.0</td>\n",
       "      <td>Senior</td>\n",
       "      <td>San Francisco</td>\n",
       "      <td>CA</td>\n",
       "      <td>Upstart</td>\n",
       "      <td>Senior Product Manager, Machine Learning Platform</td>\n",
       "      <td>San Francisco, CA</td>\n",
       "      <td>193500.0</td>\n",
       "    </tr>\n",
       "    <tr>\n",
       "      <th>10531</th>\n",
       "      <td>Data scientist</td>\n",
       "      <td>Apple</td>\n",
       "      <td>AIML - Senior ML Engineer - Siri &amp; Information...</td>\n",
       "      <td>Santa Clara, CA</td>\n",
       "      <td>203500.0</td>\n",
       "      <td>Senior</td>\n",
       "      <td>Santa Clara</td>\n",
       "      <td>CA</td>\n",
       "      <td>Blue River Technology</td>\n",
       "      <td>Senior Machine Learning Educator</td>\n",
       "      <td>Santa Clara, CA</td>\n",
       "      <td>214500.0</td>\n",
       "    </tr>\n",
       "    <tr>\n",
       "      <th>10532</th>\n",
       "      <td>Data scientist</td>\n",
       "      <td>SAIC</td>\n",
       "      <td>Senior Database Engineer Principal</td>\n",
       "      <td>Point Mugu NAWC, CA</td>\n",
       "      <td>180000.0</td>\n",
       "      <td>Senior</td>\n",
       "      <td>Point Mugu NAWC</td>\n",
       "      <td>CA</td>\n",
       "      <td>NaN</td>\n",
       "      <td>NaN</td>\n",
       "      <td>NaN</td>\n",
       "      <td>NaN</td>\n",
       "    </tr>\n",
       "  </tbody>\n",
       "</table>\n",
       "</div>"
      ],
      "text/plain": [
       "                   Role Company_in_office  \\\n",
       "10528   Data scientist             Pulley   \n",
       "10529   Data scientist             Pulley   \n",
       "10530   Data scientist             Pulley   \n",
       "10531   Data scientist              Apple   \n",
       "10532   Data scientist               SAIC   \n",
       "\n",
       "                                     Job_title_in_office      Place_in_office  \\\n",
       "10528                         Senior Applied AI Engineer    San Francisco, CA   \n",
       "10529                         Senior Applied AI Engineer    San Francisco, CA   \n",
       "10530                         Senior Applied AI Engineer    San Francisco, CA   \n",
       "10531  AIML - Senior ML Engineer - Siri & Information...      Santa Clara, CA   \n",
       "10532                 Senior Database Engineer Principal  Point Mugu NAWC, CA   \n",
       "\n",
       "       Salary_in_office Experience             City State  \\\n",
       "10528          247500.0     Senior    San Francisco    CA   \n",
       "10529          247500.0     Senior    San Francisco    CA   \n",
       "10530          247500.0     Senior    San Francisco    CA   \n",
       "10531          203500.0     Senior      Santa Clara    CA   \n",
       "10532          180000.0     Senior  Point Mugu NAWC    CA   \n",
       "\n",
       "              Company_remote  \\\n",
       "10528              Atlassian   \n",
       "10529                  Curai   \n",
       "10530                Upstart   \n",
       "10531  Blue River Technology   \n",
       "10532                    NaN   \n",
       "\n",
       "                                        Job_title_remote       Place_remote  \\\n",
       "10528                   Senior Machine Learning Engineer  San Francisco, CA   \n",
       "10529                   Senior Machine Learning Engineer  San Francisco, CA   \n",
       "10530  Senior Product Manager, Machine Learning Platform  San Francisco, CA   \n",
       "10531                   Senior Machine Learning Educator    Santa Clara, CA   \n",
       "10532                                                NaN                NaN   \n",
       "\n",
       "       Salary_remote  \n",
       "10528       216000.0  \n",
       "10529       220000.0  \n",
       "10530       193500.0  \n",
       "10531       214500.0  \n",
       "10532            NaN  "
      ]
     },
     "execution_count": 39,
     "metadata": {},
     "output_type": "execute_result"
    }
   ],
   "source": [
    "df_wages.tail()"
   ]
  },
  {
   "cell_type": "code",
   "execution_count": 40,
   "id": "2492d8c2-ff4a-47b4-94d9-4e6748236d21",
   "metadata": {},
   "outputs": [],
   "source": [
    "# Drop unneccessary columns\n",
    "df_wages = df_wages.drop(['Company_in_office','Job_title_in_office','Place_in_office','Company_remote','Job_title_remote','Place_remote'], axis=1)"
   ]
  },
  {
   "cell_type": "markdown",
   "id": "b470059a-3f86-4d55-90e1-43f5cbf6f30f",
   "metadata": {},
   "source": [
    "## Importing all the expenses datasets ##"
   ]
  },
  {
   "cell_type": "code",
   "execution_count": 42,
   "id": "b7c3d744-32d0-4625-ac87-e336f6f24c21",
   "metadata": {},
   "outputs": [],
   "source": [
    "office_space = pd.read_csv(\"Office_rent.csv\")  \n",
    "remote_expenses = pd.read_csv(\"remoteExpenses.csv\")\n",
    "commute_costs = pd.read_csv(\"Commute Cost.csv\")\n",
    "electricity_rates = pd.read_csv(\"electricity_rates.csv\")\n",
    "col = pd.read_csv(\"cost_of_living_index.csv\")"
   ]
  },
  {
   "cell_type": "code",
   "execution_count": 43,
   "id": "691e9b68-b872-4338-b9e9-aa784117e095",
   "metadata": {},
   "outputs": [
    {
     "data": {
      "text/plain": [
       "80"
      ]
     },
     "execution_count": 43,
     "metadata": {},
     "output_type": "execute_result"
    }
   ],
   "source": [
    "df_wages['State'].nunique()"
   ]
  },
  {
   "cell_type": "code",
   "execution_count": 48,
   "id": "50056fea-c975-4592-af4a-0cc2253daf85",
   "metadata": {},
   "outputs": [],
   "source": [
    "# Original dictionary: full name → abbreviation\n",
    "us_state_abbrev = {\n",
    "    'Alabama': 'AL', 'Alaska': 'AK', 'Arizona': 'AZ', 'Arkansas': 'AR',\n",
    "    'California': 'CA', 'Colorado': 'CO', 'Connecticut': 'CT', 'Delaware': 'DE',\n",
    "    'Florida': 'FL', 'Georgia': 'GA', 'Hawaii': 'HI', 'Idaho': 'ID',\n",
    "    'Illinois': 'IL', 'Indiana': 'IN', 'Iowa': 'IA', 'Kansas': 'KS',\n",
    "    'Kentucky': 'KY', 'Louisiana': 'LA', 'Maine': 'ME', 'Maryland': 'MD',\n",
    "    'Massachusetts': 'MA', 'Michigan': 'MI', 'Minnesota': 'MN',\n",
    "    'Mississippi': 'MS', 'Missouri': 'MO', 'Montana': 'MT', 'Nebraska': 'NE',\n",
    "    'Nevada': 'NV', 'New Hampshire': 'NH', 'New Jersey': 'NJ',\n",
    "    'New Mexico': 'NM', 'New York': 'NY', 'North Carolina': 'NC',\n",
    "    'North Dakota': 'ND', 'Ohio': 'OH', 'Oklahoma': 'OK', 'Oregon': 'OR',\n",
    "    'Pennsylvania': 'PA', 'Rhode Island': 'RI', 'South Carolina': 'SC',\n",
    "    'South Dakota': 'SD', 'Tennessee': 'TN', 'Texas': 'TX', 'Utah': 'UT',\n",
    "    'Vermont': 'VT', 'Virginia': 'VA', 'Washington': 'WA', 'West Virginia': 'WV',\n",
    "    'Wisconsin': 'WI', 'Wyoming': 'WY', 'District of Columbia': 'DC',\n",
    "    'Puerto Rico': 'PR', 'Guam': 'GU', 'Virgin Islands': 'VI'\n",
    "}\n",
    "\n",
    "# Reverse the dictionary: abbreviation → full name\n",
    "abbrev_to_state = {abbr: full for full, abbr in us_state_abbrev.items()}\n",
    "\n",
    "# Updated function to return full state name\n",
    "def normalize_state(state):\n",
    "    if pd.isna(state):\n",
    "        return None\n",
    "    state = state.strip()\n",
    "    # If it's an abbreviation, return full name\n",
    "    return abbrev_to_state.get(state, state)  # fallback to original if not found\n",
    "\n",
    "# Apply to your dataframe\n",
    "df_wages['State'] = df_wages['State'].apply(normalize_state)\n",
    "office_space['State'] = office_space['State'].apply(normalize_state)\n",
    "col['State'] = col['State'].apply(normalize_state)"
   ]
  },
  {
   "cell_type": "code",
   "execution_count": 49,
   "id": "0bf7eabd-b664-4c56-a0e5-bdc30d7e30f8",
   "metadata": {},
   "outputs": [],
   "source": [
    "# # Convert to full state names, not the abbreviations\n",
    "# # Reverse the abbrev dict\n",
    "# abbrev_to_state = {v: k for k, v in us_state_abbrev.items()}\n",
    "\n",
    "# def expand_state_abbrev(abbrev):\n",
    "#     if pd.isna(abbrev):\n",
    "#         return None\n",
    "#     abbrev = abbrev.strip()\n",
    "#     return abbrev_to_state.get(abbrev, abbrev)  # fallback to original if not found\n",
    "\n",
    "# df_wages['State'] = df_wages['State'].apply(expand_state_abbrev)\n"
   ]
  },
  {
   "cell_type": "code",
   "execution_count": 50,
   "id": "2a3f3c28-fd62-4139-99c4-658f0fc33e5c",
   "metadata": {},
   "outputs": [
    {
     "data": {
      "text/plain": [
       "(10533, 6)"
      ]
     },
     "execution_count": 50,
     "metadata": {},
     "output_type": "execute_result"
    }
   ],
   "source": [
    "df_wages.shape"
   ]
  },
  {
   "cell_type": "code",
   "execution_count": 51,
   "id": "6a54a1b4-b1b3-4a50-900b-ff51fb65b6ad",
   "metadata": {},
   "outputs": [
    {
     "data": {
      "text/plain": [
       "Role                   0\n",
       "Salary_in_office       0\n",
       "Experience             0\n",
       "City                 210\n",
       "State               1101\n",
       "Salary_remote       6599\n",
       "dtype: int64"
      ]
     },
     "execution_count": 51,
     "metadata": {},
     "output_type": "execute_result"
    }
   ],
   "source": [
    "df_wages.isna().sum()"
   ]
  },
  {
   "cell_type": "code",
   "execution_count": 52,
   "id": "a5312ae0-f9c6-4e1a-affd-ace688f65af6",
   "metadata": {},
   "outputs": [],
   "source": [
    "df_wages = df_wages[df_wages['State'].notna()]"
   ]
  },
  {
   "cell_type": "code",
   "execution_count": 53,
   "id": "7243c52f-a4b6-4080-a462-a07c8440dc3a",
   "metadata": {},
   "outputs": [
    {
     "data": {
      "text/plain": [
       "(9432, 6)"
      ]
     },
     "execution_count": 53,
     "metadata": {},
     "output_type": "execute_result"
    }
   ],
   "source": [
    "df_wages.shape"
   ]
  },
  {
   "cell_type": "code",
   "execution_count": 54,
   "id": "21530cde-82ad-4676-82da-05d1b2311375",
   "metadata": {},
   "outputs": [
    {
     "data": {
      "text/html": [
       "<div>\n",
       "<style scoped>\n",
       "    .dataframe tbody tr th:only-of-type {\n",
       "        vertical-align: middle;\n",
       "    }\n",
       "\n",
       "    .dataframe tbody tr th {\n",
       "        vertical-align: top;\n",
       "    }\n",
       "\n",
       "    .dataframe thead th {\n",
       "        text-align: right;\n",
       "    }\n",
       "</style>\n",
       "<table border=\"1\" class=\"dataframe\">\n",
       "  <thead>\n",
       "    <tr style=\"text-align: right;\">\n",
       "      <th></th>\n",
       "      <th>Role</th>\n",
       "      <th>Salary_in_office</th>\n",
       "      <th>Experience</th>\n",
       "      <th>City</th>\n",
       "      <th>State</th>\n",
       "      <th>Salary_remote</th>\n",
       "    </tr>\n",
       "  </thead>\n",
       "  <tbody>\n",
       "    <tr>\n",
       "      <th>0</th>\n",
       "      <td>Software quality assurance tester</td>\n",
       "      <td>146500.0</td>\n",
       "      <td>Entry</td>\n",
       "      <td>Bloomington</td>\n",
       "      <td>Minnesota</td>\n",
       "      <td>NaN</td>\n",
       "    </tr>\n",
       "    <tr>\n",
       "      <th>1</th>\n",
       "      <td>Software quality assurance tester</td>\n",
       "      <td>29740.0</td>\n",
       "      <td>Entry</td>\n",
       "      <td>Wheat Ridge</td>\n",
       "      <td>Colorado</td>\n",
       "      <td>NaN</td>\n",
       "    </tr>\n",
       "    <tr>\n",
       "      <th>2</th>\n",
       "      <td>Software quality assurance tester</td>\n",
       "      <td>62500.0</td>\n",
       "      <td>Entry</td>\n",
       "      <td>Sacramento</td>\n",
       "      <td>California</td>\n",
       "      <td>NaN</td>\n",
       "    </tr>\n",
       "    <tr>\n",
       "      <th>3</th>\n",
       "      <td>Software quality assurance tester</td>\n",
       "      <td>81500.0</td>\n",
       "      <td>Entry</td>\n",
       "      <td>Naperville</td>\n",
       "      <td>Illinois</td>\n",
       "      <td>NaN</td>\n",
       "    </tr>\n",
       "    <tr>\n",
       "      <th>4</th>\n",
       "      <td>Software quality assurance tester</td>\n",
       "      <td>64000.0</td>\n",
       "      <td>Entry</td>\n",
       "      <td>Dublin</td>\n",
       "      <td>Ohio</td>\n",
       "      <td>NaN</td>\n",
       "    </tr>\n",
       "  </tbody>\n",
       "</table>\n",
       "</div>"
      ],
      "text/plain": [
       "                                  Role  Salary_in_office Experience  \\\n",
       "0   Software quality assurance tester           146500.0      Entry   \n",
       "1   Software quality assurance tester            29740.0      Entry   \n",
       "2   Software quality assurance tester            62500.0      Entry   \n",
       "3   Software quality assurance tester            81500.0      Entry   \n",
       "4   Software quality assurance tester            64000.0      Entry   \n",
       "\n",
       "          City       State  Salary_remote  \n",
       "0  Bloomington   Minnesota            NaN  \n",
       "1  Wheat Ridge    Colorado            NaN  \n",
       "2   Sacramento  California            NaN  \n",
       "3   Naperville    Illinois            NaN  \n",
       "4       Dublin        Ohio            NaN  "
      ]
     },
     "execution_count": 54,
     "metadata": {},
     "output_type": "execute_result"
    }
   ],
   "source": [
    "df_wages.head()"
   ]
  },
  {
   "cell_type": "code",
   "execution_count": 55,
   "id": "c82f19f4-ace6-4581-947d-a989c09eed38",
   "metadata": {},
   "outputs": [],
   "source": [
    "# Extracting only required columns\n",
    "#wages = wages[[\"Role_in_office\",\"Job_title\", \"Company_in_office\", \"City\", \"State\", \"Experience\", \"Salary_in_office\", \"Salary_remote\"]]\n",
    "\n",
    "office_space = office_space[[\"City\", \"State\", \"Avg.OfficeRent_per_sqft\"]]\n",
    "\n",
    "remote_expenses = remote_expenses[[\"State\",\n",
    "                                   \"Avg internet monthly payment\"]]\n",
    "\n",
    "commute_costs = commute_costs[[\"City\", \"State\", \"Annual Commute Cost\"]]"
   ]
  },
  {
   "cell_type": "code",
   "execution_count": 56,
   "id": "5d72cc99-1eaa-46e9-80a3-fca19887678f",
   "metadata": {},
   "outputs": [
    {
     "name": "stderr",
     "output_type": "stream",
     "text": [
      "<>:2: SyntaxWarning: invalid escape sequence '\\$'\n",
      "<>:3: SyntaxWarning: invalid escape sequence '\\$'\n",
      "<>:2: SyntaxWarning: invalid escape sequence '\\$'\n",
      "<>:3: SyntaxWarning: invalid escape sequence '\\$'\n",
      "/var/folders/sx/60_bj5px0wx1bnj278_ft4b40000gn/T/ipykernel_9971/3895420475.py:2: SyntaxWarning: invalid escape sequence '\\$'\n",
      "  office_space['Avg.OfficeRent_per_sqft'] = office_space['Avg.OfficeRent_per_sqft'].replace({'\\$': '', ',': ''}, regex=True).astype(float)\n",
      "/var/folders/sx/60_bj5px0wx1bnj278_ft4b40000gn/T/ipykernel_9971/3895420475.py:3: SyntaxWarning: invalid escape sequence '\\$'\n",
      "  remote_expenses['Avg internet monthly payment'] = remote_expenses['Avg internet monthly payment'].replace({'\\$': '', ',': ''}, regex=True).astype(float)\n"
     ]
    }
   ],
   "source": [
    "# Remove '$' and convert to float\n",
    "office_space['Avg.OfficeRent_per_sqft'] = office_space['Avg.OfficeRent_per_sqft'].replace({'\\$': '', ',': ''}, regex=True).astype(float)\n",
    "remote_expenses['Avg internet monthly payment'] = remote_expenses['Avg internet monthly payment'].replace({'\\$': '', ',': ''}, regex=True).astype(float)\n",
    "electricity_rates['Electricity Price (cents per kWh)'] = electricity_rates['Residential electricity rates'].replace({'¢/kWh': '', ' ': ''}, regex=True).astype(float)\n",
    "commute_costs['Annual Commute Cost'] = (\n",
    "    commute_costs['Annual Commute Cost']\n",
    "    .astype(str)  # Convert to string first\n",
    "    .str.replace(r'[\\$,]', '', regex=True)  # Remove $ and ,\n",
    "    .astype(float)  # Convert back to float\n",
    ")\n"
   ]
  },
  {
   "cell_type": "code",
   "execution_count": 57,
   "id": "1e46d094-3720-4334-82be-ce1d38359885",
   "metadata": {},
   "outputs": [],
   "source": [
    "# Step 1: Merge on both City and State (high precision match)\n",
    "df = df_wages.merge(\n",
    "    office_space, on=[\"City\", \"State\"], how=\"left\", suffixes=('', '_office')\n",
    ")\n"
   ]
  },
  {
   "cell_type": "code",
   "execution_count": 58,
   "id": "543325a1-54f9-440c-8c62-73b2d9c9c567",
   "metadata": {},
   "outputs": [],
   "source": [
    "# Merge with remote expenses on 'State'\n",
    "df = df.merge(remote_expenses, on=\"State\", how=\"left\")"
   ]
  },
  {
   "cell_type": "code",
   "execution_count": 59,
   "id": "62b37bb1-f94b-45fe-9f0e-7273367241e2",
   "metadata": {},
   "outputs": [],
   "source": [
    "# Merge with commute costs on 'City' and 'State'\n",
    "df = df.merge(commute_costs, on=[\"City\", \"State\"], how=\"left\")"
   ]
  },
  {
   "cell_type": "code",
   "execution_count": 60,
   "id": "f7010605-5764-4f5e-a824-2cb2fdc6ac0e",
   "metadata": {},
   "outputs": [],
   "source": [
    "# Merge with electricity on 'State'\n",
    "df = df.merge(electricity_rates, on=\"State\", how=\"left\")"
   ]
  },
  {
   "cell_type": "code",
   "execution_count": 61,
   "id": "ad0c8c4e-d9eb-42f8-b9eb-6333f84908ef",
   "metadata": {},
   "outputs": [],
   "source": [
    "# Merge with COI on 'City' and 'State'\n",
    "df = df.merge(col, on=[\"City\", \"State\"], how=\"left\")"
   ]
  },
  {
   "cell_type": "code",
   "execution_count": 62,
   "id": "c60eb54c-f8c0-4870-81c9-205255dd3b26",
   "metadata": {},
   "outputs": [
    {
     "data": {
      "text/html": [
       "<div>\n",
       "<style scoped>\n",
       "    .dataframe tbody tr th:only-of-type {\n",
       "        vertical-align: middle;\n",
       "    }\n",
       "\n",
       "    .dataframe tbody tr th {\n",
       "        vertical-align: top;\n",
       "    }\n",
       "\n",
       "    .dataframe thead th {\n",
       "        text-align: right;\n",
       "    }\n",
       "</style>\n",
       "<table border=\"1\" class=\"dataframe\">\n",
       "  <thead>\n",
       "    <tr style=\"text-align: right;\">\n",
       "      <th></th>\n",
       "      <th>Role</th>\n",
       "      <th>Salary_in_office</th>\n",
       "      <th>Experience</th>\n",
       "      <th>City</th>\n",
       "      <th>State</th>\n",
       "      <th>Salary_remote</th>\n",
       "      <th>Avg.OfficeRent_per_sqft</th>\n",
       "      <th>Avg internet monthly payment</th>\n",
       "      <th>Annual Commute Cost</th>\n",
       "      <th>Residential electricity rates</th>\n",
       "      <th>Electricity Price (cents per kWh)</th>\n",
       "      <th>Cost of Living Index</th>\n",
       "    </tr>\n",
       "  </thead>\n",
       "  <tbody>\n",
       "    <tr>\n",
       "      <th>9427</th>\n",
       "      <td>Data scientist</td>\n",
       "      <td>247500.0</td>\n",
       "      <td>Senior</td>\n",
       "      <td>San Francisco</td>\n",
       "      <td>California</td>\n",
       "      <td>216000.0</td>\n",
       "      <td>62.20</td>\n",
       "      <td>NaN</td>\n",
       "      <td>12650.66</td>\n",
       "      <td>30.55 ¢/kWh</td>\n",
       "      <td>30.55</td>\n",
       "      <td>178.6</td>\n",
       "    </tr>\n",
       "    <tr>\n",
       "      <th>9428</th>\n",
       "      <td>Data scientist</td>\n",
       "      <td>247500.0</td>\n",
       "      <td>Senior</td>\n",
       "      <td>San Francisco</td>\n",
       "      <td>California</td>\n",
       "      <td>220000.0</td>\n",
       "      <td>62.20</td>\n",
       "      <td>NaN</td>\n",
       "      <td>12650.66</td>\n",
       "      <td>30.55 ¢/kWh</td>\n",
       "      <td>30.55</td>\n",
       "      <td>178.6</td>\n",
       "    </tr>\n",
       "    <tr>\n",
       "      <th>9429</th>\n",
       "      <td>Data scientist</td>\n",
       "      <td>247500.0</td>\n",
       "      <td>Senior</td>\n",
       "      <td>San Francisco</td>\n",
       "      <td>California</td>\n",
       "      <td>193500.0</td>\n",
       "      <td>62.20</td>\n",
       "      <td>NaN</td>\n",
       "      <td>12650.66</td>\n",
       "      <td>30.55 ¢/kWh</td>\n",
       "      <td>30.55</td>\n",
       "      <td>178.6</td>\n",
       "    </tr>\n",
       "    <tr>\n",
       "      <th>9430</th>\n",
       "      <td>Data scientist</td>\n",
       "      <td>203500.0</td>\n",
       "      <td>Senior</td>\n",
       "      <td>Santa Clara</td>\n",
       "      <td>California</td>\n",
       "      <td>214500.0</td>\n",
       "      <td>48.72</td>\n",
       "      <td>NaN</td>\n",
       "      <td>NaN</td>\n",
       "      <td>30.55 ¢/kWh</td>\n",
       "      <td>30.55</td>\n",
       "      <td>NaN</td>\n",
       "    </tr>\n",
       "    <tr>\n",
       "      <th>9431</th>\n",
       "      <td>Data scientist</td>\n",
       "      <td>180000.0</td>\n",
       "      <td>Senior</td>\n",
       "      <td>Point Mugu NAWC</td>\n",
       "      <td>California</td>\n",
       "      <td>NaN</td>\n",
       "      <td>NaN</td>\n",
       "      <td>NaN</td>\n",
       "      <td>NaN</td>\n",
       "      <td>30.55 ¢/kWh</td>\n",
       "      <td>30.55</td>\n",
       "      <td>NaN</td>\n",
       "    </tr>\n",
       "  </tbody>\n",
       "</table>\n",
       "</div>"
      ],
      "text/plain": [
       "                  Role  Salary_in_office Experience             City  \\\n",
       "9427   Data scientist           247500.0     Senior    San Francisco   \n",
       "9428   Data scientist           247500.0     Senior    San Francisco   \n",
       "9429   Data scientist           247500.0     Senior    San Francisco   \n",
       "9430   Data scientist           203500.0     Senior      Santa Clara   \n",
       "9431   Data scientist           180000.0     Senior  Point Mugu NAWC   \n",
       "\n",
       "           State  Salary_remote  Avg.OfficeRent_per_sqft  \\\n",
       "9427  California       216000.0                    62.20   \n",
       "9428  California       220000.0                    62.20   \n",
       "9429  California       193500.0                    62.20   \n",
       "9430  California       214500.0                    48.72   \n",
       "9431  California            NaN                      NaN   \n",
       "\n",
       "      Avg internet monthly payment  Annual Commute Cost  \\\n",
       "9427                           NaN             12650.66   \n",
       "9428                           NaN             12650.66   \n",
       "9429                           NaN             12650.66   \n",
       "9430                           NaN                  NaN   \n",
       "9431                           NaN                  NaN   \n",
       "\n",
       "     Residential electricity rates  Electricity Price (cents per kWh)  \\\n",
       "9427                   30.55 ¢/kWh                              30.55   \n",
       "9428                   30.55 ¢/kWh                              30.55   \n",
       "9429                   30.55 ¢/kWh                              30.55   \n",
       "9430                   30.55 ¢/kWh                              30.55   \n",
       "9431                   30.55 ¢/kWh                              30.55   \n",
       "\n",
       "      Cost of Living Index  \n",
       "9427                 178.6  \n",
       "9428                 178.6  \n",
       "9429                 178.6  \n",
       "9430                   NaN  \n",
       "9431                   NaN  "
      ]
     },
     "execution_count": 62,
     "metadata": {},
     "output_type": "execute_result"
    }
   ],
   "source": [
    "df.tail()"
   ]
  },
  {
   "cell_type": "code",
   "execution_count": 63,
   "id": "ea2ac58c-072a-472a-92e8-69ab2d6b4e8f",
   "metadata": {},
   "outputs": [],
   "source": [
    "df = df.drop(['Residential electricity rates'], axis=1)"
   ]
  },
  {
   "cell_type": "code",
   "execution_count": 64,
   "id": "fa0b9e70-6883-4652-b2b2-6b1e12576baa",
   "metadata": {},
   "outputs": [],
   "source": [
    "# Compute state-wise means from original datasets\n",
    "office_rent_mean = office_space.groupby(\"State\")[\"Avg.OfficeRent_per_sqft\"].mean()\n",
    "electricity_mean = electricity_rates.groupby(\"State\")[\"Electricity Price (cents per kWh)\"].mean()\n",
    "internet_mean = remote_expenses.groupby(\"State\")[\"Avg internet monthly payment\"].mean()\n",
    "commute_mean = commute_costs.groupby(\"State\")[\"Annual Commute Cost\"].mean()\n",
    "col_mean = col.groupby(\"State\")[\"Cost of Living Index\"].mean()"
   ]
  },
  {
   "cell_type": "code",
   "execution_count": 65,
   "id": "176aacd8-b6f5-4e01-93c0-709c3261e74f",
   "metadata": {},
   "outputs": [],
   "source": [
    "# Merge these mean values into df\n",
    "df = df.merge(office_rent_mean, on=\"State\", how=\"left\", suffixes=(\"\", \"_mean\"))\n",
    "df = df.merge(electricity_mean, on=\"State\", how=\"left\", suffixes=(\"\", \"_mean\"))\n",
    "df = df.merge(internet_mean, on=\"State\", how=\"left\", suffixes=(\"\", \"_mean\"))\n",
    "df = df.merge(commute_mean, on=\"State\", how=\"left\", suffixes=(\"\", \"_mean\"))\n",
    "df = df.merge(col_mean, on=\"State\", how=\"left\", suffixes=(\"\", \"_mean\"))"
   ]
  },
  {
   "cell_type": "code",
   "execution_count": 66,
   "id": "39bb04bb-2da1-4662-9820-701d21d91d3f",
   "metadata": {},
   "outputs": [],
   "source": [
    "# Columns to fill NaN values\n",
    "columns_to_fill = [\n",
    "    'Avg.OfficeRent_per_sqft',\n",
    "    'Electricity Price (cents per kWh)',\n",
    "    'Avg internet monthly payment',\n",
    "    'Annual Commute Cost',\n",
    "    'Cost of Living Index'\n",
    "]\n",
    "\n",
    "# Fill NaN values using the state-wise mean from the original datasets\n",
    "for column in columns_to_fill:\n",
    "    df[column] = df[column].fillna(df[column + \"_mean\"])\n",
    "\n",
    "# Drop the extra \"_mean\" columns after filling\n",
    "df = df.drop(columns=[col + \"_mean\" for col in columns_to_fill])\n"
   ]
  },
  {
   "cell_type": "code",
   "execution_count": 67,
   "id": "32a61396-8e42-42a0-ab98-e39ccfc30d43",
   "metadata": {},
   "outputs": [
    {
     "data": {
      "text/plain": [
       "Role                                    0\n",
       "Salary_in_office                        0\n",
       "Experience                              0\n",
       "City                                  208\n",
       "State                                   0\n",
       "Salary_remote                        6441\n",
       "Avg.OfficeRent_per_sqft               109\n",
       "Avg internet monthly payment         6135\n",
       "Annual Commute Cost                   629\n",
       "Electricity Price (cents per kWh)     372\n",
       "Cost of Living Index                   19\n",
       "dtype: int64"
      ]
     },
     "execution_count": 67,
     "metadata": {},
     "output_type": "execute_result"
    }
   ],
   "source": [
    "df.isna().sum()"
   ]
  },
  {
   "cell_type": "code",
   "execution_count": 68,
   "id": "717f1e28-513f-4017-b020-a0576bcd904e",
   "metadata": {},
   "outputs": [],
   "source": [
    "# Fill NaN values with the average costs\n",
    "df['Avg.OfficeRent_per_sqft'] = df['Avg.OfficeRent_per_sqft'].fillna(df['Avg.OfficeRent_per_sqft'].mean())\n",
    "df['Avg internet monthly payment'] = df['Avg internet monthly payment'].fillna(df['Avg internet monthly payment'].mean())\n",
    "df['Annual Commute Cost'] = df['Annual Commute Cost'].fillna(df['Annual Commute Cost'].mean())\n",
    "df['Electricity Price (cents per kWh)'] = df['Electricity Price (cents per kWh)'].fillna(df['Electricity Price (cents per kWh)'].mean())\n",
    "df['Cost of Living Index'] = df['Cost of Living Index'].fillna(df['Cost of Living Index'].mean())"
   ]
  },
  {
   "cell_type": "code",
   "execution_count": 69,
   "id": "9634ed4b-0c16-4f95-be5c-645923ee38f8",
   "metadata": {},
   "outputs": [
    {
     "data": {
      "text/plain": [
       "Role                                    0\n",
       "Salary_in_office                        0\n",
       "Experience                              0\n",
       "City                                  208\n",
       "State                                   0\n",
       "Salary_remote                        6441\n",
       "Avg.OfficeRent_per_sqft                 0\n",
       "Avg internet monthly payment            0\n",
       "Annual Commute Cost                     0\n",
       "Electricity Price (cents per kWh)       0\n",
       "Cost of Living Index                    0\n",
       "dtype: int64"
      ]
     },
     "execution_count": 69,
     "metadata": {},
     "output_type": "execute_result"
    }
   ],
   "source": [
    "df.isna().sum()"
   ]
  },
  {
   "cell_type": "code",
   "execution_count": 70,
   "id": "17f6df1b-e1fe-4f9d-b964-a4886a9bbbf1",
   "metadata": {},
   "outputs": [
    {
     "data": {
      "text/html": [
       "<div>\n",
       "<style scoped>\n",
       "    .dataframe tbody tr th:only-of-type {\n",
       "        vertical-align: middle;\n",
       "    }\n",
       "\n",
       "    .dataframe tbody tr th {\n",
       "        vertical-align: top;\n",
       "    }\n",
       "\n",
       "    .dataframe thead th {\n",
       "        text-align: right;\n",
       "    }\n",
       "</style>\n",
       "<table border=\"1\" class=\"dataframe\">\n",
       "  <thead>\n",
       "    <tr style=\"text-align: right;\">\n",
       "      <th></th>\n",
       "      <th>Role</th>\n",
       "      <th>Salary_in_office</th>\n",
       "      <th>Experience</th>\n",
       "      <th>City</th>\n",
       "      <th>State</th>\n",
       "      <th>Salary_remote</th>\n",
       "      <th>Avg.OfficeRent_per_sqft</th>\n",
       "      <th>Avg internet monthly payment</th>\n",
       "      <th>Annual Commute Cost</th>\n",
       "      <th>Electricity Price (cents per kWh)</th>\n",
       "      <th>Cost of Living Index</th>\n",
       "    </tr>\n",
       "  </thead>\n",
       "  <tbody>\n",
       "    <tr>\n",
       "      <th>0</th>\n",
       "      <td>Software quality assurance tester</td>\n",
       "      <td>146500.0</td>\n",
       "      <td>Entry</td>\n",
       "      <td>Bloomington</td>\n",
       "      <td>Minnesota</td>\n",
       "      <td>NaN</td>\n",
       "      <td>28.080000</td>\n",
       "      <td>68.660000</td>\n",
       "      <td>5231.865</td>\n",
       "      <td>14.05</td>\n",
       "      <td>98.114286</td>\n",
       "    </tr>\n",
       "    <tr>\n",
       "      <th>1</th>\n",
       "      <td>Software quality assurance tester</td>\n",
       "      <td>29740.0</td>\n",
       "      <td>Entry</td>\n",
       "      <td>Wheat Ridge</td>\n",
       "      <td>Colorado</td>\n",
       "      <td>NaN</td>\n",
       "      <td>25.378333</td>\n",
       "      <td>80.830164</td>\n",
       "      <td>5740.878</td>\n",
       "      <td>15.16</td>\n",
       "      <td>108.300000</td>\n",
       "    </tr>\n",
       "    <tr>\n",
       "      <th>2</th>\n",
       "      <td>Software quality assurance tester</td>\n",
       "      <td>62500.0</td>\n",
       "      <td>Entry</td>\n",
       "      <td>Sacramento</td>\n",
       "      <td>California</td>\n",
       "      <td>NaN</td>\n",
       "      <td>26.200000</td>\n",
       "      <td>80.830164</td>\n",
       "      <td>5912.240</td>\n",
       "      <td>30.55</td>\n",
       "      <td>120.300000</td>\n",
       "    </tr>\n",
       "    <tr>\n",
       "      <th>3</th>\n",
       "      <td>Software quality assurance tester</td>\n",
       "      <td>81500.0</td>\n",
       "      <td>Entry</td>\n",
       "      <td>Naperville</td>\n",
       "      <td>Illinois</td>\n",
       "      <td>NaN</td>\n",
       "      <td>23.220000</td>\n",
       "      <td>80.830164</td>\n",
       "      <td>7041.830</td>\n",
       "      <td>15.99</td>\n",
       "      <td>88.058333</td>\n",
       "    </tr>\n",
       "    <tr>\n",
       "      <th>4</th>\n",
       "      <td>Software quality assurance tester</td>\n",
       "      <td>64000.0</td>\n",
       "      <td>Entry</td>\n",
       "      <td>Dublin</td>\n",
       "      <td>Ohio</td>\n",
       "      <td>NaN</td>\n",
       "      <td>21.740000</td>\n",
       "      <td>80.830164</td>\n",
       "      <td>4054.520</td>\n",
       "      <td>15.98</td>\n",
       "      <td>88.804545</td>\n",
       "    </tr>\n",
       "  </tbody>\n",
       "</table>\n",
       "</div>"
      ],
      "text/plain": [
       "                                  Role  Salary_in_office Experience  \\\n",
       "0   Software quality assurance tester           146500.0      Entry   \n",
       "1   Software quality assurance tester            29740.0      Entry   \n",
       "2   Software quality assurance tester            62500.0      Entry   \n",
       "3   Software quality assurance tester            81500.0      Entry   \n",
       "4   Software quality assurance tester            64000.0      Entry   \n",
       "\n",
       "          City       State  Salary_remote  Avg.OfficeRent_per_sqft  \\\n",
       "0  Bloomington   Minnesota            NaN                28.080000   \n",
       "1  Wheat Ridge    Colorado            NaN                25.378333   \n",
       "2   Sacramento  California            NaN                26.200000   \n",
       "3   Naperville    Illinois            NaN                23.220000   \n",
       "4       Dublin        Ohio            NaN                21.740000   \n",
       "\n",
       "   Avg internet monthly payment  Annual Commute Cost  \\\n",
       "0                     68.660000             5231.865   \n",
       "1                     80.830164             5740.878   \n",
       "2                     80.830164             5912.240   \n",
       "3                     80.830164             7041.830   \n",
       "4                     80.830164             4054.520   \n",
       "\n",
       "   Electricity Price (cents per kWh)  Cost of Living Index  \n",
       "0                              14.05             98.114286  \n",
       "1                              15.16            108.300000  \n",
       "2                              30.55            120.300000  \n",
       "3                              15.99             88.058333  \n",
       "4                              15.98             88.804545  "
      ]
     },
     "execution_count": 70,
     "metadata": {},
     "output_type": "execute_result"
    }
   ],
   "source": [
    "df.head()"
   ]
  },
  {
   "cell_type": "code",
   "execution_count": 71,
   "id": "dd27070e-9153-4cbe-9684-09ee896fdbd2",
   "metadata": {},
   "outputs": [],
   "source": [
    "#Rounding up decimals\n",
    "df[['Avg.OfficeRent_per_sqft','Avg internet monthly payment','Annual Commute Cost','Cost of Living Index']] = df[['Avg.OfficeRent_per_sqft','Avg internet monthly payment','Annual Commute Cost','Cost of Living Index']].round(2)"
   ]
  },
  {
   "cell_type": "code",
   "execution_count": 72,
   "id": "b1e0c24a-c8fb-4034-9d05-d4bf84c535d8",
   "metadata": {},
   "outputs": [
    {
     "data": {
      "text/plain": [
       "array(['Software quality assurance tester', 'Accountant',\n",
       "       'Cybersecurity engineer', 'Data scientist',\n",
       "       'Database administrator', 'Management analyst', 'Security analyst',\n",
       "       'Operations research analyst', 'Network administrator',\n",
       "       'Web developer'], dtype=object)"
      ]
     },
     "execution_count": 72,
     "metadata": {},
     "output_type": "execute_result"
    }
   ],
   "source": [
    "df['Role'] = df['Role'].str.strip()\n",
    "df['Role'].unique()"
   ]
  },
  {
   "cell_type": "code",
   "execution_count": 73,
   "id": "559da3d6-ab77-48dc-a05a-11a4d8b4eefa",
   "metadata": {},
   "outputs": [
    {
     "data": {
      "text/plain": [
       "array(['Entry', 'Senior', 'Mid'], dtype=object)"
      ]
     },
     "execution_count": 73,
     "metadata": {},
     "output_type": "execute_result"
    }
   ],
   "source": [
    "df['Experience'].unique()"
   ]
  },
  {
   "cell_type": "markdown",
   "id": "e9530533-62c2-441d-a85e-7fc2e72e5774",
   "metadata": {},
   "source": [
    "### Feature Engineering ###"
   ]
  },
  {
   "cell_type": "code",
   "execution_count": 75,
   "id": "ba607af2-8b6f-488e-9da9-733f8a3d7246",
   "metadata": {},
   "outputs": [
    {
     "data": {
      "text/html": [
       "<div>\n",
       "<style scoped>\n",
       "    .dataframe tbody tr th:only-of-type {\n",
       "        vertical-align: middle;\n",
       "    }\n",
       "\n",
       "    .dataframe tbody tr th {\n",
       "        vertical-align: top;\n",
       "    }\n",
       "\n",
       "    .dataframe thead th {\n",
       "        text-align: right;\n",
       "    }\n",
       "</style>\n",
       "<table border=\"1\" class=\"dataframe\">\n",
       "  <thead>\n",
       "    <tr style=\"text-align: right;\">\n",
       "      <th></th>\n",
       "      <th>Role</th>\n",
       "      <th>Salary_in_office</th>\n",
       "      <th>Experience</th>\n",
       "      <th>City</th>\n",
       "      <th>State</th>\n",
       "      <th>Salary_remote</th>\n",
       "      <th>Avg.OfficeRent_per_sqft</th>\n",
       "      <th>Avg internet monthly payment</th>\n",
       "      <th>Annual Commute Cost</th>\n",
       "      <th>Electricity Price (cents per kWh)</th>\n",
       "      <th>Cost of Living Index</th>\n",
       "      <th>adjusted_national_salary</th>\n",
       "    </tr>\n",
       "  </thead>\n",
       "  <tbody>\n",
       "    <tr>\n",
       "      <th>0</th>\n",
       "      <td>Software quality assurance tester</td>\n",
       "      <td>146500.0</td>\n",
       "      <td>Entry</td>\n",
       "      <td>Bloomington</td>\n",
       "      <td>Minnesota</td>\n",
       "      <td>54941.6</td>\n",
       "      <td>28.08</td>\n",
       "      <td>68.66</td>\n",
       "      <td>5231.86</td>\n",
       "      <td>14.05</td>\n",
       "      <td>98.11</td>\n",
       "      <td>56000.0</td>\n",
       "    </tr>\n",
       "    <tr>\n",
       "      <th>1</th>\n",
       "      <td>Software quality assurance tester</td>\n",
       "      <td>29740.0</td>\n",
       "      <td>Entry</td>\n",
       "      <td>Wheat Ridge</td>\n",
       "      <td>Colorado</td>\n",
       "      <td>60648.0</td>\n",
       "      <td>25.38</td>\n",
       "      <td>80.83</td>\n",
       "      <td>5740.88</td>\n",
       "      <td>15.16</td>\n",
       "      <td>108.30</td>\n",
       "      <td>56000.0</td>\n",
       "    </tr>\n",
       "    <tr>\n",
       "      <th>2</th>\n",
       "      <td>Software quality assurance tester</td>\n",
       "      <td>62500.0</td>\n",
       "      <td>Entry</td>\n",
       "      <td>Sacramento</td>\n",
       "      <td>California</td>\n",
       "      <td>67368.0</td>\n",
       "      <td>26.20</td>\n",
       "      <td>80.83</td>\n",
       "      <td>5912.24</td>\n",
       "      <td>30.55</td>\n",
       "      <td>120.30</td>\n",
       "      <td>56000.0</td>\n",
       "    </tr>\n",
       "    <tr>\n",
       "      <th>3</th>\n",
       "      <td>Software quality assurance tester</td>\n",
       "      <td>81500.0</td>\n",
       "      <td>Entry</td>\n",
       "      <td>Naperville</td>\n",
       "      <td>Illinois</td>\n",
       "      <td>49313.6</td>\n",
       "      <td>23.22</td>\n",
       "      <td>80.83</td>\n",
       "      <td>7041.83</td>\n",
       "      <td>15.99</td>\n",
       "      <td>88.06</td>\n",
       "      <td>56000.0</td>\n",
       "    </tr>\n",
       "    <tr>\n",
       "      <th>4</th>\n",
       "      <td>Software quality assurance tester</td>\n",
       "      <td>64000.0</td>\n",
       "      <td>Entry</td>\n",
       "      <td>Dublin</td>\n",
       "      <td>Ohio</td>\n",
       "      <td>49728.0</td>\n",
       "      <td>21.74</td>\n",
       "      <td>80.83</td>\n",
       "      <td>4054.52</td>\n",
       "      <td>15.98</td>\n",
       "      <td>88.80</td>\n",
       "      <td>56000.0</td>\n",
       "    </tr>\n",
       "  </tbody>\n",
       "</table>\n",
       "</div>"
      ],
      "text/plain": [
       "                                Role  Salary_in_office Experience  \\\n",
       "0  Software quality assurance tester          146500.0      Entry   \n",
       "1  Software quality assurance tester           29740.0      Entry   \n",
       "2  Software quality assurance tester           62500.0      Entry   \n",
       "3  Software quality assurance tester           81500.0      Entry   \n",
       "4  Software quality assurance tester           64000.0      Entry   \n",
       "\n",
       "          City       State  Salary_remote  Avg.OfficeRent_per_sqft  \\\n",
       "0  Bloomington   Minnesota        54941.6                    28.08   \n",
       "1  Wheat Ridge    Colorado        60648.0                    25.38   \n",
       "2   Sacramento  California        67368.0                    26.20   \n",
       "3   Naperville    Illinois        49313.6                    23.22   \n",
       "4       Dublin        Ohio        49728.0                    21.74   \n",
       "\n",
       "   Avg internet monthly payment  Annual Commute Cost  \\\n",
       "0                         68.66              5231.86   \n",
       "1                         80.83              5740.88   \n",
       "2                         80.83              5912.24   \n",
       "3                         80.83              7041.83   \n",
       "4                         80.83              4054.52   \n",
       "\n",
       "   Electricity Price (cents per kWh)  Cost of Living Index  \\\n",
       "0                              14.05                 98.11   \n",
       "1                              15.16                108.30   \n",
       "2                              30.55                120.30   \n",
       "3                              15.99                 88.06   \n",
       "4                              15.98                 88.80   \n",
       "\n",
       "   adjusted_national_salary  \n",
       "0                   56000.0  \n",
       "1                   56000.0  \n",
       "2                   56000.0  \n",
       "3                   56000.0  \n",
       "4                   56000.0  "
      ]
     },
     "execution_count": 75,
     "metadata": {},
     "output_type": "execute_result"
    }
   ],
   "source": [
    "# Populating remote salary\n",
    "\n",
    "# Dictionary of national average salaries by role\n",
    "national_avg_salary = {\n",
    "    'Accountant': 56930,  # Source: https://www.jobted.com/salary\n",
    "    'Cybersecurity engineer': 102500,  # Estimated average\n",
    "    'Data scientist': 100000,  # Estimated average\n",
    "    'Database administrator': 93000,  # Estimated average\n",
    "    'Security analyst': 95000,  # Estimated average\n",
    "    'Network administrator': 80000,  # Estimated average\n",
    "    'Operations research analyst': 85000,  # Source: https://www.jobted.com/salary\n",
    "    'Software quality assurance tester': 70000,  # Estimated average\n",
    "    'Web developer': 75000,  # Estimated average\n",
    "    'Management analyst': 95000  # Source: https://www.jobted.com/salary\n",
    "}\n",
    "\n",
    "# Map experience level to salary multipliers\n",
    "experience_multiplier = {\n",
    "    'Entry': 0.80,  # 80% of national average\n",
    "    'Mid': 1.00,    # 100% of national average\n",
    "    'Senior': 1.20  # 120% of national average\n",
    "}\n",
    "\n",
    "# Adjust national salary based on experience level\n",
    "df['adjusted_national_salary'] = df.apply(\n",
    "    lambda row: national_avg_salary.get(row['Role'], 0) * experience_multiplier.get(row['Experience'], 1),\n",
    "    axis=1\n",
    ")\n",
    "\n",
    "#Calculate Salary_remote only for rows where it's missing or zero\n",
    "df['Salary_remote'] = df.apply(\n",
    "    lambda row: row['Salary_remote'] if pd.notna(row['Salary_remote']) and row['Salary_remote'] > 0 \n",
    "    else row['adjusted_national_salary'] * row['Cost of Living Index'] / 100,\n",
    "    axis=1\n",
    ")\n",
    "\n",
    "# Show the updated dataframe\n",
    "df.head()\n"
   ]
  },
  {
   "cell_type": "code",
   "execution_count": 76,
   "id": "0ca4f6e1-fd63-4a28-b4ac-2107de4230d7",
   "metadata": {},
   "outputs": [],
   "source": [
    "# Calculate remote work expenses: Rent, Electricity, Internet cost, and Annual Commute Cost\n",
    "df['Remote Work Expenses'] = (\n",
    "    df['Electricity Price (cents per kWh)'] * 900 * 12 / 100 +  # Annual electricity cost, assuming 900 kWh/month\n",
    "    df['Avg internet monthly payment'] * 12  # Annual internet cost\n",
    ")"
   ]
  },
  {
   "cell_type": "code",
   "execution_count": 77,
   "id": "b4fb70f6-03ff-4fb2-a053-1235c1f76ac5",
   "metadata": {},
   "outputs": [],
   "source": [
    "# Assuming average office space per employee is 150 sqft\n",
    "average_office_space_per_employee = 150  # square feet\n",
    "\n",
    "# Calculate office rent for in-office workers\n",
    "df['Office Rent'] = df['Avg.OfficeRent_per_sqft'] * average_office_space_per_employee * 12\n",
    "\n",
    "# Calculate the total in-office expenses, including office space rent\n",
    "df['In-Office Expenses'] = (\n",
    "    df['Annual Commute Cost'] +  # Annual commute cost\n",
    "    df['Office Rent']  # Office rent cost for the company\n",
    ")"
   ]
  },
  {
   "cell_type": "code",
   "execution_count": 78,
   "id": "37291eec-4801-4ae5-a568-ffff7aa46d7d",
   "metadata": {},
   "outputs": [],
   "source": [
    "df['Total In-office salary'] = df['Salary_in_office'] + df['In-Office Expenses'].fillna(0)\n",
    "df['Total Remote salary'] = df['Salary_remote'] + df['Remote Work Expenses'].fillna(0)"
   ]
  },
  {
   "cell_type": "code",
   "execution_count": 79,
   "id": "40e95ac6-41ba-48d4-90e1-91b344872a84",
   "metadata": {},
   "outputs": [],
   "source": [
    "# Compute Remote vs Office Cost Ratio\n",
    "df['remote_vs_office_cost_ratio'] = df['Total Remote salary'] / df['Total In-office salary']"
   ]
  },
  {
   "cell_type": "code",
   "execution_count": 80,
   "id": "d735fac6-ab83-499f-b6c0-97dc69609a24",
   "metadata": {},
   "outputs": [
    {
     "data": {
      "text/html": [
       "<div>\n",
       "<style scoped>\n",
       "    .dataframe tbody tr th:only-of-type {\n",
       "        vertical-align: middle;\n",
       "    }\n",
       "\n",
       "    .dataframe tbody tr th {\n",
       "        vertical-align: top;\n",
       "    }\n",
       "\n",
       "    .dataframe thead th {\n",
       "        text-align: right;\n",
       "    }\n",
       "</style>\n",
       "<table border=\"1\" class=\"dataframe\">\n",
       "  <thead>\n",
       "    <tr style=\"text-align: right;\">\n",
       "      <th></th>\n",
       "      <th>Role</th>\n",
       "      <th>Salary_in_office</th>\n",
       "      <th>Experience</th>\n",
       "      <th>City</th>\n",
       "      <th>State</th>\n",
       "      <th>Salary_remote</th>\n",
       "      <th>Avg.OfficeRent_per_sqft</th>\n",
       "      <th>Avg internet monthly payment</th>\n",
       "      <th>Annual Commute Cost</th>\n",
       "      <th>Electricity Price (cents per kWh)</th>\n",
       "      <th>Cost of Living Index</th>\n",
       "      <th>adjusted_national_salary</th>\n",
       "      <th>Remote Work Expenses</th>\n",
       "      <th>Office Rent</th>\n",
       "      <th>In-Office Expenses</th>\n",
       "      <th>Total In-office salary</th>\n",
       "      <th>Total Remote salary</th>\n",
       "      <th>remote_vs_office_cost_ratio</th>\n",
       "    </tr>\n",
       "  </thead>\n",
       "  <tbody>\n",
       "    <tr>\n",
       "      <th>0</th>\n",
       "      <td>Software quality assurance tester</td>\n",
       "      <td>146500.0</td>\n",
       "      <td>Entry</td>\n",
       "      <td>Bloomington</td>\n",
       "      <td>Minnesota</td>\n",
       "      <td>54941.6</td>\n",
       "      <td>28.08</td>\n",
       "      <td>68.66</td>\n",
       "      <td>5231.86</td>\n",
       "      <td>14.05</td>\n",
       "      <td>98.11</td>\n",
       "      <td>56000.0</td>\n",
       "      <td>2341.32</td>\n",
       "      <td>50544.0</td>\n",
       "      <td>55775.86</td>\n",
       "      <td>202275.86</td>\n",
       "      <td>57282.92</td>\n",
       "      <td>0.283192</td>\n",
       "    </tr>\n",
       "    <tr>\n",
       "      <th>1</th>\n",
       "      <td>Software quality assurance tester</td>\n",
       "      <td>29740.0</td>\n",
       "      <td>Entry</td>\n",
       "      <td>Wheat Ridge</td>\n",
       "      <td>Colorado</td>\n",
       "      <td>60648.0</td>\n",
       "      <td>25.38</td>\n",
       "      <td>80.83</td>\n",
       "      <td>5740.88</td>\n",
       "      <td>15.16</td>\n",
       "      <td>108.30</td>\n",
       "      <td>56000.0</td>\n",
       "      <td>2607.24</td>\n",
       "      <td>45684.0</td>\n",
       "      <td>51424.88</td>\n",
       "      <td>81164.88</td>\n",
       "      <td>63255.24</td>\n",
       "      <td>0.779342</td>\n",
       "    </tr>\n",
       "    <tr>\n",
       "      <th>2</th>\n",
       "      <td>Software quality assurance tester</td>\n",
       "      <td>62500.0</td>\n",
       "      <td>Entry</td>\n",
       "      <td>Sacramento</td>\n",
       "      <td>California</td>\n",
       "      <td>67368.0</td>\n",
       "      <td>26.20</td>\n",
       "      <td>80.83</td>\n",
       "      <td>5912.24</td>\n",
       "      <td>30.55</td>\n",
       "      <td>120.30</td>\n",
       "      <td>56000.0</td>\n",
       "      <td>4269.36</td>\n",
       "      <td>47160.0</td>\n",
       "      <td>53072.24</td>\n",
       "      <td>115572.24</td>\n",
       "      <td>71637.36</td>\n",
       "      <td>0.619849</td>\n",
       "    </tr>\n",
       "    <tr>\n",
       "      <th>3</th>\n",
       "      <td>Software quality assurance tester</td>\n",
       "      <td>81500.0</td>\n",
       "      <td>Entry</td>\n",
       "      <td>Naperville</td>\n",
       "      <td>Illinois</td>\n",
       "      <td>49313.6</td>\n",
       "      <td>23.22</td>\n",
       "      <td>80.83</td>\n",
       "      <td>7041.83</td>\n",
       "      <td>15.99</td>\n",
       "      <td>88.06</td>\n",
       "      <td>56000.0</td>\n",
       "      <td>2696.88</td>\n",
       "      <td>41796.0</td>\n",
       "      <td>48837.83</td>\n",
       "      <td>130337.83</td>\n",
       "      <td>52010.48</td>\n",
       "      <td>0.399044</td>\n",
       "    </tr>\n",
       "    <tr>\n",
       "      <th>4</th>\n",
       "      <td>Software quality assurance tester</td>\n",
       "      <td>64000.0</td>\n",
       "      <td>Entry</td>\n",
       "      <td>Dublin</td>\n",
       "      <td>Ohio</td>\n",
       "      <td>49728.0</td>\n",
       "      <td>21.74</td>\n",
       "      <td>80.83</td>\n",
       "      <td>4054.52</td>\n",
       "      <td>15.98</td>\n",
       "      <td>88.80</td>\n",
       "      <td>56000.0</td>\n",
       "      <td>2695.80</td>\n",
       "      <td>39132.0</td>\n",
       "      <td>43186.52</td>\n",
       "      <td>107186.52</td>\n",
       "      <td>52423.80</td>\n",
       "      <td>0.489089</td>\n",
       "    </tr>\n",
       "  </tbody>\n",
       "</table>\n",
       "</div>"
      ],
      "text/plain": [
       "                                Role  Salary_in_office Experience  \\\n",
       "0  Software quality assurance tester          146500.0      Entry   \n",
       "1  Software quality assurance tester           29740.0      Entry   \n",
       "2  Software quality assurance tester           62500.0      Entry   \n",
       "3  Software quality assurance tester           81500.0      Entry   \n",
       "4  Software quality assurance tester           64000.0      Entry   \n",
       "\n",
       "          City       State  Salary_remote  Avg.OfficeRent_per_sqft  \\\n",
       "0  Bloomington   Minnesota        54941.6                    28.08   \n",
       "1  Wheat Ridge    Colorado        60648.0                    25.38   \n",
       "2   Sacramento  California        67368.0                    26.20   \n",
       "3   Naperville    Illinois        49313.6                    23.22   \n",
       "4       Dublin        Ohio        49728.0                    21.74   \n",
       "\n",
       "   Avg internet monthly payment  Annual Commute Cost  \\\n",
       "0                         68.66              5231.86   \n",
       "1                         80.83              5740.88   \n",
       "2                         80.83              5912.24   \n",
       "3                         80.83              7041.83   \n",
       "4                         80.83              4054.52   \n",
       "\n",
       "   Electricity Price (cents per kWh)  Cost of Living Index  \\\n",
       "0                              14.05                 98.11   \n",
       "1                              15.16                108.30   \n",
       "2                              30.55                120.30   \n",
       "3                              15.99                 88.06   \n",
       "4                              15.98                 88.80   \n",
       "\n",
       "   adjusted_national_salary  Remote Work Expenses  Office Rent  \\\n",
       "0                   56000.0               2341.32      50544.0   \n",
       "1                   56000.0               2607.24      45684.0   \n",
       "2                   56000.0               4269.36      47160.0   \n",
       "3                   56000.0               2696.88      41796.0   \n",
       "4                   56000.0               2695.80      39132.0   \n",
       "\n",
       "   In-Office Expenses  Total In-office salary  Total Remote salary  \\\n",
       "0            55775.86               202275.86             57282.92   \n",
       "1            51424.88                81164.88             63255.24   \n",
       "2            53072.24               115572.24             71637.36   \n",
       "3            48837.83               130337.83             52010.48   \n",
       "4            43186.52               107186.52             52423.80   \n",
       "\n",
       "   remote_vs_office_cost_ratio  \n",
       "0                     0.283192  \n",
       "1                     0.779342  \n",
       "2                     0.619849  \n",
       "3                     0.399044  \n",
       "4                     0.489089  "
      ]
     },
     "execution_count": 80,
     "metadata": {},
     "output_type": "execute_result"
    }
   ],
   "source": [
    "df.head()"
   ]
  },
  {
   "cell_type": "code",
   "execution_count": 81,
   "id": "e5826a2b-4c77-41da-8554-9a5c7d9ced5a",
   "metadata": {},
   "outputs": [
    {
     "data": {
      "text/plain": [
       "Role                                   0\n",
       "Salary_in_office                       0\n",
       "Experience                             0\n",
       "City                                 208\n",
       "State                                  0\n",
       "Salary_remote                          0\n",
       "Avg.OfficeRent_per_sqft                0\n",
       "Avg internet monthly payment           0\n",
       "Annual Commute Cost                    0\n",
       "Electricity Price (cents per kWh)      0\n",
       "Cost of Living Index                   0\n",
       "adjusted_national_salary               0\n",
       "Remote Work Expenses                   0\n",
       "Office Rent                            0\n",
       "In-Office Expenses                     0\n",
       "Total In-office salary                 0\n",
       "Total Remote salary                    0\n",
       "remote_vs_office_cost_ratio            0\n",
       "dtype: int64"
      ]
     },
     "execution_count": 81,
     "metadata": {},
     "output_type": "execute_result"
    }
   ],
   "source": [
    "df.isna().sum()"
   ]
  },
  {
   "cell_type": "code",
   "execution_count": 122,
   "id": "632f98ac-9cae-4796-85d5-4f12f6220080",
   "metadata": {},
   "outputs": [
    {
     "data": {
      "text/plain": [
       "array(['Minnesota', 'Colorado', 'California', 'Illinois', 'Ohio',\n",
       "       'Michigan', 'New Jersey', 'North Carolina', 'Massachusetts',\n",
       "       'Florida', 'Texas', 'Alaska', 'New York', 'New Mexico', 'Oklahoma',\n",
       "       'Georgia', 'Alabama', 'Puerto Rico', 'Utah', 'Wyoming', 'Nebraska',\n",
       "       'Kentucky', 'Missouri', 'Virginia', 'Louisiana',\n",
       "       'District of Columbia', 'Tennessee', 'Kansas', 'Nevada', 'Iowa',\n",
       "       'Pennsylvania', 'Washington', 'Maryland', 'Arkansas', 'Vermont',\n",
       "       'Wisconsin', 'Maine', 'Arizona', 'Hawaii', 'Connecticut',\n",
       "       'South Carolina', 'Oregon', 'Indiana', 'New Hampshire', 'Delaware',\n",
       "       'Idaho', 'West Virginia', 'Montana', 'Virgin Islands',\n",
       "       'Rhode Island', 'South Dakota', 'Guam', 'Mississippi',\n",
       "       'North Dakota'], dtype=object)"
      ]
     },
     "execution_count": 122,
     "metadata": {},
     "output_type": "execute_result"
    }
   ],
   "source": [
    "df['State'].unique()"
   ]
  },
  {
   "cell_type": "code",
   "execution_count": 83,
   "id": "ba35a60d-c132-438c-9ed8-cf82f288cc3c",
   "metadata": {},
   "outputs": [
    {
     "data": {
      "image/png": "[encoded data removed]",
      "text/plain": [
       "<Figure size 1200x600 with 1 Axes>"
      ]
     },
     "metadata": {},
     "output_type": "display_data"
    }
   ],
   "source": [
    "df_grouped = df.groupby(\"State\")[\"remote_vs_office_cost_ratio\"].mean().reset_index()\n",
    "\n",
    "plt.figure(figsize=(12,6))\n",
    "sns.barplot(x='State', y='remote_vs_office_cost_ratio', data=df_grouped)\n",
    "plt.xticks(rotation=90)\n",
    "plt.title('Average Remote vs Office Cost Ratio by State')\n",
    "plt.show()"
   ]
  },
  {
   "cell_type": "code",
   "execution_count": 124,
   "id": "a17e05be-faa9-4584-b0bc-88c153c155b9",
   "metadata": {},
   "outputs": [],
   "source": [
    "df.to_csv('Final_Dataset_PrivateJobs.csv')"
   ]
  },
  {
   "cell_type": "code",
   "execution_count": 17,
   "id": "efaea498-afe0-4341-93b4-63b394d87b91",
   "metadata": {},
   "outputs": [
    {
     "data": {
      "text/plain": [
       "(575, 19)"
      ]
     },
     "execution_count": 17,
     "metadata": {},
     "output_type": "execute_result"
    }
   ],
   "source": [
    "df1 = pd.read_csv('Final_Dataset_PrivateJobs.csv')\n",
    "df2 = pd.read_csv('Final_Dataset_IT_Project_Manager.csv')\n",
    "df2.shape"
   ]
  },
  {
   "cell_type": "code",
   "execution_count": 19,
   "id": "1937110d-bd0c-4489-936e-b4026f10b55a",
   "metadata": {},
   "outputs": [
    {
     "data": {
      "text/plain": [
       "Index(['Unnamed: 0', 'Role', 'Salary_in_office', 'Experience', 'City', 'State',\n",
       "       'Salary_remote', 'Avg.OfficeRent_per_sqft',\n",
       "       'Avg internet monthly payment', 'Annual Commute Cost',\n",
       "       'Electricity Price (cents per kWh)', 'Cost of Living Index',\n",
       "       'adjusted_national_salary', 'Remote Work Expenses', 'Office Rent',\n",
       "       'In-Office Expenses', 'Total In-office salary', 'Total Remote salary',\n",
       "       'remote_vs_office_cost_ratio'],\n",
       "      dtype='object')"
      ]
     },
     "execution_count": 19,
     "metadata": {},
     "output_type": "execute_result"
    }
   ],
   "source": [
    "df1.columns"
   ]
  },
  {
   "cell_type": "code",
   "execution_count": 21,
   "id": "c62e728d-6962-4a14-b7e9-a1a7ed94b55e",
   "metadata": {},
   "outputs": [
    {
     "data": {
      "text/plain": [
       "Index(['Unnamed: 0', 'Role', 'City', 'State', 'Experience', 'Salary_in_office',\n",
       "       'Salary_remote', 'Avg.OfficeRent_per_sqft',\n",
       "       'Avg internet monthly payment', 'Annual Commute Cost',\n",
       "       'Cost of Living Index', 'Electricity Price (cents per kWh)',\n",
       "       'adjusted_national_salary', 'Remote Work Expenses', 'Office Rent',\n",
       "       'In-Office Expenses', 'Total In-office salary', 'Total Remote salary',\n",
       "       'remote_vs_office_cost_ratio'],\n",
       "      dtype='object')"
      ]
     },
     "execution_count": 21,
     "metadata": {},
     "output_type": "execute_result"
    }
   ],
   "source": [
    "df2.columns"
   ]
  },
  {
   "cell_type": "code",
   "execution_count": 23,
   "id": "a185e716-8518-48bc-96f1-952d862bc44b",
   "metadata": {},
   "outputs": [],
   "source": [
    "# Drop 'Unnamed: 0' column as it’s not useful for concatenation\n",
    "df1 = df1.drop(columns=['Unnamed: 0'])\n",
    "df2 = df2.drop(columns=['Unnamed: 0'])"
   ]
  },
  {
   "cell_type": "code",
   "execution_count": 25,
   "id": "3244f4ef-921d-4a2b-af99-b33cb1c02a56",
   "metadata": {},
   "outputs": [
    {
     "data": {
      "text/html": [
       "<div>\n",
       "<style scoped>\n",
       "    .dataframe tbody tr th:only-of-type {\n",
       "        vertical-align: middle;\n",
       "    }\n",
       "\n",
       "    .dataframe tbody tr th {\n",
       "        vertical-align: top;\n",
       "    }\n",
       "\n",
       "    .dataframe thead th {\n",
       "        text-align: right;\n",
       "    }\n",
       "</style>\n",
       "<table border=\"1\" class=\"dataframe\">\n",
       "  <thead>\n",
       "    <tr style=\"text-align: right;\">\n",
       "      <th></th>\n",
       "      <th>Role</th>\n",
       "      <th>Salary_in_office</th>\n",
       "      <th>Experience</th>\n",
       "      <th>City</th>\n",
       "      <th>State</th>\n",
       "      <th>Salary_remote</th>\n",
       "      <th>Avg.OfficeRent_per_sqft</th>\n",
       "      <th>Avg internet monthly payment</th>\n",
       "      <th>Annual Commute Cost</th>\n",
       "      <th>Electricity Price (cents per kWh)</th>\n",
       "      <th>Cost of Living Index</th>\n",
       "      <th>adjusted_national_salary</th>\n",
       "      <th>Remote Work Expenses</th>\n",
       "      <th>Office Rent</th>\n",
       "      <th>In-Office Expenses</th>\n",
       "      <th>Total In-office salary</th>\n",
       "      <th>Total Remote salary</th>\n",
       "      <th>remote_vs_office_cost_ratio</th>\n",
       "    </tr>\n",
       "  </thead>\n",
       "  <tbody>\n",
       "    <tr>\n",
       "      <th>0</th>\n",
       "      <td>Software quality assurance tester</td>\n",
       "      <td>146500.0</td>\n",
       "      <td>Entry</td>\n",
       "      <td>Bloomington</td>\n",
       "      <td>Minnesota</td>\n",
       "      <td>54941.6</td>\n",
       "      <td>28.08</td>\n",
       "      <td>68.66</td>\n",
       "      <td>5231.86</td>\n",
       "      <td>14.05</td>\n",
       "      <td>98.11</td>\n",
       "      <td>56000.0</td>\n",
       "      <td>2341.32</td>\n",
       "      <td>50544.0</td>\n",
       "      <td>55775.86</td>\n",
       "      <td>202275.86</td>\n",
       "      <td>57282.92</td>\n",
       "      <td>0.283192</td>\n",
       "    </tr>\n",
       "    <tr>\n",
       "      <th>1</th>\n",
       "      <td>Software quality assurance tester</td>\n",
       "      <td>29740.0</td>\n",
       "      <td>Entry</td>\n",
       "      <td>Wheat Ridge</td>\n",
       "      <td>Colorado</td>\n",
       "      <td>60648.0</td>\n",
       "      <td>25.38</td>\n",
       "      <td>80.83</td>\n",
       "      <td>5740.88</td>\n",
       "      <td>15.16</td>\n",
       "      <td>108.30</td>\n",
       "      <td>56000.0</td>\n",
       "      <td>2607.24</td>\n",
       "      <td>45684.0</td>\n",
       "      <td>51424.88</td>\n",
       "      <td>81164.88</td>\n",
       "      <td>63255.24</td>\n",
       "      <td>0.779342</td>\n",
       "    </tr>\n",
       "    <tr>\n",
       "      <th>2</th>\n",
       "      <td>Software quality assurance tester</td>\n",
       "      <td>62500.0</td>\n",
       "      <td>Entry</td>\n",
       "      <td>Sacramento</td>\n",
       "      <td>California</td>\n",
       "      <td>67368.0</td>\n",
       "      <td>26.20</td>\n",
       "      <td>80.83</td>\n",
       "      <td>5912.24</td>\n",
       "      <td>30.55</td>\n",
       "      <td>120.30</td>\n",
       "      <td>56000.0</td>\n",
       "      <td>4269.36</td>\n",
       "      <td>47160.0</td>\n",
       "      <td>53072.24</td>\n",
       "      <td>115572.24</td>\n",
       "      <td>71637.36</td>\n",
       "      <td>0.619849</td>\n",
       "    </tr>\n",
       "    <tr>\n",
       "      <th>3</th>\n",
       "      <td>Software quality assurance tester</td>\n",
       "      <td>81500.0</td>\n",
       "      <td>Entry</td>\n",
       "      <td>Naperville</td>\n",
       "      <td>Illinois</td>\n",
       "      <td>49313.6</td>\n",
       "      <td>23.22</td>\n",
       "      <td>80.83</td>\n",
       "      <td>7041.83</td>\n",
       "      <td>15.99</td>\n",
       "      <td>88.06</td>\n",
       "      <td>56000.0</td>\n",
       "      <td>2696.88</td>\n",
       "      <td>41796.0</td>\n",
       "      <td>48837.83</td>\n",
       "      <td>130337.83</td>\n",
       "      <td>52010.48</td>\n",
       "      <td>0.399044</td>\n",
       "    </tr>\n",
       "    <tr>\n",
       "      <th>4</th>\n",
       "      <td>Software quality assurance tester</td>\n",
       "      <td>64000.0</td>\n",
       "      <td>Entry</td>\n",
       "      <td>Dublin</td>\n",
       "      <td>Ohio</td>\n",
       "      <td>49728.0</td>\n",
       "      <td>21.74</td>\n",
       "      <td>80.83</td>\n",
       "      <td>4054.52</td>\n",
       "      <td>15.98</td>\n",
       "      <td>88.80</td>\n",
       "      <td>56000.0</td>\n",
       "      <td>2695.80</td>\n",
       "      <td>39132.0</td>\n",
       "      <td>43186.52</td>\n",
       "      <td>107186.52</td>\n",
       "      <td>52423.80</td>\n",
       "      <td>0.489089</td>\n",
       "    </tr>\n",
       "  </tbody>\n",
       "</table>\n",
       "</div>"
      ],
      "text/plain": [
       "                                Role  Salary_in_office Experience  \\\n",
       "0  Software quality assurance tester          146500.0      Entry   \n",
       "1  Software quality assurance tester           29740.0      Entry   \n",
       "2  Software quality assurance tester           62500.0      Entry   \n",
       "3  Software quality assurance tester           81500.0      Entry   \n",
       "4  Software quality assurance tester           64000.0      Entry   \n",
       "\n",
       "          City       State  Salary_remote  Avg.OfficeRent_per_sqft  \\\n",
       "0  Bloomington   Minnesota        54941.6                    28.08   \n",
       "1  Wheat Ridge    Colorado        60648.0                    25.38   \n",
       "2   Sacramento  California        67368.0                    26.20   \n",
       "3   Naperville    Illinois        49313.6                    23.22   \n",
       "4       Dublin        Ohio        49728.0                    21.74   \n",
       "\n",
       "   Avg internet monthly payment  Annual Commute Cost  \\\n",
       "0                         68.66              5231.86   \n",
       "1                         80.83              5740.88   \n",
       "2                         80.83              5912.24   \n",
       "3                         80.83              7041.83   \n",
       "4                         80.83              4054.52   \n",
       "\n",
       "   Electricity Price (cents per kWh)  Cost of Living Index  \\\n",
       "0                              14.05                 98.11   \n",
       "1                              15.16                108.30   \n",
       "2                              30.55                120.30   \n",
       "3                              15.99                 88.06   \n",
       "4                              15.98                 88.80   \n",
       "\n",
       "   adjusted_national_salary  Remote Work Expenses  Office Rent  \\\n",
       "0                   56000.0               2341.32      50544.0   \n",
       "1                   56000.0               2607.24      45684.0   \n",
       "2                   56000.0               4269.36      47160.0   \n",
       "3                   56000.0               2696.88      41796.0   \n",
       "4                   56000.0               2695.80      39132.0   \n",
       "\n",
       "   In-Office Expenses  Total In-office salary  Total Remote salary  \\\n",
       "0            55775.86               202275.86             57282.92   \n",
       "1            51424.88                81164.88             63255.24   \n",
       "2            53072.24               115572.24             71637.36   \n",
       "3            48837.83               130337.83             52010.48   \n",
       "4            43186.52               107186.52             52423.80   \n",
       "\n",
       "   remote_vs_office_cost_ratio  \n",
       "0                     0.283192  \n",
       "1                     0.779342  \n",
       "2                     0.619849  \n",
       "3                     0.399044  \n",
       "4                     0.489089  "
      ]
     },
     "execution_count": 25,
     "metadata": {},
     "output_type": "execute_result"
    }
   ],
   "source": [
    "# Concatenate dataframes (by default, this will stack rows)\n",
    "df_combined = pd.concat([df1, df2], ignore_index=True)\n",
    "\n",
    "# Reset the index if you want a fresh index for the combined dataframe\n",
    "df_combined = df_combined.reset_index(drop=True)\n",
    "\n",
    "# Show the first few rows of the combined dataframe\n",
    "df_combined.head()"
   ]
  },
  {
   "cell_type": "code",
   "execution_count": 27,
   "id": "fcb477fb-34fe-4ac6-a8b1-7ca98d04b2df",
   "metadata": {},
   "outputs": [],
   "source": [
    "df_combined.to_csv('Final_Dataset_PrivateJobs.csv')"
   ]
  },
  {
   "cell_type": "code",
   "execution_count": 29,
   "id": "ba9537cc-b38c-4ddd-8c7b-af948c2ddb15",
   "metadata": {},
   "outputs": [
    {
     "data": {
      "text/plain": [
       "(10007, 18)"
      ]
     },
     "execution_count": 29,
     "metadata": {},
     "output_type": "execute_result"
    }
   ],
   "source": [
    "df_combined.shape"
   ]
  },
  {
   "cell_type": "markdown",
   "id": "de277d78-a802-4c69-bc8d-d26fa899bf7d",
   "metadata": {},
   "source": [
    "### Combining Private and Federal datasets ###"
   ]
  },
  {
   "cell_type": "code",
   "execution_count": 4,
   "id": "96c4bd4b-f719-45a1-a22f-7e9b2014d28f",
   "metadata": {},
   "outputs": [],
   "source": [
    "df_private = pd.read_csv('Final_Dataset_PrivateJobs.csv')\n",
    "df_federal = pd.read_csv('Final_Dataset_FederalJobs.csv')"
   ]
  },
  {
   "cell_type": "code",
   "execution_count": 12,
   "id": "89c57044-1b4b-44a6-8f88-6fd57672ba5a",
   "metadata": {},
   "outputs": [
    {
     "name": "stdout",
     "output_type": "stream",
     "text": [
      "Index(['Unnamed: 0', 'Role', 'Salary_in_office', 'Experience', 'City', 'State',\n",
      "       'Salary_remote', 'Avg.OfficeRent_per_sqft',\n",
      "       'Avg internet monthly payment', 'Annual Commute Cost',\n",
      "       'Electricity Price (cents per kWh)', 'Cost of Living Index',\n",
      "       'adjusted_national_salary', 'Remote Work Expenses', 'Office Rent',\n",
      "       'In-Office Expenses', 'Total In-office salary', 'Total Remote salary',\n",
      "       'remote_vs_office_cost_ratio', 'Sector'],\n",
      "      dtype='object')\n",
      "Index(['Unnamed: 0', 'Job Title', 'City', 'State', 'Salary_in_office', 'Role',\n",
      "       'Avg.OfficeRent_per_sqft', 'Avg internet monthly payment',\n",
      "       'Annual Commute Cost', 'Electricity Price (cents per kWh)',\n",
      "       'Cost of Living Index', 'National_Avg_Salary', 'Salary_remote',\n",
      "       'Remote Work Expenses', 'Office Rent', 'In-Office Expenses',\n",
      "       'Total In-office salary', 'Total Remote salary',\n",
      "       'remote_vs_office_cost_ratio', 'Sector'],\n",
      "      dtype='object')\n"
     ]
    }
   ],
   "source": [
    "print(df_private.columns)\n",
    "print(df_federal.columns)"
   ]
  },
  {
   "cell_type": "code",
   "execution_count": 10,
   "id": "5322cb03-22a2-4683-911b-90ef2e6cf4d2",
   "metadata": {},
   "outputs": [],
   "source": [
    "df_private['Sector'] = 'Private'\n",
    "df_federal['Sector'] = 'Federal'\n",
    "df_federal['Experience'] = 'Mid'"
   ]
  },
  {
   "cell_type": "code",
   "execution_count": 36,
   "id": "9b89c6d4-9ec5-4f6d-a912-4a761aade986",
   "metadata": {},
   "outputs": [],
   "source": [
    "df_federal.drop('Job Title', axis=1, inplace=True)\n",
    "df_federal.drop('Unnamed: 0', axis=1, inplace=True)\n",
    "df_private.drop('Unnamed: 0', axis=1, inplace=True)"
   ]
  },
  {
   "cell_type": "code",
   "execution_count": 40,
   "id": "d8b9d90c-5d78-4ba0-b054-e1611909f855",
   "metadata": {},
   "outputs": [],
   "source": [
    "df_private.rename(columns = {'adjusted_national_salary':'National_Avg_Salary'}, inplace=True)"
   ]
  },
  {
   "cell_type": "code",
   "execution_count": 42,
   "id": "2710580f-17f5-43af-8d40-8a8b7a9a0674",
   "metadata": {},
   "outputs": [
    {
     "name": "stdout",
     "output_type": "stream",
     "text": [
      "(10007, 19)\n",
      "(370, 19)\n"
     ]
    }
   ],
   "source": [
    "print(df_private.shape)\n",
    "print(df_federal.shape)"
   ]
  },
  {
   "cell_type": "code",
   "execution_count": 44,
   "id": "b197bef7-e7c7-4f33-9853-33bd64845283",
   "metadata": {},
   "outputs": [
    {
     "data": {
      "text/html": [
       "<div>\n",
       "<style scoped>\n",
       "    .dataframe tbody tr th:only-of-type {\n",
       "        vertical-align: middle;\n",
       "    }\n",
       "\n",
       "    .dataframe tbody tr th {\n",
       "        vertical-align: top;\n",
       "    }\n",
       "\n",
       "    .dataframe thead th {\n",
       "        text-align: right;\n",
       "    }\n",
       "</style>\n",
       "<table border=\"1\" class=\"dataframe\">\n",
       "  <thead>\n",
       "    <tr style=\"text-align: right;\">\n",
       "      <th></th>\n",
       "      <th>Role</th>\n",
       "      <th>Salary_in_office</th>\n",
       "      <th>Experience</th>\n",
       "      <th>City</th>\n",
       "      <th>State</th>\n",
       "      <th>Salary_remote</th>\n",
       "      <th>Avg.OfficeRent_per_sqft</th>\n",
       "      <th>Avg internet monthly payment</th>\n",
       "      <th>Annual Commute Cost</th>\n",
       "      <th>Electricity Price (cents per kWh)</th>\n",
       "      <th>Cost of Living Index</th>\n",
       "      <th>National_Avg_Salary</th>\n",
       "      <th>Remote Work Expenses</th>\n",
       "      <th>Office Rent</th>\n",
       "      <th>In-Office Expenses</th>\n",
       "      <th>Total In-office salary</th>\n",
       "      <th>Total Remote salary</th>\n",
       "      <th>remote_vs_office_cost_ratio</th>\n",
       "      <th>Sector</th>\n",
       "    </tr>\n",
       "  </thead>\n",
       "  <tbody>\n",
       "    <tr>\n",
       "      <th>0</th>\n",
       "      <td>Software quality assurance tester</td>\n",
       "      <td>146500.0</td>\n",
       "      <td>Entry</td>\n",
       "      <td>Bloomington</td>\n",
       "      <td>Minnesota</td>\n",
       "      <td>54941.6</td>\n",
       "      <td>28.08</td>\n",
       "      <td>68.66</td>\n",
       "      <td>5231.86</td>\n",
       "      <td>14.05</td>\n",
       "      <td>98.11</td>\n",
       "      <td>56000.0</td>\n",
       "      <td>2341.32</td>\n",
       "      <td>50544.0</td>\n",
       "      <td>55775.86</td>\n",
       "      <td>202275.86</td>\n",
       "      <td>57282.92</td>\n",
       "      <td>0.283192</td>\n",
       "      <td>Private</td>\n",
       "    </tr>\n",
       "    <tr>\n",
       "      <th>1</th>\n",
       "      <td>Software quality assurance tester</td>\n",
       "      <td>29740.0</td>\n",
       "      <td>Entry</td>\n",
       "      <td>Wheat Ridge</td>\n",
       "      <td>Colorado</td>\n",
       "      <td>60648.0</td>\n",
       "      <td>25.38</td>\n",
       "      <td>80.83</td>\n",
       "      <td>5740.88</td>\n",
       "      <td>15.16</td>\n",
       "      <td>108.30</td>\n",
       "      <td>56000.0</td>\n",
       "      <td>2607.24</td>\n",
       "      <td>45684.0</td>\n",
       "      <td>51424.88</td>\n",
       "      <td>81164.88</td>\n",
       "      <td>63255.24</td>\n",
       "      <td>0.779342</td>\n",
       "      <td>Private</td>\n",
       "    </tr>\n",
       "    <tr>\n",
       "      <th>2</th>\n",
       "      <td>Software quality assurance tester</td>\n",
       "      <td>62500.0</td>\n",
       "      <td>Entry</td>\n",
       "      <td>Sacramento</td>\n",
       "      <td>California</td>\n",
       "      <td>67368.0</td>\n",
       "      <td>26.20</td>\n",
       "      <td>80.83</td>\n",
       "      <td>5912.24</td>\n",
       "      <td>30.55</td>\n",
       "      <td>120.30</td>\n",
       "      <td>56000.0</td>\n",
       "      <td>4269.36</td>\n",
       "      <td>47160.0</td>\n",
       "      <td>53072.24</td>\n",
       "      <td>115572.24</td>\n",
       "      <td>71637.36</td>\n",
       "      <td>0.619849</td>\n",
       "      <td>Private</td>\n",
       "    </tr>\n",
       "    <tr>\n",
       "      <th>3</th>\n",
       "      <td>Software quality assurance tester</td>\n",
       "      <td>81500.0</td>\n",
       "      <td>Entry</td>\n",
       "      <td>Naperville</td>\n",
       "      <td>Illinois</td>\n",
       "      <td>49313.6</td>\n",
       "      <td>23.22</td>\n",
       "      <td>80.83</td>\n",
       "      <td>7041.83</td>\n",
       "      <td>15.99</td>\n",
       "      <td>88.06</td>\n",
       "      <td>56000.0</td>\n",
       "      <td>2696.88</td>\n",
       "      <td>41796.0</td>\n",
       "      <td>48837.83</td>\n",
       "      <td>130337.83</td>\n",
       "      <td>52010.48</td>\n",
       "      <td>0.399044</td>\n",
       "      <td>Private</td>\n",
       "    </tr>\n",
       "    <tr>\n",
       "      <th>4</th>\n",
       "      <td>Software quality assurance tester</td>\n",
       "      <td>64000.0</td>\n",
       "      <td>Entry</td>\n",
       "      <td>Dublin</td>\n",
       "      <td>Ohio</td>\n",
       "      <td>49728.0</td>\n",
       "      <td>21.74</td>\n",
       "      <td>80.83</td>\n",
       "      <td>4054.52</td>\n",
       "      <td>15.98</td>\n",
       "      <td>88.80</td>\n",
       "      <td>56000.0</td>\n",
       "      <td>2695.80</td>\n",
       "      <td>39132.0</td>\n",
       "      <td>43186.52</td>\n",
       "      <td>107186.52</td>\n",
       "      <td>52423.80</td>\n",
       "      <td>0.489089</td>\n",
       "      <td>Private</td>\n",
       "    </tr>\n",
       "  </tbody>\n",
       "</table>\n",
       "</div>"
      ],
      "text/plain": [
       "                                Role  Salary_in_office Experience  \\\n",
       "0  Software quality assurance tester          146500.0      Entry   \n",
       "1  Software quality assurance tester           29740.0      Entry   \n",
       "2  Software quality assurance tester           62500.0      Entry   \n",
       "3  Software quality assurance tester           81500.0      Entry   \n",
       "4  Software quality assurance tester           64000.0      Entry   \n",
       "\n",
       "          City       State  Salary_remote  Avg.OfficeRent_per_sqft  \\\n",
       "0  Bloomington   Minnesota        54941.6                    28.08   \n",
       "1  Wheat Ridge    Colorado        60648.0                    25.38   \n",
       "2   Sacramento  California        67368.0                    26.20   \n",
       "3   Naperville    Illinois        49313.6                    23.22   \n",
       "4       Dublin        Ohio        49728.0                    21.74   \n",
       "\n",
       "   Avg internet monthly payment  Annual Commute Cost  \\\n",
       "0                         68.66              5231.86   \n",
       "1                         80.83              5740.88   \n",
       "2                         80.83              5912.24   \n",
       "3                         80.83              7041.83   \n",
       "4                         80.83              4054.52   \n",
       "\n",
       "   Electricity Price (cents per kWh)  Cost of Living Index  \\\n",
       "0                              14.05                 98.11   \n",
       "1                              15.16                108.30   \n",
       "2                              30.55                120.30   \n",
       "3                              15.99                 88.06   \n",
       "4                              15.98                 88.80   \n",
       "\n",
       "   National_Avg_Salary  Remote Work Expenses  Office Rent  In-Office Expenses  \\\n",
       "0              56000.0               2341.32      50544.0            55775.86   \n",
       "1              56000.0               2607.24      45684.0            51424.88   \n",
       "2              56000.0               4269.36      47160.0            53072.24   \n",
       "3              56000.0               2696.88      41796.0            48837.83   \n",
       "4              56000.0               2695.80      39132.0            43186.52   \n",
       "\n",
       "   Total In-office salary  Total Remote salary  remote_vs_office_cost_ratio  \\\n",
       "0               202275.86             57282.92                     0.283192   \n",
       "1                81164.88             63255.24                     0.779342   \n",
       "2               115572.24             71637.36                     0.619849   \n",
       "3               130337.83             52010.48                     0.399044   \n",
       "4               107186.52             52423.80                     0.489089   \n",
       "\n",
       "    Sector  \n",
       "0  Private  \n",
       "1  Private  \n",
       "2  Private  \n",
       "3  Private  \n",
       "4  Private  "
      ]
     },
     "execution_count": 44,
     "metadata": {},
     "output_type": "execute_result"
    }
   ],
   "source": [
    "#Combining both datasets\n",
    "df_combined = pd.concat([df_private, df_federal], ignore_index=True)\n",
    "df_combined.head()"
   ]
  },
  {
   "cell_type": "code",
   "execution_count": 56,
   "id": "1b314254-449e-4c3f-baf2-f80a651d3216",
   "metadata": {},
   "outputs": [],
   "source": [
    "# Cleaning the dataset\n",
    "\n",
    "#Rounding up decimals\n",
    "df_combined[['Electricity Price (cents per kWh)','Avg.OfficeRent_per_sqft','Avg internet monthly payment','Annual Commute Cost','Cost of Living Index','Remote Work Expenses','In-Office Expenses','Total In-office salary','Total Remote salary','remote_vs_office_cost_ratio','Office Rent']] =  df_combined[['Electricity Price (cents per kWh)','Avg.OfficeRent_per_sqft','Avg internet monthly payment','Annual Commute Cost','Cost of Living Index','Remote Work Expenses','In-Office Expenses','Total In-office salary','Total Remote salary','remote_vs_office_cost_ratio','Office Rent']].round(2)"
   ]
  },
  {
   "cell_type": "code",
   "execution_count": 68,
   "id": "a654ddbe-13cc-4555-b4e9-3e238f91c020",
   "metadata": {},
   "outputs": [
    {
     "data": {
      "text/plain": [
       "Role                                   0\n",
       "Salary_in_office                       0\n",
       "Experience                             0\n",
       "City                                 208\n",
       "State                                  0\n",
       "Salary_remote                         16\n",
       "Avg.OfficeRent_per_sqft                0\n",
       "Avg internet monthly payment           0\n",
       "Annual Commute Cost                    0\n",
       "Electricity Price (cents per kWh)      0\n",
       "Cost of Living Index                   0\n",
       "National_Avg_Salary                    0\n",
       "Remote Work Expenses                   0\n",
       "Office Rent                           20\n",
       "In-Office Expenses                    33\n",
       "Total In-office salary                 0\n",
       "Total Remote salary                   16\n",
       "remote_vs_office_cost_ratio           16\n",
       "Sector                                 0\n",
       "dtype: int64"
      ]
     },
     "execution_count": 68,
     "metadata": {},
     "output_type": "execute_result"
    }
   ],
   "source": [
    "df_combined.isna().sum()"
   ]
  },
  {
   "cell_type": "code",
   "execution_count": 66,
   "id": "0ddaefdb-4819-4021-86e8-6ac78ba8b7e7",
   "metadata": {},
   "outputs": [],
   "source": [
    "# # Fill NaN values with the average costs\n",
    "# df_combined['Avg.OfficeRent_per_sqft'] = df_combined['Avg.OfficeRent_per_sqft'].fillna(df_combined['Avg.OfficeRent_per_sqft'].mean())\n",
    "# df_combined['Avg internet monthly payment'] = df_combined['Avg internet monthly payment'].fillna(df_combined['Avg internet monthly payment'].mean())\n",
    "# df_combined['Annual Commute Cost'] = df_combined['Annual Commute Cost'].fillna(df_combined['Annual Commute Cost'].mean())\n",
    "# df_combined['Electricity Price (cents per kWh)'] = df_combined['Electricity Price (cents per kWh)'].fillna(df_combined['Electricity Price (cents per kWh)'].mean())\n",
    "# df_combined['Cost of Living Index'] = df_combined['Cost of Living Index'].fillna(df_combined['Cost of Living Index'].mean())"
   ]
  },
  {
   "cell_type": "code",
   "execution_count": 58,
   "id": "2ec6ac16-8d06-42a1-8936-1f662157eb0c",
   "metadata": {},
   "outputs": [],
   "source": [
    "df_combined.to_csv('Final_Combined_dataset.csv')"
   ]
  }
 ],
 "metadata": {
  "kernelspec": {
   "display_name": "Python 3 (ipykernel)",
   "language": "python",
   "name": "python3"
  },
  "language_info": {
   "codemirror_mode": {
    "name": "ipython",
    "version": 3
   },
   "file_extension": ".py",
   "mimetype": "text/x-python",
   "name": "python",
   "nbconvert_exporter": "python",
   "pygments_lexer": "ipython3",
   "version": "3.12.2"
  }
 },
 "nbformat": 4,
 "nbformat_minor": 5
}
